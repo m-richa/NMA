{
  "nbformat": 4,
  "nbformat_minor": 0,
  "metadata": {
    "accelerator": "GPU",
    "colab": {
      "name": "W1D5_Tutorial1",
      "provenance": [],
      "collapsed_sections": [
        "-PhV30moDGBj",
        "-ERb6jj0DGBj",
        "ZbHrMPJgDGBl",
        "ZK-TtZj2DGBy"
      ],
      "toc_visible": true,
      "include_colab_link": true
    },
    "kernel": {
      "display_name": "Python 3",
      "language": "python",
      "name": "python3"
    },
    "kernelspec": {
      "display_name": "Python 3",
      "name": "python3"
    },
    "language_info": {
      "codemirror_mode": {
        "name": "ipython",
        "version": 3
      },
      "file_extension": ".py",
      "mimetype": "text/x-python",
      "name": "python",
      "nbconvert_exporter": "python",
      "pygments_lexer": "ipython3",
      "version": "3.7.11"
    },
    "widgets": {
      "application/vnd.jupyter.widget-state+json": {
        "564d5c689c274520a079f4a1404f198f": {
          "model_module": "@jupyter-widgets/controls",
          "model_name": "TabModel",
          "state": {
            "_view_name": "TabView",
            "_dom_classes": [],
            "_titles": {
              "0": "Youtube",
              "1": "Bilibili"
            },
            "_model_name": "TabModel",
            "_view_module": "@jupyter-widgets/controls",
            "selected_index": 0,
            "_model_module_version": "1.5.0",
            "_view_count": null,
            "_view_module_version": "1.5.0",
            "box_style": "",
            "layout": "IPY_MODEL_70d5dbda37dc4de290cd13c662a325f2",
            "_model_module": "@jupyter-widgets/controls",
            "children": [
              "IPY_MODEL_667649c8b6484082a9d38eb5a33a9f1b",
              "IPY_MODEL_d354907d53c343d0ae68e0cc8d377a4c"
            ]
          }
        },
        "70d5dbda37dc4de290cd13c662a325f2": {
          "model_module": "@jupyter-widgets/base",
          "model_name": "LayoutModel",
          "state": {
            "_view_name": "LayoutView",
            "grid_template_rows": null,
            "right": null,
            "justify_content": null,
            "_view_module": "@jupyter-widgets/base",
            "overflow": null,
            "_model_module_version": "1.2.0",
            "_view_count": null,
            "flex_flow": null,
            "width": null,
            "min_width": null,
            "border": null,
            "align_items": null,
            "bottom": null,
            "_model_module": "@jupyter-widgets/base",
            "top": null,
            "grid_column": null,
            "overflow_y": null,
            "overflow_x": null,
            "grid_auto_flow": null,
            "grid_area": null,
            "grid_template_columns": null,
            "flex": null,
            "_model_name": "LayoutModel",
            "justify_items": null,
            "grid_row": null,
            "max_height": null,
            "align_content": null,
            "visibility": null,
            "align_self": null,
            "height": null,
            "min_height": null,
            "padding": null,
            "grid_auto_rows": null,
            "grid_gap": null,
            "max_width": null,
            "order": null,
            "_view_module_version": "1.2.0",
            "grid_template_areas": null,
            "object_position": null,
            "object_fit": null,
            "grid_auto_columns": null,
            "margin": null,
            "display": null,
            "left": null
          }
        },
        "667649c8b6484082a9d38eb5a33a9f1b": {
          "model_module": "@jupyter-widgets/output",
          "model_name": "OutputModel",
          "state": {
            "_view_name": "OutputView",
            "msg_id": "",
            "_dom_classes": [],
            "_model_name": "OutputModel",
            "outputs": [
              {
                "output_type": "stream",
                "metadata": {
                  "tags": []
                },
                "text": "Video available at https://youtube.com/watch?v=jhQAnIHTR6A\n",
                "stream": "stdout"
              },
              {
                "output_type": "display_data",
                "metadata": {
                  "tags": []
                },
                "text/html": "\n        <iframe\n            width=\"854\"\n            height=\"480\"\n            src=\"https://www.youtube.com/embed/jhQAnIHTR6A?fs=1&rel=0\"\n            frameborder=\"0\"\n            allowfullscreen\n        ></iframe>\n        ",
                "text/plain": "<IPython.lib.display.YouTubeVideo at 0x7fafd55e2dd0>",
                "image/jpeg": "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\n"
              }
            ],
            "_view_module": "@jupyter-widgets/output",
            "_model_module_version": "1.0.0",
            "_view_count": null,
            "_view_module_version": "1.0.0",
            "layout": "IPY_MODEL_480a10c062db4410b393bf76e529b787",
            "_model_module": "@jupyter-widgets/output"
          }
        },
        "d354907d53c343d0ae68e0cc8d377a4c": {
          "model_module": "@jupyter-widgets/output",
          "model_name": "OutputModel",
          "state": {
            "_view_name": "OutputView",
            "msg_id": "",
            "_dom_classes": [],
            "_model_name": "OutputModel",
            "outputs": [
              {
                "output_type": "stream",
                "metadata": {
                  "tags": []
                },
                "text": "Video available at https://www.bilibili.com/video/BV1mo4y1X76E\n",
                "stream": "stdout"
              },
              {
                "output_type": "display_data",
                "metadata": {
                  "tags": []
                },
                "text/html": "\n        <iframe\n            width=\"854\"\n            height=\"480\"\n            src=\"https://player.bilibili.com/player.html?bvid=BV1mo4y1X76E&page=1?fs=1\"\n            frameborder=\"0\"\n            allowfullscreen\n        ></iframe>\n        ",
                "text/plain": "<__main__.BiliVideo at 0x7faf78512e90>"
              }
            ],
            "_view_module": "@jupyter-widgets/output",
            "_model_module_version": "1.0.0",
            "_view_count": null,
            "_view_module_version": "1.0.0",
            "layout": "IPY_MODEL_c2e81ef9fbe44f2e9e03bbea34fcf1ce",
            "_model_module": "@jupyter-widgets/output"
          }
        },
        "480a10c062db4410b393bf76e529b787": {
          "model_module": "@jupyter-widgets/base",
          "model_name": "LayoutModel",
          "state": {
            "_view_name": "LayoutView",
            "grid_template_rows": null,
            "right": null,
            "justify_content": null,
            "_view_module": "@jupyter-widgets/base",
            "overflow": null,
            "_model_module_version": "1.2.0",
            "_view_count": null,
            "flex_flow": null,
            "width": null,
            "min_width": null,
            "border": null,
            "align_items": null,
            "bottom": null,
            "_model_module": "@jupyter-widgets/base",
            "top": null,
            "grid_column": null,
            "overflow_y": null,
            "overflow_x": null,
            "grid_auto_flow": null,
            "grid_area": null,
            "grid_template_columns": null,
            "flex": null,
            "_model_name": "LayoutModel",
            "justify_items": null,
            "grid_row": null,
            "max_height": null,
            "align_content": null,
            "visibility": null,
            "align_self": null,
            "height": null,
            "min_height": null,
            "padding": null,
            "grid_auto_rows": null,
            "grid_gap": null,
            "max_width": null,
            "order": null,
            "_view_module_version": "1.2.0",
            "grid_template_areas": null,
            "object_position": null,
            "object_fit": null,
            "grid_auto_columns": null,
            "margin": null,
            "display": null,
            "left": null
          }
        },
        "c2e81ef9fbe44f2e9e03bbea34fcf1ce": {
          "model_module": "@jupyter-widgets/base",
          "model_name": "LayoutModel",
          "state": {
            "_view_name": "LayoutView",
            "grid_template_rows": null,
            "right": null,
            "justify_content": null,
            "_view_module": "@jupyter-widgets/base",
            "overflow": null,
            "_model_module_version": "1.2.0",
            "_view_count": null,
            "flex_flow": null,
            "width": null,
            "min_width": null,
            "border": null,
            "align_items": null,
            "bottom": null,
            "_model_module": "@jupyter-widgets/base",
            "top": null,
            "grid_column": null,
            "overflow_y": null,
            "overflow_x": null,
            "grid_auto_flow": null,
            "grid_area": null,
            "grid_template_columns": null,
            "flex": null,
            "_model_name": "LayoutModel",
            "justify_items": null,
            "grid_row": null,
            "max_height": null,
            "align_content": null,
            "visibility": null,
            "align_self": null,
            "height": null,
            "min_height": null,
            "padding": null,
            "grid_auto_rows": null,
            "grid_gap": null,
            "max_width": null,
            "order": null,
            "_view_module_version": "1.2.0",
            "grid_template_areas": null,
            "object_position": null,
            "object_fit": null,
            "grid_auto_columns": null,
            "margin": null,
            "display": null,
            "left": null
          }
        },
        "50d93c67ff7d4e50ad87861804cfd683": {
          "model_module": "@jupyter-widgets/controls",
          "model_name": "TabModel",
          "state": {
            "_view_name": "TabView",
            "_dom_classes": [],
            "_titles": {
              "0": "Youtube",
              "1": "Bilibili"
            },
            "_model_name": "TabModel",
            "_view_module": "@jupyter-widgets/controls",
            "selected_index": 0,
            "_model_module_version": "1.5.0",
            "_view_count": null,
            "_view_module_version": "1.5.0",
            "box_style": "",
            "layout": "IPY_MODEL_6927dc3759eb4dfd9650d8c3810deb0e",
            "_model_module": "@jupyter-widgets/controls",
            "children": [
              "IPY_MODEL_c0c016430c0b4881aedae5e6b6b3340c",
              "IPY_MODEL_37e72c5c7f5d43a782e5f52931db4f99"
            ]
          }
        },
        "6927dc3759eb4dfd9650d8c3810deb0e": {
          "model_module": "@jupyter-widgets/base",
          "model_name": "LayoutModel",
          "state": {
            "_view_name": "LayoutView",
            "grid_template_rows": null,
            "right": null,
            "justify_content": null,
            "_view_module": "@jupyter-widgets/base",
            "overflow": null,
            "_model_module_version": "1.2.0",
            "_view_count": null,
            "flex_flow": null,
            "width": null,
            "min_width": null,
            "border": null,
            "align_items": null,
            "bottom": null,
            "_model_module": "@jupyter-widgets/base",
            "top": null,
            "grid_column": null,
            "overflow_y": null,
            "overflow_x": null,
            "grid_auto_flow": null,
            "grid_area": null,
            "grid_template_columns": null,
            "flex": null,
            "_model_name": "LayoutModel",
            "justify_items": null,
            "grid_row": null,
            "max_height": null,
            "align_content": null,
            "visibility": null,
            "align_self": null,
            "height": null,
            "min_height": null,
            "padding": null,
            "grid_auto_rows": null,
            "grid_gap": null,
            "max_width": null,
            "order": null,
            "_view_module_version": "1.2.0",
            "grid_template_areas": null,
            "object_position": null,
            "object_fit": null,
            "grid_auto_columns": null,
            "margin": null,
            "display": null,
            "left": null
          }
        },
        "c0c016430c0b4881aedae5e6b6b3340c": {
          "model_module": "@jupyter-widgets/output",
          "model_name": "OutputModel",
          "state": {
            "_view_name": "OutputView",
            "msg_id": "",
            "_dom_classes": [],
            "_model_name": "OutputModel",
            "outputs": [
              {
                "output_type": "stream",
                "metadata": {
                  "tags": []
                },
                "text": "Video available at https://youtube.com/watch?v=mhVbJ74upnQ\n",
                "stream": "stdout"
              },
              {
                "output_type": "display_data",
                "metadata": {
                  "tags": []
                },
                "text/html": "\n        <iframe\n            width=\"854\"\n            height=\"480\"\n            src=\"https://www.youtube.com/embed/mhVbJ74upnQ?fs=1&rel=0\"\n            frameborder=\"0\"\n            allowfullscreen\n        ></iframe>\n        ",
                "text/plain": "<IPython.lib.display.YouTubeVideo at 0x7faf7962b790>",
                "image/jpeg": "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\n"
              }
            ],
            "_view_module": "@jupyter-widgets/output",
            "_model_module_version": "1.0.0",
            "_view_count": null,
            "_view_module_version": "1.0.0",
            "layout": "IPY_MODEL_1a8eebb41c254bb082e439c8dcc14060",
            "_model_module": "@jupyter-widgets/output"
          }
        },
        "37e72c5c7f5d43a782e5f52931db4f99": {
          "model_module": "@jupyter-widgets/output",
          "model_name": "OutputModel",
          "state": {
            "_view_name": "OutputView",
            "msg_id": "",
            "_dom_classes": [],
            "_model_name": "OutputModel",
            "outputs": [
              {
                "output_type": "stream",
                "metadata": {
                  "tags": []
                },
                "text": "Video available at https://www.bilibili.com/video/BV1YL411H7Dv\n",
                "stream": "stdout"
              },
              {
                "output_type": "display_data",
                "metadata": {
                  "tags": []
                },
                "text/html": "\n        <iframe\n            width=\"854\"\n            height=\"480\"\n            src=\"https://player.bilibili.com/player.html?bvid=BV1YL411H7Dv&page=1?fs=1\"\n            frameborder=\"0\"\n            allowfullscreen\n        ></iframe>\n        ",
                "text/plain": "<__main__.BiliVideo at 0x7faf76045dd0>"
              }
            ],
            "_view_module": "@jupyter-widgets/output",
            "_model_module_version": "1.0.0",
            "_view_count": null,
            "_view_module_version": "1.0.0",
            "layout": "IPY_MODEL_4107f4d5f45b4db095cdc0a908ad251a",
            "_model_module": "@jupyter-widgets/output"
          }
        },
        "1a8eebb41c254bb082e439c8dcc14060": {
          "model_module": "@jupyter-widgets/base",
          "model_name": "LayoutModel",
          "state": {
            "_view_name": "LayoutView",
            "grid_template_rows": null,
            "right": null,
            "justify_content": null,
            "_view_module": "@jupyter-widgets/base",
            "overflow": null,
            "_model_module_version": "1.2.0",
            "_view_count": null,
            "flex_flow": null,
            "width": null,
            "min_width": null,
            "border": null,
            "align_items": null,
            "bottom": null,
            "_model_module": "@jupyter-widgets/base",
            "top": null,
            "grid_column": null,
            "overflow_y": null,
            "overflow_x": null,
            "grid_auto_flow": null,
            "grid_area": null,
            "grid_template_columns": null,
            "flex": null,
            "_model_name": "LayoutModel",
            "justify_items": null,
            "grid_row": null,
            "max_height": null,
            "align_content": null,
            "visibility": null,
            "align_self": null,
            "height": null,
            "min_height": null,
            "padding": null,
            "grid_auto_rows": null,
            "grid_gap": null,
            "max_width": null,
            "order": null,
            "_view_module_version": "1.2.0",
            "grid_template_areas": null,
            "object_position": null,
            "object_fit": null,
            "grid_auto_columns": null,
            "margin": null,
            "display": null,
            "left": null
          }
        },
        "4107f4d5f45b4db095cdc0a908ad251a": {
          "model_module": "@jupyter-widgets/base",
          "model_name": "LayoutModel",
          "state": {
            "_view_name": "LayoutView",
            "grid_template_rows": null,
            "right": null,
            "justify_content": null,
            "_view_module": "@jupyter-widgets/base",
            "overflow": null,
            "_model_module_version": "1.2.0",
            "_view_count": null,
            "flex_flow": null,
            "width": null,
            "min_width": null,
            "border": null,
            "align_items": null,
            "bottom": null,
            "_model_module": "@jupyter-widgets/base",
            "top": null,
            "grid_column": null,
            "overflow_y": null,
            "overflow_x": null,
            "grid_auto_flow": null,
            "grid_area": null,
            "grid_template_columns": null,
            "flex": null,
            "_model_name": "LayoutModel",
            "justify_items": null,
            "grid_row": null,
            "max_height": null,
            "align_content": null,
            "visibility": null,
            "align_self": null,
            "height": null,
            "min_height": null,
            "padding": null,
            "grid_auto_rows": null,
            "grid_gap": null,
            "max_width": null,
            "order": null,
            "_view_module_version": "1.2.0",
            "grid_template_areas": null,
            "object_position": null,
            "object_fit": null,
            "grid_auto_columns": null,
            "margin": null,
            "display": null,
            "left": null
          }
        },
        "50fbeec2f73146a49c29250b750c037a": {
          "model_module": "@jupyter-widgets/controls",
          "model_name": "TabModel",
          "state": {
            "_view_name": "TabView",
            "_dom_classes": [],
            "_titles": {
              "0": "Youtube",
              "1": "Bilibili"
            },
            "_model_name": "TabModel",
            "_view_module": "@jupyter-widgets/controls",
            "selected_index": 0,
            "_model_module_version": "1.5.0",
            "_view_count": null,
            "_view_module_version": "1.5.0",
            "box_style": "",
            "layout": "IPY_MODEL_de6f46a07eeb487c9d058a196b8b9594",
            "_model_module": "@jupyter-widgets/controls",
            "children": [
              "IPY_MODEL_5e941d19412f4a65959a763afbdfd532",
              "IPY_MODEL_8b515b621989406bb6e00bb28593e6ff"
            ]
          }
        },
        "de6f46a07eeb487c9d058a196b8b9594": {
          "model_module": "@jupyter-widgets/base",
          "model_name": "LayoutModel",
          "state": {
            "_view_name": "LayoutView",
            "grid_template_rows": null,
            "right": null,
            "justify_content": null,
            "_view_module": "@jupyter-widgets/base",
            "overflow": null,
            "_model_module_version": "1.2.0",
            "_view_count": null,
            "flex_flow": null,
            "width": null,
            "min_width": null,
            "border": null,
            "align_items": null,
            "bottom": null,
            "_model_module": "@jupyter-widgets/base",
            "top": null,
            "grid_column": null,
            "overflow_y": null,
            "overflow_x": null,
            "grid_auto_flow": null,
            "grid_area": null,
            "grid_template_columns": null,
            "flex": null,
            "_model_name": "LayoutModel",
            "justify_items": null,
            "grid_row": null,
            "max_height": null,
            "align_content": null,
            "visibility": null,
            "align_self": null,
            "height": null,
            "min_height": null,
            "padding": null,
            "grid_auto_rows": null,
            "grid_gap": null,
            "max_width": null,
            "order": null,
            "_view_module_version": "1.2.0",
            "grid_template_areas": null,
            "object_position": null,
            "object_fit": null,
            "grid_auto_columns": null,
            "margin": null,
            "display": null,
            "left": null
          }
        },
        "5e941d19412f4a65959a763afbdfd532": {
          "model_module": "@jupyter-widgets/output",
          "model_name": "OutputModel",
          "state": {
            "_view_name": "OutputView",
            "msg_id": "",
            "_dom_classes": [],
            "_model_name": "OutputModel",
            "outputs": [
              {
                "output_type": "stream",
                "metadata": {
                  "tags": []
                },
                "text": "Video available at https://youtube.com/watch?v=-HJ_9HxY38g\n",
                "stream": "stdout"
              },
              {
                "output_type": "display_data",
                "metadata": {
                  "tags": []
                },
                "text/html": "\n        <iframe\n            width=\"854\"\n            height=\"480\"\n            src=\"https://www.youtube.com/embed/-HJ_9HxY38g?fs=1&rel=0\"\n            frameborder=\"0\"\n            allowfullscreen\n        ></iframe>\n        ",
                "text/plain": "<IPython.lib.display.YouTubeVideo at 0x7faf767adb10>",
                "image/jpeg": "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\n"
              }
            ],
            "_view_module": "@jupyter-widgets/output",
            "_model_module_version": "1.0.0",
            "_view_count": null,
            "_view_module_version": "1.0.0",
            "layout": "IPY_MODEL_3dc5b64ec0c24d53bf0592f3062c43b9",
            "_model_module": "@jupyter-widgets/output"
          }
        },
        "8b515b621989406bb6e00bb28593e6ff": {
          "model_module": "@jupyter-widgets/output",
          "model_name": "OutputModel",
          "state": {
            "_view_name": "OutputView",
            "msg_id": "",
            "_dom_classes": [],
            "_model_name": "OutputModel",
            "outputs": [
              {
                "output_type": "stream",
                "metadata": {
                  "tags": []
                },
                "text": "Video available at https://www.bilibili.com/video/BV1NX4y1A73i\n",
                "stream": "stdout"
              },
              {
                "output_type": "display_data",
                "metadata": {
                  "tags": []
                },
                "text/html": "\n        <iframe\n            width=\"854\"\n            height=\"480\"\n            src=\"https://player.bilibili.com/player.html?bvid=BV1NX4y1A73i&page=1?fs=1\"\n            frameborder=\"0\"\n            allowfullscreen\n        ></iframe>\n        ",
                "text/plain": "<__main__.BiliVideo at 0x7faf767adad0>"
              }
            ],
            "_view_module": "@jupyter-widgets/output",
            "_model_module_version": "1.0.0",
            "_view_count": null,
            "_view_module_version": "1.0.0",
            "layout": "IPY_MODEL_df1cd22e4dfa4c4a976b378e34d4a16e",
            "_model_module": "@jupyter-widgets/output"
          }
        },
        "3dc5b64ec0c24d53bf0592f3062c43b9": {
          "model_module": "@jupyter-widgets/base",
          "model_name": "LayoutModel",
          "state": {
            "_view_name": "LayoutView",
            "grid_template_rows": null,
            "right": null,
            "justify_content": null,
            "_view_module": "@jupyter-widgets/base",
            "overflow": null,
            "_model_module_version": "1.2.0",
            "_view_count": null,
            "flex_flow": null,
            "width": null,
            "min_width": null,
            "border": null,
            "align_items": null,
            "bottom": null,
            "_model_module": "@jupyter-widgets/base",
            "top": null,
            "grid_column": null,
            "overflow_y": null,
            "overflow_x": null,
            "grid_auto_flow": null,
            "grid_area": null,
            "grid_template_columns": null,
            "flex": null,
            "_model_name": "LayoutModel",
            "justify_items": null,
            "grid_row": null,
            "max_height": null,
            "align_content": null,
            "visibility": null,
            "align_self": null,
            "height": null,
            "min_height": null,
            "padding": null,
            "grid_auto_rows": null,
            "grid_gap": null,
            "max_width": null,
            "order": null,
            "_view_module_version": "1.2.0",
            "grid_template_areas": null,
            "object_position": null,
            "object_fit": null,
            "grid_auto_columns": null,
            "margin": null,
            "display": null,
            "left": null
          }
        },
        "df1cd22e4dfa4c4a976b378e34d4a16e": {
          "model_module": "@jupyter-widgets/base",
          "model_name": "LayoutModel",
          "state": {
            "_view_name": "LayoutView",
            "grid_template_rows": null,
            "right": null,
            "justify_content": null,
            "_view_module": "@jupyter-widgets/base",
            "overflow": null,
            "_model_module_version": "1.2.0",
            "_view_count": null,
            "flex_flow": null,
            "width": null,
            "min_width": null,
            "border": null,
            "align_items": null,
            "bottom": null,
            "_model_module": "@jupyter-widgets/base",
            "top": null,
            "grid_column": null,
            "overflow_y": null,
            "overflow_x": null,
            "grid_auto_flow": null,
            "grid_area": null,
            "grid_template_columns": null,
            "flex": null,
            "_model_name": "LayoutModel",
            "justify_items": null,
            "grid_row": null,
            "max_height": null,
            "align_content": null,
            "visibility": null,
            "align_self": null,
            "height": null,
            "min_height": null,
            "padding": null,
            "grid_auto_rows": null,
            "grid_gap": null,
            "max_width": null,
            "order": null,
            "_view_module_version": "1.2.0",
            "grid_template_areas": null,
            "object_position": null,
            "object_fit": null,
            "grid_auto_columns": null,
            "margin": null,
            "display": null,
            "left": null
          }
        },
        "4d125d05226e4946876d4ee8224ef7fe": {
          "model_module": "@jupyter-widgets/controls",
          "model_name": "HBoxModel",
          "state": {
            "_view_name": "HBoxView",
            "_dom_classes": [],
            "_model_name": "HBoxModel",
            "_view_module": "@jupyter-widgets/controls",
            "_model_module_version": "1.5.0",
            "_view_count": null,
            "_view_module_version": "1.5.0",
            "box_style": "",
            "layout": "IPY_MODEL_6a2673ad3eee496387f697467cb2df5c",
            "_model_module": "@jupyter-widgets/controls",
            "children": [
              "IPY_MODEL_c31b082ada034addac8b94f344e97b6f",
              "IPY_MODEL_ef1d929bb7df469c9a68e55d042d13c3"
            ]
          }
        },
        "6a2673ad3eee496387f697467cb2df5c": {
          "model_module": "@jupyter-widgets/base",
          "model_name": "LayoutModel",
          "state": {
            "_view_name": "LayoutView",
            "grid_template_rows": null,
            "right": null,
            "justify_content": null,
            "_view_module": "@jupyter-widgets/base",
            "overflow": null,
            "_model_module_version": "1.2.0",
            "_view_count": null,
            "flex_flow": null,
            "width": null,
            "min_width": null,
            "border": null,
            "align_items": null,
            "bottom": null,
            "_model_module": "@jupyter-widgets/base",
            "top": null,
            "grid_column": null,
            "overflow_y": null,
            "overflow_x": null,
            "grid_auto_flow": null,
            "grid_area": null,
            "grid_template_columns": null,
            "flex": null,
            "_model_name": "LayoutModel",
            "justify_items": null,
            "grid_row": null,
            "max_height": null,
            "align_content": null,
            "visibility": null,
            "align_self": null,
            "height": null,
            "min_height": null,
            "padding": null,
            "grid_auto_rows": null,
            "grid_gap": null,
            "max_width": null,
            "order": null,
            "_view_module_version": "1.2.0",
            "grid_template_areas": null,
            "object_position": null,
            "object_fit": null,
            "grid_auto_columns": null,
            "margin": null,
            "display": null,
            "left": null
          }
        },
        "c31b082ada034addac8b94f344e97b6f": {
          "model_module": "@jupyter-widgets/controls",
          "model_name": "FloatProgressModel",
          "state": {
            "_view_name": "ProgressView",
            "style": "IPY_MODEL_840336d28771468fb9b025e334cf2f75",
            "_dom_classes": [],
            "description": "100%",
            "_model_name": "FloatProgressModel",
            "bar_style": "success",
            "max": 10000,
            "_view_module": "@jupyter-widgets/controls",
            "_model_module_version": "1.5.0",
            "value": 10000,
            "_view_count": null,
            "_view_module_version": "1.5.0",
            "orientation": "horizontal",
            "min": 0,
            "description_tooltip": null,
            "_model_module": "@jupyter-widgets/controls",
            "layout": "IPY_MODEL_1dc61231f4d14bafa89e19942c936c84"
          }
        },
        "ef1d929bb7df469c9a68e55d042d13c3": {
          "model_module": "@jupyter-widgets/controls",
          "model_name": "HTMLModel",
          "state": {
            "_view_name": "HTMLView",
            "style": "IPY_MODEL_4e37cea9fcb345abbfba8608243b2eb1",
            "_dom_classes": [],
            "description": "",
            "_model_name": "HTMLModel",
            "placeholder": "​",
            "_view_module": "@jupyter-widgets/controls",
            "_model_module_version": "1.5.0",
            "value": " 10000/10000 [00:33&lt;00:00, 298.71it/s]",
            "_view_count": null,
            "_view_module_version": "1.5.0",
            "description_tooltip": null,
            "_model_module": "@jupyter-widgets/controls",
            "layout": "IPY_MODEL_1aa3b201b9f349918af8c1c25a818dbd"
          }
        },
        "840336d28771468fb9b025e334cf2f75": {
          "model_module": "@jupyter-widgets/controls",
          "model_name": "ProgressStyleModel",
          "state": {
            "_view_name": "StyleView",
            "_model_name": "ProgressStyleModel",
            "description_width": "initial",
            "_view_module": "@jupyter-widgets/base",
            "_model_module_version": "1.5.0",
            "_view_count": null,
            "_view_module_version": "1.2.0",
            "bar_color": null,
            "_model_module": "@jupyter-widgets/controls"
          }
        },
        "1dc61231f4d14bafa89e19942c936c84": {
          "model_module": "@jupyter-widgets/base",
          "model_name": "LayoutModel",
          "state": {
            "_view_name": "LayoutView",
            "grid_template_rows": null,
            "right": null,
            "justify_content": null,
            "_view_module": "@jupyter-widgets/base",
            "overflow": null,
            "_model_module_version": "1.2.0",
            "_view_count": null,
            "flex_flow": null,
            "width": null,
            "min_width": null,
            "border": null,
            "align_items": null,
            "bottom": null,
            "_model_module": "@jupyter-widgets/base",
            "top": null,
            "grid_column": null,
            "overflow_y": null,
            "overflow_x": null,
            "grid_auto_flow": null,
            "grid_area": null,
            "grid_template_columns": null,
            "flex": null,
            "_model_name": "LayoutModel",
            "justify_items": null,
            "grid_row": null,
            "max_height": null,
            "align_content": null,
            "visibility": null,
            "align_self": null,
            "height": null,
            "min_height": null,
            "padding": null,
            "grid_auto_rows": null,
            "grid_gap": null,
            "max_width": null,
            "order": null,
            "_view_module_version": "1.2.0",
            "grid_template_areas": null,
            "object_position": null,
            "object_fit": null,
            "grid_auto_columns": null,
            "margin": null,
            "display": null,
            "left": null
          }
        },
        "4e37cea9fcb345abbfba8608243b2eb1": {
          "model_module": "@jupyter-widgets/controls",
          "model_name": "DescriptionStyleModel",
          "state": {
            "_view_name": "StyleView",
            "_model_name": "DescriptionStyleModel",
            "description_width": "",
            "_view_module": "@jupyter-widgets/base",
            "_model_module_version": "1.5.0",
            "_view_count": null,
            "_view_module_version": "1.2.0",
            "_model_module": "@jupyter-widgets/controls"
          }
        },
        "1aa3b201b9f349918af8c1c25a818dbd": {
          "model_module": "@jupyter-widgets/base",
          "model_name": "LayoutModel",
          "state": {
            "_view_name": "LayoutView",
            "grid_template_rows": null,
            "right": null,
            "justify_content": null,
            "_view_module": "@jupyter-widgets/base",
            "overflow": null,
            "_model_module_version": "1.2.0",
            "_view_count": null,
            "flex_flow": null,
            "width": null,
            "min_width": null,
            "border": null,
            "align_items": null,
            "bottom": null,
            "_model_module": "@jupyter-widgets/base",
            "top": null,
            "grid_column": null,
            "overflow_y": null,
            "overflow_x": null,
            "grid_auto_flow": null,
            "grid_area": null,
            "grid_template_columns": null,
            "flex": null,
            "_model_name": "LayoutModel",
            "justify_items": null,
            "grid_row": null,
            "max_height": null,
            "align_content": null,
            "visibility": null,
            "align_self": null,
            "height": null,
            "min_height": null,
            "padding": null,
            "grid_auto_rows": null,
            "grid_gap": null,
            "max_width": null,
            "order": null,
            "_view_module_version": "1.2.0",
            "grid_template_areas": null,
            "object_position": null,
            "object_fit": null,
            "grid_auto_columns": null,
            "margin": null,
            "display": null,
            "left": null
          }
        },
        "84f9faf790f14905a48b603e855e4571": {
          "model_module": "@jupyter-widgets/controls",
          "model_name": "TextareaModel",
          "state": {
            "_view_name": "TextareaView",
            "style": "IPY_MODEL_127adaf79f184afaa4b15e99c8604324",
            "rows": null,
            "_dom_classes": [],
            "description": "",
            "_model_name": "TextareaModel",
            "placeholder": "Type something",
            "_view_module": "@jupyter-widgets/controls",
            "_model_module_version": "1.5.0",
            "value": "The minima of the train loss is around 10000th epoch and for test it increases with every epoch. This shows that the model has not generalised at all with a large test error.",
            "_view_count": null,
            "disabled": false,
            "_view_module_version": "1.5.0",
            "continuous_update": true,
            "description_tooltip": null,
            "_model_module": "@jupyter-widgets/controls",
            "layout": "IPY_MODEL_b38ed2e815e84f1b9f620fb98f94bfba"
          }
        },
        "127adaf79f184afaa4b15e99c8604324": {
          "model_module": "@jupyter-widgets/controls",
          "model_name": "DescriptionStyleModel",
          "state": {
            "_view_name": "StyleView",
            "_model_name": "DescriptionStyleModel",
            "description_width": "",
            "_view_module": "@jupyter-widgets/base",
            "_model_module_version": "1.5.0",
            "_view_count": null,
            "_view_module_version": "1.2.0",
            "_model_module": "@jupyter-widgets/controls"
          }
        },
        "b38ed2e815e84f1b9f620fb98f94bfba": {
          "model_module": "@jupyter-widgets/base",
          "model_name": "LayoutModel",
          "state": {
            "_view_name": "LayoutView",
            "grid_template_rows": null,
            "right": null,
            "justify_content": null,
            "_view_module": "@jupyter-widgets/base",
            "overflow": null,
            "_model_module_version": "1.2.0",
            "_view_count": null,
            "flex_flow": null,
            "width": null,
            "min_width": null,
            "border": null,
            "align_items": null,
            "bottom": null,
            "_model_module": "@jupyter-widgets/base",
            "top": null,
            "grid_column": null,
            "overflow_y": null,
            "overflow_x": null,
            "grid_auto_flow": null,
            "grid_area": null,
            "grid_template_columns": null,
            "flex": null,
            "_model_name": "LayoutModel",
            "justify_items": null,
            "grid_row": null,
            "max_height": null,
            "align_content": null,
            "visibility": null,
            "align_self": null,
            "height": null,
            "min_height": null,
            "padding": null,
            "grid_auto_rows": null,
            "grid_gap": null,
            "max_width": null,
            "order": null,
            "_view_module_version": "1.2.0",
            "grid_template_areas": null,
            "object_position": null,
            "object_fit": null,
            "grid_auto_columns": null,
            "margin": null,
            "display": null,
            "left": null
          }
        },
        "6e93ce2ed5f04d56af94851ed26a4d6d": {
          "model_module": "@jupyter-widgets/controls",
          "model_name": "ButtonModel",
          "state": {
            "_view_name": "ButtonView",
            "style": "IPY_MODEL_d3155efaf3774376bf678cbb7b70f1e5",
            "_dom_classes": [],
            "description": "Submit!",
            "_model_name": "ButtonModel",
            "button_style": "",
            "_view_module": "@jupyter-widgets/controls",
            "_model_module_version": "1.5.0",
            "tooltip": "",
            "_view_count": null,
            "disabled": false,
            "_view_module_version": "1.5.0",
            "layout": "IPY_MODEL_61506698000842e28e6379a34c8ca7ed",
            "_model_module": "@jupyter-widgets/controls",
            "icon": ""
          }
        },
        "d3155efaf3774376bf678cbb7b70f1e5": {
          "model_module": "@jupyter-widgets/controls",
          "model_name": "ButtonStyleModel",
          "state": {
            "_view_name": "StyleView",
            "_model_name": "ButtonStyleModel",
            "_view_module": "@jupyter-widgets/base",
            "_model_module_version": "1.5.0",
            "_view_count": null,
            "button_color": null,
            "font_weight": "",
            "_view_module_version": "1.2.0",
            "_model_module": "@jupyter-widgets/controls"
          }
        },
        "61506698000842e28e6379a34c8ca7ed": {
          "model_module": "@jupyter-widgets/base",
          "model_name": "LayoutModel",
          "state": {
            "_view_name": "LayoutView",
            "grid_template_rows": null,
            "right": null,
            "justify_content": null,
            "_view_module": "@jupyter-widgets/base",
            "overflow": null,
            "_model_module_version": "1.2.0",
            "_view_count": null,
            "flex_flow": null,
            "width": null,
            "min_width": null,
            "border": null,
            "align_items": null,
            "bottom": null,
            "_model_module": "@jupyter-widgets/base",
            "top": null,
            "grid_column": null,
            "overflow_y": null,
            "overflow_x": null,
            "grid_auto_flow": null,
            "grid_area": null,
            "grid_template_columns": null,
            "flex": null,
            "_model_name": "LayoutModel",
            "justify_items": null,
            "grid_row": null,
            "max_height": null,
            "align_content": null,
            "visibility": null,
            "align_self": null,
            "height": null,
            "min_height": null,
            "padding": null,
            "grid_auto_rows": null,
            "grid_gap": null,
            "max_width": null,
            "order": null,
            "_view_module_version": "1.2.0",
            "grid_template_areas": null,
            "object_position": null,
            "object_fit": null,
            "grid_auto_columns": null,
            "margin": null,
            "display": null,
            "left": null
          }
        },
        "e50fd6d44abc4120bd342143e230ffe3": {
          "model_module": "@jupyter-widgets/controls",
          "model_name": "HBoxModel",
          "state": {
            "_view_name": "HBoxView",
            "_dom_classes": [],
            "_model_name": "HBoxModel",
            "_view_module": "@jupyter-widgets/controls",
            "_model_module_version": "1.5.0",
            "_view_count": null,
            "_view_module_version": "1.5.0",
            "box_style": "",
            "layout": "IPY_MODEL_5f64261d4181466fbad8da7f2d88ff77",
            "_model_module": "@jupyter-widgets/controls",
            "children": [
              "IPY_MODEL_5f965748569942bbb694743afae85497",
              "IPY_MODEL_f2b84facde4d4622a3e790fb8e230f61"
            ]
          }
        },
        "5f64261d4181466fbad8da7f2d88ff77": {
          "model_module": "@jupyter-widgets/base",
          "model_name": "LayoutModel",
          "state": {
            "_view_name": "LayoutView",
            "grid_template_rows": null,
            "right": null,
            "justify_content": null,
            "_view_module": "@jupyter-widgets/base",
            "overflow": null,
            "_model_module_version": "1.2.0",
            "_view_count": null,
            "flex_flow": null,
            "width": null,
            "min_width": null,
            "border": null,
            "align_items": null,
            "bottom": null,
            "_model_module": "@jupyter-widgets/base",
            "top": null,
            "grid_column": null,
            "overflow_y": null,
            "overflow_x": null,
            "grid_auto_flow": null,
            "grid_area": null,
            "grid_template_columns": null,
            "flex": null,
            "_model_name": "LayoutModel",
            "justify_items": null,
            "grid_row": null,
            "max_height": null,
            "align_content": null,
            "visibility": null,
            "align_self": null,
            "height": null,
            "min_height": null,
            "padding": null,
            "grid_auto_rows": null,
            "grid_gap": null,
            "max_width": null,
            "order": null,
            "_view_module_version": "1.2.0",
            "grid_template_areas": null,
            "object_position": null,
            "object_fit": null,
            "grid_auto_columns": null,
            "margin": null,
            "display": null,
            "left": null
          }
        },
        "5f965748569942bbb694743afae85497": {
          "model_module": "@jupyter-widgets/controls",
          "model_name": "FloatProgressModel",
          "state": {
            "_view_name": "ProgressView",
            "style": "IPY_MODEL_6f9e00f13c6348bfa20f63d951c0d3f6",
            "_dom_classes": [],
            "description": "100%",
            "_model_name": "FloatProgressModel",
            "bar_style": "success",
            "max": 200,
            "_view_module": "@jupyter-widgets/controls",
            "_model_module_version": "1.5.0",
            "value": 200,
            "_view_count": null,
            "_view_module_version": "1.5.0",
            "orientation": "horizontal",
            "min": 0,
            "description_tooltip": null,
            "_model_module": "@jupyter-widgets/controls",
            "layout": "IPY_MODEL_41c92bbe022445b6816e55e26188e80c"
          }
        },
        "f2b84facde4d4622a3e790fb8e230f61": {
          "model_module": "@jupyter-widgets/controls",
          "model_name": "HTMLModel",
          "state": {
            "_view_name": "HTMLView",
            "style": "IPY_MODEL_f5b1253a30c1455fb8a369e02f4f0c2d",
            "_dom_classes": [],
            "description": "",
            "_model_name": "HTMLModel",
            "placeholder": "​",
            "_view_module": "@jupyter-widgets/controls",
            "_model_module_version": "1.5.0",
            "value": " 200/200 [14:31&lt;00:00,  4.36s/it]",
            "_view_count": null,
            "_view_module_version": "1.5.0",
            "description_tooltip": null,
            "_model_module": "@jupyter-widgets/controls",
            "layout": "IPY_MODEL_c325e44ab09a434ca77b63e84ec4b6ac"
          }
        },
        "6f9e00f13c6348bfa20f63d951c0d3f6": {
          "model_module": "@jupyter-widgets/controls",
          "model_name": "ProgressStyleModel",
          "state": {
            "_view_name": "StyleView",
            "_model_name": "ProgressStyleModel",
            "description_width": "initial",
            "_view_module": "@jupyter-widgets/base",
            "_model_module_version": "1.5.0",
            "_view_count": null,
            "_view_module_version": "1.2.0",
            "bar_color": null,
            "_model_module": "@jupyter-widgets/controls"
          }
        },
        "41c92bbe022445b6816e55e26188e80c": {
          "model_module": "@jupyter-widgets/base",
          "model_name": "LayoutModel",
          "state": {
            "_view_name": "LayoutView",
            "grid_template_rows": null,
            "right": null,
            "justify_content": null,
            "_view_module": "@jupyter-widgets/base",
            "overflow": null,
            "_model_module_version": "1.2.0",
            "_view_count": null,
            "flex_flow": null,
            "width": null,
            "min_width": null,
            "border": null,
            "align_items": null,
            "bottom": null,
            "_model_module": "@jupyter-widgets/base",
            "top": null,
            "grid_column": null,
            "overflow_y": null,
            "overflow_x": null,
            "grid_auto_flow": null,
            "grid_area": null,
            "grid_template_columns": null,
            "flex": null,
            "_model_name": "LayoutModel",
            "justify_items": null,
            "grid_row": null,
            "max_height": null,
            "align_content": null,
            "visibility": null,
            "align_self": null,
            "height": null,
            "min_height": null,
            "padding": null,
            "grid_auto_rows": null,
            "grid_gap": null,
            "max_width": null,
            "order": null,
            "_view_module_version": "1.2.0",
            "grid_template_areas": null,
            "object_position": null,
            "object_fit": null,
            "grid_auto_columns": null,
            "margin": null,
            "display": null,
            "left": null
          }
        },
        "f5b1253a30c1455fb8a369e02f4f0c2d": {
          "model_module": "@jupyter-widgets/controls",
          "model_name": "DescriptionStyleModel",
          "state": {
            "_view_name": "StyleView",
            "_model_name": "DescriptionStyleModel",
            "description_width": "",
            "_view_module": "@jupyter-widgets/base",
            "_model_module_version": "1.5.0",
            "_view_count": null,
            "_view_module_version": "1.2.0",
            "_model_module": "@jupyter-widgets/controls"
          }
        },
        "c325e44ab09a434ca77b63e84ec4b6ac": {
          "model_module": "@jupyter-widgets/base",
          "model_name": "LayoutModel",
          "state": {
            "_view_name": "LayoutView",
            "grid_template_rows": null,
            "right": null,
            "justify_content": null,
            "_view_module": "@jupyter-widgets/base",
            "overflow": null,
            "_model_module_version": "1.2.0",
            "_view_count": null,
            "flex_flow": null,
            "width": null,
            "min_width": null,
            "border": null,
            "align_items": null,
            "bottom": null,
            "_model_module": "@jupyter-widgets/base",
            "top": null,
            "grid_column": null,
            "overflow_y": null,
            "overflow_x": null,
            "grid_auto_flow": null,
            "grid_area": null,
            "grid_template_columns": null,
            "flex": null,
            "_model_name": "LayoutModel",
            "justify_items": null,
            "grid_row": null,
            "max_height": null,
            "align_content": null,
            "visibility": null,
            "align_self": null,
            "height": null,
            "min_height": null,
            "padding": null,
            "grid_auto_rows": null,
            "grid_gap": null,
            "max_width": null,
            "order": null,
            "_view_module_version": "1.2.0",
            "grid_template_areas": null,
            "object_position": null,
            "object_fit": null,
            "grid_auto_columns": null,
            "margin": null,
            "display": null,
            "left": null
          }
        },
        "b82303f9f8494a38955dd541f6e0bad5": {
          "model_module": "@jupyter-widgets/controls",
          "model_name": "HBoxModel",
          "state": {
            "_view_name": "HBoxView",
            "_dom_classes": [],
            "_model_name": "HBoxModel",
            "_view_module": "@jupyter-widgets/controls",
            "_model_module_version": "1.5.0",
            "_view_count": null,
            "_view_module_version": "1.5.0",
            "box_style": "",
            "layout": "IPY_MODEL_95c69165c0744a77909feae8ed45b4f6",
            "_model_module": "@jupyter-widgets/controls",
            "children": [
              "IPY_MODEL_470957ea0fcb4218b8d14891f75a8d4a",
              "IPY_MODEL_45ed166e0d684b56b8f1c5cb4980e0c3"
            ]
          }
        },
        "95c69165c0744a77909feae8ed45b4f6": {
          "model_module": "@jupyter-widgets/base",
          "model_name": "LayoutModel",
          "state": {
            "_view_name": "LayoutView",
            "grid_template_rows": null,
            "right": null,
            "justify_content": null,
            "_view_module": "@jupyter-widgets/base",
            "overflow": null,
            "_model_module_version": "1.2.0",
            "_view_count": null,
            "flex_flow": null,
            "width": null,
            "min_width": null,
            "border": null,
            "align_items": null,
            "bottom": null,
            "_model_module": "@jupyter-widgets/base",
            "top": null,
            "grid_column": null,
            "overflow_y": null,
            "overflow_x": null,
            "grid_auto_flow": null,
            "grid_area": null,
            "grid_template_columns": null,
            "flex": null,
            "_model_name": "LayoutModel",
            "justify_items": null,
            "grid_row": null,
            "max_height": null,
            "align_content": null,
            "visibility": null,
            "align_self": null,
            "height": null,
            "min_height": null,
            "padding": null,
            "grid_auto_rows": null,
            "grid_gap": null,
            "max_width": null,
            "order": null,
            "_view_module_version": "1.2.0",
            "grid_template_areas": null,
            "object_position": null,
            "object_fit": null,
            "grid_auto_columns": null,
            "margin": null,
            "display": null,
            "left": null
          }
        },
        "470957ea0fcb4218b8d14891f75a8d4a": {
          "model_module": "@jupyter-widgets/controls",
          "model_name": "FloatProgressModel",
          "state": {
            "_view_name": "ProgressView",
            "style": "IPY_MODEL_15be084f3e1d433fa24b2d377b33d9a2",
            "_dom_classes": [],
            "description": "100%",
            "_model_name": "FloatProgressModel",
            "bar_style": "success",
            "max": 200,
            "_view_module": "@jupyter-widgets/controls",
            "_model_module_version": "1.5.0",
            "value": 200,
            "_view_count": null,
            "_view_module_version": "1.5.0",
            "orientation": "horizontal",
            "min": 0,
            "description_tooltip": null,
            "_model_module": "@jupyter-widgets/controls",
            "layout": "IPY_MODEL_a5f97dba01fe4cd9846d2e1b0ce3f80c"
          }
        },
        "45ed166e0d684b56b8f1c5cb4980e0c3": {
          "model_module": "@jupyter-widgets/controls",
          "model_name": "HTMLModel",
          "state": {
            "_view_name": "HTMLView",
            "style": "IPY_MODEL_ae785ab916c14db8a112f675768a8673",
            "_dom_classes": [],
            "description": "",
            "_model_name": "HTMLModel",
            "placeholder": "​",
            "_view_module": "@jupyter-widgets/controls",
            "_model_module_version": "1.5.0",
            "value": " 200/200 [01:44&lt;00:00,  1.91it/s]",
            "_view_count": null,
            "_view_module_version": "1.5.0",
            "description_tooltip": null,
            "_model_module": "@jupyter-widgets/controls",
            "layout": "IPY_MODEL_148a4834dec64e5f859f983214397d4b"
          }
        },
        "15be084f3e1d433fa24b2d377b33d9a2": {
          "model_module": "@jupyter-widgets/controls",
          "model_name": "ProgressStyleModel",
          "state": {
            "_view_name": "StyleView",
            "_model_name": "ProgressStyleModel",
            "description_width": "initial",
            "_view_module": "@jupyter-widgets/base",
            "_model_module_version": "1.5.0",
            "_view_count": null,
            "_view_module_version": "1.2.0",
            "bar_color": null,
            "_model_module": "@jupyter-widgets/controls"
          }
        },
        "a5f97dba01fe4cd9846d2e1b0ce3f80c": {
          "model_module": "@jupyter-widgets/base",
          "model_name": "LayoutModel",
          "state": {
            "_view_name": "LayoutView",
            "grid_template_rows": null,
            "right": null,
            "justify_content": null,
            "_view_module": "@jupyter-widgets/base",
            "overflow": null,
            "_model_module_version": "1.2.0",
            "_view_count": null,
            "flex_flow": null,
            "width": null,
            "min_width": null,
            "border": null,
            "align_items": null,
            "bottom": null,
            "_model_module": "@jupyter-widgets/base",
            "top": null,
            "grid_column": null,
            "overflow_y": null,
            "overflow_x": null,
            "grid_auto_flow": null,
            "grid_area": null,
            "grid_template_columns": null,
            "flex": null,
            "_model_name": "LayoutModel",
            "justify_items": null,
            "grid_row": null,
            "max_height": null,
            "align_content": null,
            "visibility": null,
            "align_self": null,
            "height": null,
            "min_height": null,
            "padding": null,
            "grid_auto_rows": null,
            "grid_gap": null,
            "max_width": null,
            "order": null,
            "_view_module_version": "1.2.0",
            "grid_template_areas": null,
            "object_position": null,
            "object_fit": null,
            "grid_auto_columns": null,
            "margin": null,
            "display": null,
            "left": null
          }
        },
        "ae785ab916c14db8a112f675768a8673": {
          "model_module": "@jupyter-widgets/controls",
          "model_name": "DescriptionStyleModel",
          "state": {
            "_view_name": "StyleView",
            "_model_name": "DescriptionStyleModel",
            "description_width": "",
            "_view_module": "@jupyter-widgets/base",
            "_model_module_version": "1.5.0",
            "_view_count": null,
            "_view_module_version": "1.2.0",
            "_model_module": "@jupyter-widgets/controls"
          }
        },
        "148a4834dec64e5f859f983214397d4b": {
          "model_module": "@jupyter-widgets/base",
          "model_name": "LayoutModel",
          "state": {
            "_view_name": "LayoutView",
            "grid_template_rows": null,
            "right": null,
            "justify_content": null,
            "_view_module": "@jupyter-widgets/base",
            "overflow": null,
            "_model_module_version": "1.2.0",
            "_view_count": null,
            "flex_flow": null,
            "width": null,
            "min_width": null,
            "border": null,
            "align_items": null,
            "bottom": null,
            "_model_module": "@jupyter-widgets/base",
            "top": null,
            "grid_column": null,
            "overflow_y": null,
            "overflow_x": null,
            "grid_auto_flow": null,
            "grid_area": null,
            "grid_template_columns": null,
            "flex": null,
            "_model_name": "LayoutModel",
            "justify_items": null,
            "grid_row": null,
            "max_height": null,
            "align_content": null,
            "visibility": null,
            "align_self": null,
            "height": null,
            "min_height": null,
            "padding": null,
            "grid_auto_rows": null,
            "grid_gap": null,
            "max_width": null,
            "order": null,
            "_view_module_version": "1.2.0",
            "grid_template_areas": null,
            "object_position": null,
            "object_fit": null,
            "grid_auto_columns": null,
            "margin": null,
            "display": null,
            "left": null
          }
        }
      }
    }
  },
  "cells": [
    {
      "cell_type": "markdown",
      "metadata": {
        "id": "view-in-github",
        "colab_type": "text"
      },
      "source": [
        "<a href=\"https://colab.research.google.com/github/m-richa/NMA/blob/main/tutorials/W1D5_Regularization/student/W1D5_Tutorial1.ipynb\" target=\"_parent\"><img src=\"https://colab.research.google.com/assets/colab-badge.svg\" alt=\"Open In Colab\"/></a>"
      ]
    },
    {
      "cell_type": "markdown",
      "metadata": {
        "execution": {},
        "id": "ylCsLBdNDqAs"
      },
      "source": [
        "# Tutorial 1: Regularization techniques part 1\n",
        "\n",
        "**Week 1, Day 5: Regularization**\n",
        "\n",
        "**By Neuromatch Academy**\n",
        "\n",
        "__Content creators:__ Ravi Teja Konkimalla, Mohitrajhu Lingan Kumaraian, Kevin Machado Gamboa, Kelson Shilling-Scrivo, Lyle Ungar\n",
        "\n",
        "__Content reviewers:__ Piyush Chauhan, Siwei Bai, Kelson Shilling-Scrivo\n",
        "\n",
        "__Content editors:__ Roberto Guidotti, Spiros Chavlis\n",
        "\n",
        "__Production editors:__ Saeed Salehi, Spiros Chavlis"
      ]
    },
    {
      "cell_type": "markdown",
      "metadata": {
        "execution": {},
        "id": "KaJBi-2QDqAv"
      },
      "source": [
        "**Our 2021 Sponsors, including Presenting Sponsor Facebook Reality Labs**\n",
        "\n",
        "<p align='center'><img src='https://github.com/NeuromatchAcademy/widgets/blob/master/sponsors.png?raw=True'/></p>"
      ]
    },
    {
      "cell_type": "markdown",
      "metadata": {
        "execution": {},
        "id": "oSHjQSmxDqAw"
      },
      "source": [
        "---\n",
        "# Tutorial Objectives\n",
        "\n",
        "1. Big ANNs are efficient universal approximators due to their adaptive basis functions\n",
        "2. ANNs memorize some but generalize well\n",
        "3. Regularization as shrinkage of overparameterized models: early stopping "
      ]
    },
    {
      "cell_type": "code",
      "metadata": {
        "cellView": "form",
        "execution": {},
        "id": "y2j-PSw2DqAx",
        "outputId": "694cdafe-9ba9-485b-8d48-71ff262ff1be",
        "colab": {
          "base_uri": "https://localhost:8080/",
          "height": 501
        }
      },
      "source": [
        "\n",
        "# @title Tutorial slides\n",
        "\n",
        "# @markdown These are the slides for the videos in this tutorial\n",
        "from IPython.display import IFrame\n",
        "IFrame(src=f\"https://mfr.ca-1.osf.io/render?url=https://osf.io/mf79a/?direct%26mode=render%26action=download%26mode=render\", width=854, height=480)"
      ],
      "execution_count": 1,
      "outputs": [
        {
          "output_type": "execute_result",
          "data": {
            "text/html": [
              "\n",
              "        <iframe\n",
              "            width=\"854\"\n",
              "            height=\"480\"\n",
              "            src=\"https://mfr.ca-1.osf.io/render?url=https://osf.io/mf79a/?direct%26mode=render%26action=download%26mode=render\"\n",
              "            frameborder=\"0\"\n",
              "            allowfullscreen\n",
              "        ></iframe>\n",
              "        "
            ],
            "text/plain": [
              "<IPython.lib.display.IFrame at 0x7fafd96782d0>"
            ]
          },
          "metadata": {
            "tags": []
          },
          "execution_count": 1
        }
      ]
    },
    {
      "cell_type": "markdown",
      "metadata": {
        "execution": {},
        "id": "GCbOphjyDqAx"
      },
      "source": [
        "---\n",
        "# Setup\n",
        "Note that some of the code for today can take up to an hour to run. We have therefore \"hidden\" the code and shown the resulting outputs.\n"
      ]
    },
    {
      "cell_type": "code",
      "metadata": {
        "cellView": "form",
        "execution": {},
        "id": "H_f3M9QvDqAy",
        "outputId": "05e19360-0aa5-4914-b160-b1a5a661b7a8",
        "colab": {
          "base_uri": "https://localhost:8080/"
        }
      },
      "source": [
        "# @title Install dependencies\n",
        "!sudo apt-get install -y ffmpeg > /dev/null\n",
        "!pip install imageio-ffmpeg --quiet\n",
        "\n",
        "!pip install git+https://github.com/NeuromatchAcademy/evaltools --quiet\n",
        "from evaltools.airtable import AirtableForm\n",
        "\n",
        "# generate airtable form\n",
        "atform = AirtableForm('appn7VdPRseSoMXEG','W1D5_T1','https://portal.neuromatchacademy.org/api/redirect/to/9c55f6cb-cdf9-4429-ac1c-ec44fe64c303')"
      ],
      "execution_count": 2,
      "outputs": [
        {
          "output_type": "stream",
          "text": [
            "\u001b[K     |████████████████████████████████| 26.9 MB 88 kB/s \n",
            "\u001b[?25h  Building wheel for evaltools (setup.py) ... \u001b[?25l\u001b[?25hdone\n"
          ],
          "name": "stdout"
        }
      ]
    },
    {
      "cell_type": "code",
      "metadata": {
        "execution": {},
        "id": "iSJFZrg3DqAz"
      },
      "source": [
        "# Imports\n",
        "from __future__ import print_function\n",
        "\n",
        "import time\n",
        "import copy\n",
        "import torch\n",
        "import pathlib\n",
        "\n",
        "import numpy as np\n",
        "import torch.nn as nn\n",
        "import torch.optim as optim\n",
        "import torch.nn.functional as F\n",
        "import matplotlib.pyplot as plt\n",
        "import matplotlib.animation as animation\n",
        "\n",
        "from tqdm.auto import tqdm\n",
        "from IPython.display import HTML\n",
        "from torchvision import transforms\n",
        "from torchvision.datasets import ImageFolder"
      ],
      "execution_count": 3,
      "outputs": []
    },
    {
      "cell_type": "code",
      "metadata": {
        "cellView": "form",
        "execution": {},
        "id": "xe6acuQIDqAz"
      },
      "source": [
        "# @title Figure Settings\n",
        "import ipywidgets as widgets\n",
        "%matplotlib inline\n",
        "%config InlineBackend.figure_format = 'retina'\n",
        "plt.style.use(\"https://raw.githubusercontent.com/NeuromatchAcademy/content-creation/main/nma.mplstyle\")"
      ],
      "execution_count": 4,
      "outputs": []
    },
    {
      "cell_type": "code",
      "metadata": {
        "cellView": "form",
        "execution": {},
        "id": "6cJXqOHdDqA0",
        "outputId": "d4f2521d-a72f-41d4-ebdb-29b4a1ce2459",
        "colab": {
          "base_uri": "https://localhost:8080/"
        }
      },
      "source": [
        "# @title Loading Animal Faces data\n",
        "import requests, os\n",
        "from zipfile import ZipFile\n",
        "\n",
        "print(\"Start downloading and unzipping `AnimalFaces` dataset...\")\n",
        "name = 'afhq'\n",
        "fname = f\"{name}.zip\"\n",
        "url = f\"https://osf.io/kgfvj/download\"\n",
        "\n",
        "if not os.path.exists(fname):\n",
        "  r = requests.get(url, allow_redirects=True)\n",
        "  with open(fname, 'wb') as fh:\n",
        "    fh.write(r.content)\n",
        "\n",
        "  if os.path.exists(fname):\n",
        "    with ZipFile(fname, 'r') as zfile:\n",
        "      zfile.extractall(f\".\")\n",
        "      os.remove(fname)\n",
        "\n",
        "print(\"Download completed.\")"
      ],
      "execution_count": 5,
      "outputs": [
        {
          "output_type": "stream",
          "text": [
            "Start downloading and unzipping `AnimalFaces` dataset...\n",
            "Download completed.\n"
          ],
          "name": "stdout"
        }
      ]
    },
    {
      "cell_type": "code",
      "metadata": {
        "cellView": "form",
        "execution": {},
        "id": "uZ0Gd4QPDqA0",
        "outputId": "170b90bd-c7f2-42e8-e0fd-f86fea7ece8d",
        "colab": {
          "base_uri": "https://localhost:8080/"
        }
      },
      "source": [
        "# @title Loading Animal Faces Randomized data\n",
        "from IPython.display import clear_output\n",
        "\n",
        "print(\"Start downloading and unzipping `Randomized AnimalFaces` dataset...\")\n",
        "\n",
        "names = ['afhq_random_32x32', 'afhq_10_32x32']\n",
        "urls = [\"https://osf.io/9sj7p/download\",\n",
        "        \"https://osf.io/wvgkq/download\"]\n",
        "\n",
        "\n",
        "for i, name in enumerate(names):\n",
        "  url = urls[i]\n",
        "  fname = f\"{name}.zip\"\n",
        "\n",
        "  if not os.path.exists(fname):\n",
        "    r = requests.get(url, allow_redirects=True)\n",
        "    with open(fname, 'wb') as fh:\n",
        "      fh.write(r.content)\n",
        "\n",
        "    if os.path.exists(fname):\n",
        "      with ZipFile(fname, 'r') as zfile:\n",
        "        zfile.extractall(f\".\")\n",
        "        os.remove(fname)\n",
        "\n",
        "print(\"Download completed.\")"
      ],
      "execution_count": 6,
      "outputs": [
        {
          "output_type": "stream",
          "text": [
            "Start downloading and unzipping `Randomized AnimalFaces` dataset...\n",
            "Download completed.\n"
          ],
          "name": "stdout"
        }
      ]
    },
    {
      "cell_type": "code",
      "metadata": {
        "cellView": "form",
        "execution": {},
        "id": "hSBovzn3DqA1"
      },
      "source": [
        "# @title Plotting functions\n",
        "def imshow(img):\n",
        "  img = img / 2 + 0.5     # unnormalize\n",
        "  npimg = img.numpy()\n",
        "  plt.imshow(np.transpose(npimg, (1, 2, 0)))\n",
        "  plt.axis(False)\n",
        "  plt.show()\n",
        "\n",
        "\n",
        "def plot_weights(norm, labels, ws, title='Weight Size Measurement'):\n",
        "  plt.figure(figsize=[8, 6])\n",
        "  plt.title(title)\n",
        "  plt.ylabel('Frobenius Norm Value')\n",
        "  plt.xlabel('Model Layers')\n",
        "  plt.bar(labels, ws)\n",
        "  plt.axhline(y=norm,\n",
        "              linewidth=1,\n",
        "              color='r',\n",
        "              ls='--',\n",
        "              label='Total Model F-Norm')\n",
        "  plt.legend()\n",
        "  plt.show()\n",
        "\n",
        "\n",
        "def early_stop_plot(train_acc_earlystop, val_acc_earlystop, best_epoch):\n",
        "  plt.figure(figsize=(8, 6))\n",
        "  plt.plot(val_acc_earlystop,label='Val - Early',c='red',ls = 'dashed')\n",
        "  plt.plot(train_acc_earlystop,label='Train - Early',c='red',ls = 'solid')\n",
        "  plt.axvline(x=best_epoch, c='green', ls='dashed',\n",
        "              label='Epoch for Max Val Accuracy')\n",
        "  plt.title('Early Stopping')\n",
        "  plt.ylabel('Accuracy (%)')\n",
        "  plt.xlabel('Epoch')\n",
        "  plt.legend()\n",
        "  plt.show()"
      ],
      "execution_count": 7,
      "outputs": []
    },
    {
      "cell_type": "code",
      "metadata": {
        "cellView": "form",
        "execution": {},
        "id": "2WwdTf3QDqA2"
      },
      "source": [
        "# @title Set random seed\n",
        "\n",
        "# @markdown Executing `set_seed(seed=seed)` you are setting the seed\n",
        "\n",
        "# for DL its critical to set the random seed so that students can have a\n",
        "# baseline to compare their results to expected results.\n",
        "# Read more here: https://pytorch.org/docs/stable/notes/randomness.html\n",
        "\n",
        "# Call `set_seed` function in the exercises to ensure reproducibility.\n",
        "import random\n",
        "import torch\n",
        "\n",
        "def set_seed(seed=None, seed_torch=True):\n",
        "  if seed is None:\n",
        "    seed = np.random.choice(2 ** 32)\n",
        "  random.seed(seed)\n",
        "  np.random.seed(seed)\n",
        "  if seed_torch:\n",
        "    torch.manual_seed(seed)\n",
        "    torch.cuda.manual_seed_all(seed)\n",
        "    torch.cuda.manual_seed(seed)\n",
        "    torch.backends.cudnn.benchmark = False\n",
        "    torch.backends.cudnn.deterministic = True\n",
        "\n",
        "  print(f'Random seed {seed} has been set.')\n",
        "\n",
        "\n",
        "# In case that `DataLoader` is used\n",
        "def seed_worker(worker_id):\n",
        "  worker_seed = torch.initial_seed() % 2**32\n",
        "  np.random.seed(worker_seed)\n",
        "  random.seed(worker_seed)"
      ],
      "execution_count": 8,
      "outputs": []
    },
    {
      "cell_type": "code",
      "metadata": {
        "cellView": "form",
        "execution": {},
        "id": "JjOrxzz_DqA3"
      },
      "source": [
        "# @title Set device (GPU or CPU). Execute `set_device()`\n",
        "# especially if torch modules used.\n",
        "\n",
        "# inform the user if the notebook uses GPU or CPU.\n",
        "\n",
        "def set_device():\n",
        "  device = \"cuda\" if torch.cuda.is_available() else \"cpu\"\n",
        "  if device != \"cuda\":\n",
        "    print(\"WARNING: For this notebook to perform best, \"\n",
        "        \"if possible, in the menu under `Runtime` -> \"\n",
        "        \"`Change runtime type.`  select `GPU` \")\n",
        "  else:\n",
        "    print(\"GPU is enabled in this notebook.\")\n",
        "\n",
        "  return device"
      ],
      "execution_count": 9,
      "outputs": []
    },
    {
      "cell_type": "code",
      "metadata": {
        "execution": {},
        "id": "yVoxU48ODqA3",
        "outputId": "d88ef7e4-cd77-4497-fad8-8ad0b935bc64",
        "colab": {
          "base_uri": "https://localhost:8080/"
        }
      },
      "source": [
        "SEED = 2021\n",
        "set_seed(seed=SEED)\n",
        "DEVICE = set_device()"
      ],
      "execution_count": 10,
      "outputs": [
        {
          "output_type": "stream",
          "text": [
            "Random seed 2021 has been set.\n",
            "GPU is enabled in this notebook.\n"
          ],
          "name": "stdout"
        }
      ]
    },
    {
      "cell_type": "markdown",
      "metadata": {
        "execution": {},
        "id": "KQWqeP3gDqA3"
      },
      "source": [
        "---\n",
        "# Section 0: Defining useful functions\n",
        "Let's start the tutorial by defining some functions which we will use frequently today, such as: `AnimalNet`, `train`, `test` and `main`."
      ]
    },
    {
      "cell_type": "code",
      "metadata": {
        "execution": {},
        "id": "-a9LbYpBDqA4"
      },
      "source": [
        "# Network Class - Animal Faces\n",
        "class AnimalNet(nn.Module):\n",
        "  def __init__(self):\n",
        "    super(AnimalNet, self).__init__()\n",
        "    self.fc1 = nn.Linear(3 * 32 * 32, 128)\n",
        "    self.fc2 = nn.Linear(128, 32)\n",
        "    self.fc3 = nn.Linear(32, 3)\n",
        "\n",
        "  def forward(self, x):\n",
        "    x = x.view(x.shape[0],-1)\n",
        "    x = F.relu(self.fc1(x))\n",
        "    x = F.relu(self.fc2(x))\n",
        "    x = self.fc3(x)\n",
        "    output = F.log_softmax(x, dim=1)\n",
        "    return output"
      ],
      "execution_count": 11,
      "outputs": []
    },
    {
      "cell_type": "markdown",
      "metadata": {
        "execution": {},
        "id": "T7vyaRPxDqA4"
      },
      "source": [
        "The train function takes in the current model, along with the train_loader and loss function, and updates the parameters for a single pass of the entire dataset. The test function takes in the current model after every epoch and calculates the accuracy on the test dataset.\n"
      ]
    },
    {
      "cell_type": "code",
      "metadata": {
        "execution": {},
        "id": "UwuCZPQgDqA4"
      },
      "source": [
        "def train(args, model, train_loader, optimizer,\n",
        "          reg_function1=None, reg_function2=None, criterion=F.nll_loss):\n",
        "  \"\"\"\n",
        "  Trains the current inpur model using the data\n",
        "  from Train_loader and Updates parameters for a single pass\n",
        "  \"\"\"\n",
        "  device = args['device']\n",
        "  model.train()\n",
        "  for batch_idx, (data, target) in enumerate(train_loader):\n",
        "    data, target = data.to(device), target.to(device)\n",
        "    optimizer.zero_grad()\n",
        "    output = model(data)\n",
        "    if reg_function1 is None:\n",
        "      loss = criterion(output, target)\n",
        "    elif reg_function2 is None:\n",
        "      loss = criterion(output, target)+args['lambda']*reg_function1(model)\n",
        "    else:\n",
        "      loss = criterion(output, target) + args['lambda1']*reg_function1(model) + args['lambda2']*reg_function2(model)\n",
        "    loss.backward()\n",
        "    optimizer.step()\n",
        "\n",
        "  return model\n",
        "\n",
        "\n",
        "def test(model, test_loader, criterion=F.nll_loss, device='cpu'):\n",
        "  \"\"\"\n",
        "  Tests the current Model\n",
        "  \"\"\"\n",
        "  model.eval()\n",
        "  test_loss = 0\n",
        "  correct = 0\n",
        "  with torch.no_grad():\n",
        "    for data, target in test_loader:\n",
        "      data, target = data.to(device), target.to(device)\n",
        "      output = model(data)\n",
        "      test_loss += criterion(output, target, reduction='sum').item()  # sum up batch loss\n",
        "      pred = output.argmax(dim=1, keepdim=True)  # get the index of the max log-probability\n",
        "      correct += pred.eq(target.view_as(pred)).sum().item()\n",
        "\n",
        "  test_loss /= len(test_loader.dataset)\n",
        "  return 100. * correct / len(test_loader.dataset)\n",
        "\n",
        "\n",
        "def main(args, model, train_loader, val_loader,\n",
        "         reg_function1=None, reg_function2=None):\n",
        "  \"\"\"\n",
        "  Trains the model with train_loader and tests the learned model using val_loader\n",
        "  \"\"\"\n",
        "\n",
        "  device = args['device']\n",
        "\n",
        "  model = model.to(device)\n",
        "  optimizer = optim.SGD(model.parameters(), lr=args['lr'],\n",
        "                        momentum=args['momentum'])\n",
        "\n",
        "  val_acc_list, train_acc_list,param_norm_list = [], [], []\n",
        "  for epoch in tqdm(range(args['epochs'])):\n",
        "    trained_model = train(args, model, train_loader, optimizer,\n",
        "                          reg_function1=reg_function1,\n",
        "                          reg_function2=reg_function2)\n",
        "    train_acc = test(trained_model, train_loader, device=device)\n",
        "    val_acc = test(trained_model, val_loader, device=device)\n",
        "    param_norm = calculate_frobenius_norm(trained_model)\n",
        "    train_acc_list.append(train_acc)\n",
        "    val_acc_list.append(val_acc)\n",
        "    param_norm_list.append(param_norm)\n",
        "\n",
        "  return val_acc_list, train_acc_list, param_norm_list, trained_model"
      ],
      "execution_count": 12,
      "outputs": []
    },
    {
      "cell_type": "markdown",
      "metadata": {
        "execution": {},
        "id": "sFDhh30EDqA5"
      },
      "source": [
        "---\n",
        "# Section 1: Regularization is Shrinkage\n",
        "\n",
        "*Time estimate: ~20 mins*"
      ]
    },
    {
      "cell_type": "code",
      "metadata": {
        "cellView": "form",
        "execution": {},
        "id": "_lGrWVAxDqA5",
        "outputId": "414b9bc2-930a-4e3d-adda-5b3d3c897ab4",
        "colab": {
          "base_uri": "https://localhost:8080/",
          "height": 580,
          "referenced_widgets": [
            "564d5c689c274520a079f4a1404f198f",
            "70d5dbda37dc4de290cd13c662a325f2",
            "667649c8b6484082a9d38eb5a33a9f1b",
            "d354907d53c343d0ae68e0cc8d377a4c",
            "480a10c062db4410b393bf76e529b787",
            "c2e81ef9fbe44f2e9e03bbea34fcf1ce"
          ]
        }
      },
      "source": [
        "# @title Video 1: Introduction to Regularization\n",
        "from ipywidgets import widgets\n",
        "\n",
        "out2 = widgets.Output()\n",
        "with out2:\n",
        "  from IPython.display import IFrame\n",
        "  class BiliVideo(IFrame):\n",
        "      def __init__(self, id, page=1, width=400, height=300, **kwargs):\n",
        "          self.id=id\n",
        "          src = \"https://player.bilibili.com/player.html?bvid={0}&page={1}\".format(id, page)\n",
        "          super(BiliVideo, self).__init__(src, width, height, **kwargs)\n",
        "\n",
        "  video = BiliVideo(id=f\"BV1mo4y1X76E\", width=854, height=480, fs=1)\n",
        "  print(\"Video available at https://www.bilibili.com/video/{0}\".format(video.id))\n",
        "  display(video)\n",
        "\n",
        "out1 = widgets.Output()\n",
        "with out1:\n",
        "  from IPython.display import YouTubeVideo\n",
        "  video = YouTubeVideo(id=f\"jhQAnIHTR6A\", width=854, height=480, fs=1, rel=0)\n",
        "  print(\"Video available at https://youtube.com/watch?v=\" + video.id)\n",
        "  display(video)\n",
        "\n",
        "out = widgets.Tab([out1, out2])\n",
        "out.set_title(0, 'Youtube')\n",
        "out.set_title(1, 'Bilibili')\n",
        "\n",
        "#add event to airtable\n",
        "atform.add_event('Video 1: Introduction to Regularization')\n",
        "\n",
        "display(out)"
      ],
      "execution_count": 13,
      "outputs": [
        {
          "output_type": "display_data",
          "data": {
            "application/vnd.jupyter.widget-view+json": {
              "model_id": "564d5c689c274520a079f4a1404f198f",
              "version_minor": 0,
              "version_major": 2
            },
            "text/plain": [
              "Tab(children=(Output(), Output()), _titles={'0': 'Youtube', '1': 'Bilibili'})"
            ]
          },
          "metadata": {
            "tags": []
          }
        }
      ]
    },
    {
      "cell_type": "markdown",
      "metadata": {
        "execution": {},
        "id": "rVKLhEFkDqA6"
      },
      "source": [
        "A key idea of neural nets, is that they use models that are \"too complex\" - complex enough to fit all the noise in the data. One then needs to \"regularize\" them to make the models fit complex enough, but not too complex. The more complex the model, the better it fits the training data, but if it is too complex, it generalizes less well; it memorizes the training data but is less accurate on future test data."
      ]
    },
    {
      "cell_type": "code",
      "metadata": {
        "cellView": "form",
        "execution": {},
        "id": "rOlMgbiWDqA6",
        "outputId": "8af9ce2a-4de1-4281-936b-79fca3df41f4",
        "colab": {
          "base_uri": "https://localhost:8080/",
          "height": 580,
          "referenced_widgets": [
            "50d93c67ff7d4e50ad87861804cfd683",
            "6927dc3759eb4dfd9650d8c3810deb0e",
            "c0c016430c0b4881aedae5e6b6b3340c",
            "37e72c5c7f5d43a782e5f52931db4f99",
            "1a8eebb41c254bb082e439c8dcc14060",
            "4107f4d5f45b4db095cdc0a908ad251a"
          ]
        }
      },
      "source": [
        "# @title Video 2: Regularization as Shrinkage\n",
        "from ipywidgets import widgets\n",
        "\n",
        "out2 = widgets.Output()\n",
        "with out2:\n",
        "  from IPython.display import IFrame\n",
        "  class BiliVideo(IFrame):\n",
        "      def __init__(self, id, page=1, width=400, height=300, **kwargs):\n",
        "          self.id=id\n",
        "          src = \"https://player.bilibili.com/player.html?bvid={0}&page={1}\".format(id, page)\n",
        "          super(BiliVideo, self).__init__(src, width, height, **kwargs)\n",
        "\n",
        "  video = BiliVideo(id=f\"BV1YL411H7Dv\", width=854, height=480, fs=1)\n",
        "  print(\"Video available at https://www.bilibili.com/video/{0}\".format(video.id))\n",
        "  display(video)\n",
        "\n",
        "out1 = widgets.Output()\n",
        "with out1:\n",
        "  from IPython.display import YouTubeVideo\n",
        "  video = YouTubeVideo(id=f\"mhVbJ74upnQ\", width=854, height=480, fs=1, rel=0)\n",
        "  print(\"Video available at https://youtube.com/watch?v=\" + video.id)\n",
        "  display(video)\n",
        "\n",
        "out = widgets.Tab([out1, out2])\n",
        "out.set_title(0, 'Youtube')\n",
        "out.set_title(1, 'Bilibili')\n",
        "\n",
        "#add event to airtable\n",
        "atform.add_event('Video 2: Regularization as Shrinkage')\n",
        "\n",
        "display(out)"
      ],
      "execution_count": 14,
      "outputs": [
        {
          "output_type": "display_data",
          "data": {
            "application/vnd.jupyter.widget-view+json": {
              "model_id": "50d93c67ff7d4e50ad87861804cfd683",
              "version_minor": 0,
              "version_major": 2
            },
            "text/plain": [
              "Tab(children=(Output(), Output()), _titles={'0': 'Youtube', '1': 'Bilibili'})"
            ]
          },
          "metadata": {
            "tags": []
          }
        }
      ]
    },
    {
      "cell_type": "markdown",
      "metadata": {
        "execution": {},
        "id": "K3vrIh8hDqA6"
      },
      "source": [
        "One way to think about Regularization is to think in terms of the magnitude of the overall weights of the model. A model with big weights can fit more data perfectly, whereas a model with smaller weights tends to underperform on the train set but can surprisingly do very well on the test set. Having the weights too small can also be an issue as it can then underfit the model.\n",
        "\n",
        "This week we use the sum of Frobenius Norm of all the tensors in the model as a measure of the \"size of the model\"."
      ]
    },
    {
      "cell_type": "markdown",
      "metadata": {
        "execution": {},
        "id": "-bUh1qIBDqA6"
      },
      "source": [
        "## Coding Exercise 1: Frobenius Norm\n",
        "Before we start, let's define the Frobenius norm, sometimes also called the Euclidean norm of an $m×n$ matrix $A$  as the square root of the sum of the absolute squares of its elements.\n",
        "\n",
        "<br>\n",
        "\n",
        "\\begin{equation}\n",
        "||A||_F= \\sqrt{\\sum_{i=1}^m\\sum_{j=1}^n|a_{ij}|^2}\n",
        "\\end{equation} \n",
        "\n",
        "This is just a measure of how big the matrix is, analogous to how big a vector is."
      ]
    },
    {
      "cell_type": "markdown",
      "metadata": {
        "execution": {},
        "id": "1iJz-1nEDqA7"
      },
      "source": [
        " **Hint:** Use functions `model.parameters()` or `model.named_parameters()`\n"
      ]
    },
    {
      "cell_type": "code",
      "metadata": {
        "execution": {},
        "id": "w3Rnkvq9DqA7",
        "outputId": "d47679a0-ca9f-4a32-8b17-642b8e1d0ecd",
        "colab": {
          "base_uri": "https://localhost:8080/"
        }
      },
      "source": [
        "def calculate_frobenius_norm(model):\n",
        "  ####################################################################\n",
        "  # Fill in all missing code below (...),\n",
        "  # then remove or comment the line below to test your function\n",
        "  # raise NotImplementedError(\"Define `calculate_frobenius_norm` function\")\n",
        "  ####################################################################\n",
        "  norm = 0.0\n",
        "  # Sum the square of all parameters\n",
        "  for param in model.parameters():\n",
        "    print(param.shape)\n",
        "    norm += torch.sum(param ** 2)\n",
        "\n",
        "  # Take a square root of the sum of squares of all the parameters\n",
        "  norm = torch.sqrt(norm)\n",
        "  return norm\n",
        "\n",
        "\n",
        "# add event to airtable\n",
        "atform.add_event('Coding Exercise 1: Frobenius Norm')\n",
        "\n",
        "# Seed added for reproducibility\n",
        "set_seed(seed=SEED)\n",
        "\n",
        "# uncomment below to test your code\n",
        "net = nn.Linear(10, 2)\n",
        "print(f'Frobenius Norm of Single Linear Layer: {calculate_frobenius_norm(net)}')"
      ],
      "execution_count": 21,
      "outputs": [
        {
          "output_type": "stream",
          "text": [
            "Random seed 2021 has been set.\n",
            "torch.Size([2, 10])\n",
            "torch.Size([2])\n",
            "Frobenius Norm of Single Linear Layer: 0.8834444880485535\n"
          ],
          "name": "stdout"
        }
      ]
    },
    {
      "cell_type": "markdown",
      "metadata": {
        "execution": {},
        "id": "nXfWMhzwDqA7"
      },
      "source": [
        "[*Click for solution*](https://github.com/NeuromatchAcademy/course-content-dl/tree/main//tutorials/W1D5_Regularization/solutions/W1D5_Tutorial1_Solution_1f125e8e.py)\n",
        "\n"
      ]
    },
    {
      "cell_type": "markdown",
      "metadata": {
        "execution": {},
        "id": "pvCjaAdgDqA7"
      },
      "source": [
        "```\n",
        "Random seed 2021 has been set.\n",
        "Frobenius Norm of Single Linear Layer: 0.6572162508964539\n",
        "```"
      ]
    },
    {
      "cell_type": "markdown",
      "metadata": {
        "execution": {},
        "id": "i5GRs_A_DqA7"
      },
      "source": [
        "Apart from calculating the weight size for an entire model, we could also determine the weight size in every layer. For this, we can modify our `calculate_frobenius_norm` function as shown below. \n",
        "\n",
        "**Have a look how it works!!**"
      ]
    },
    {
      "cell_type": "code",
      "metadata": {
        "execution": {},
        "id": "H1RVW0n1DqA8",
        "outputId": "36ce36b7-aefb-452a-a02f-6966bc1f8025",
        "colab": {
          "base_uri": "https://localhost:8080/",
          "height": 464
        }
      },
      "source": [
        "# Frobenius Norm per Layer\n",
        "def calculate_frobenius_norm(model):\n",
        "\n",
        "  # initialization of variables\n",
        "  norm, ws, labels = 0.0, [], []\n",
        "\n",
        "  # Sum all the parameters\n",
        "  for name, parameters in model.named_parameters():\n",
        "    p = torch.sum(parameters**2)\n",
        "    norm += p\n",
        "\n",
        "    ws.append((p**0.5).cpu().detach().numpy())\n",
        "    labels.append(name)\n",
        "\n",
        "  # Take a square root of the sum of squares of all the parameters\n",
        "  norm = (norm**0.5).cpu().detach().numpy()\n",
        "\n",
        "  return norm, ws, labels\n",
        "\n",
        "\n",
        "set_seed(SEED)\n",
        "net = nn.Linear(10,1)\n",
        "norm, ws, labels = calculate_frobenius_norm(net)\n",
        "print(f'Frobenius Norm of Single Linear Layer: {norm:.4f}')\n",
        "# Plots the weights\n",
        "plot_weights(norm, labels, ws)"
      ],
      "execution_count": 22,
      "outputs": [
        {
          "output_type": "stream",
          "text": [
            "Random seed 2021 has been set.\n",
            "Frobenius Norm of Single Linear Layer: 0.6572\n"
          ],
          "name": "stdout"
        },
        {
          "output_type": "display_data",
          "data": {
            "image/png": "[encoded data removed]",
            "text/plain": [
              "<Figure size 576x432 with 1 Axes>"
            ]
          },
          "metadata": {
            "tags": [],
            "image/png": {
              "width": 558,
              "height": 413
            },
            "needs_background": "light"
          }
        }
      ]
    },
    {
      "cell_type": "markdown",
      "metadata": {
        "execution": {},
        "id": "D6Fim3XRDqA8"
      },
      "source": [
        "Using the last function `calculate_frobenius_norm`, we can also obtain the Frobenius Norm per layer for a whole NN model and use the `plot_weigts` function to visualize them."
      ]
    },
    {
      "cell_type": "code",
      "metadata": {
        "execution": {},
        "id": "LRtwlVC-DqA8",
        "outputId": "75d4fd99-e7f4-469f-a8a8-9e2dcccf5d95",
        "colab": {
          "base_uri": "https://localhost:8080/",
          "height": 464
        }
      },
      "source": [
        "set_seed(seed=SEED)\n",
        "\n",
        "# Creates a new model\n",
        "model = AnimalNet()# uncomment below to test your code\n",
        "net = nn.Linear(10, 1)\n",
        "print(f'Frobenius Norm of Single Linear Layer: {calculate_frobenius_norm(net)}')\n",
        "\n",
        "# Calculates the forbenius norm per layer\n",
        "norm, ws, labels = calculate_frobenius_norm(model)\n",
        "print(f'Frobenius Norm of Models weights: {norm:.4f}')\n",
        "\n",
        "# Plots the weights\n",
        "plot_weights(norm, labels, ws)"
      ],
      "execution_count": 23,
      "outputs": [
        {
          "output_type": "stream",
          "text": [
            "Random seed 2021 has been set.\n",
            "Frobenius Norm of Models weights: 7.3810\n"
          ],
          "name": "stdout"
        },
        {
          "output_type": "display_data",
          "data": {
            "image/png": "[encoded data removed]",
            "text/plain": [
              "<Figure size 576x432 with 1 Axes>"
            ]
          },
          "metadata": {
            "tags": [],
            "image/png": {
              "width": 558,
              "height": 413
            },
            "needs_background": "light"
          }
        }
      ]
    },
    {
      "cell_type": "markdown",
      "metadata": {
        "execution": {},
        "id": "vtxfuQG7DqA8"
      },
      "source": [
        "---\n",
        "# Section 2: Overfitting\n",
        "\n",
        "*Time estimate: ~15 mins*\n"
      ]
    },
    {
      "cell_type": "code",
      "metadata": {
        "cellView": "form",
        "execution": {},
        "id": "RrhtSoF9DqA8",
        "outputId": "79b0569e-5cda-47a6-93eb-0506e7abf9fc",
        "colab": {
          "base_uri": "https://localhost:8080/",
          "height": 580,
          "referenced_widgets": [
            "50fbeec2f73146a49c29250b750c037a",
            "de6f46a07eeb487c9d058a196b8b9594",
            "5e941d19412f4a65959a763afbdfd532",
            "8b515b621989406bb6e00bb28593e6ff",
            "3dc5b64ec0c24d53bf0592f3062c43b9",
            "df1cd22e4dfa4c4a976b378e34d4a16e"
          ]
        }
      },
      "source": [
        "# @title Video 3: Overparameterization and Overfitting\n",
        "from ipywidgets import widgets\n",
        "\n",
        "out2 = widgets.Output()\n",
        "with out2:\n",
        "  from IPython.display import IFrame\n",
        "  class BiliVideo(IFrame):\n",
        "      def __init__(self, id, page=1, width=400, height=300, **kwargs):\n",
        "          self.id=id\n",
        "          src = \"https://player.bilibili.com/player.html?bvid={0}&page={1}\".format(id, page)\n",
        "          super(BiliVideo, self).__init__(src, width, height, **kwargs)\n",
        "\n",
        "  video = BiliVideo(id=f\"BV1NX4y1A73i\", width=854, height=480, fs=1)\n",
        "  print(\"Video available at https://www.bilibili.com/video/{0}\".format(video.id))\n",
        "  display(video)\n",
        "\n",
        "out1 = widgets.Output()\n",
        "with out1:\n",
        "  from IPython.display import YouTubeVideo\n",
        "  video = YouTubeVideo(id=f\"-HJ_9HxY38g\", width=854, height=480, fs=1, rel=0)\n",
        "  print(\"Video available at https://youtube.com/watch?v=\" + video.id)\n",
        "  display(video)\n",
        "\n",
        "out = widgets.Tab([out1, out2])\n",
        "out.set_title(0, 'Youtube')\n",
        "out.set_title(1, 'Bilibili')\n",
        "\n",
        "# add event to airtable\n",
        "atform.add_event('Video 3: Overparameterization and Overfitting')\n",
        "\n",
        "display(out)"
      ],
      "execution_count": 24,
      "outputs": [
        {
          "output_type": "display_data",
          "data": {
            "application/vnd.jupyter.widget-view+json": {
              "model_id": "50fbeec2f73146a49c29250b750c037a",
              "version_minor": 0,
              "version_major": 2
            },
            "text/plain": [
              "Tab(children=(Output(), Output()), _titles={'0': 'Youtube', '1': 'Bilibili'})"
            ]
          },
          "metadata": {
            "tags": []
          }
        }
      ]
    },
    {
      "cell_type": "markdown",
      "metadata": {
        "execution": {},
        "id": "ufWZ8L72DqA9"
      },
      "source": [
        "## Section 2.1: Visualizing Overfitting\n",
        "\n"
      ]
    },
    {
      "cell_type": "markdown",
      "metadata": {
        "execution": {},
        "id": "TaW_N2uzDqA9"
      },
      "source": [
        "Let's create some synthetic dataset that we will use to illustrate overfitting in neural networks."
      ]
    },
    {
      "cell_type": "code",
      "metadata": {
        "execution": {},
        "id": "9ENzs6MfDqA9",
        "outputId": "6769c8b0-ccdd-44a4-bdfb-9e8f9ab5622f",
        "colab": {
          "base_uri": "https://localhost:8080/",
          "height": 447
        }
      },
      "source": [
        "set_seed(seed=SEED)\n",
        "\n",
        "# creating train data\n",
        "# input\n",
        "X = torch.rand((10, 1))\n",
        "# output\n",
        "Y = 2*X + 2*torch.empty((X.shape[0], 1)).normal_(mean=0, std=1)  # adding small error in the data\n",
        "\n",
        "#visualizing trian data\n",
        "plt.figure(figsize=(8, 6))\n",
        "plt.scatter(X.numpy(),Y.numpy())\n",
        "plt.xlabel('input (x)')\n",
        "plt.ylabel('output(y)')\n",
        "plt.title('toy dataset')\n",
        "plt.show()\n",
        "\n",
        "#creating test dataset\n",
        "X_test = torch.linspace(0, 1, 40)\n",
        "X_test = X_test.reshape((40, 1, 1))"
      ],
      "execution_count": 25,
      "outputs": [
        {
          "output_type": "stream",
          "text": [
            "Random seed 2021 has been set.\n"
          ],
          "name": "stdout"
        },
        {
          "output_type": "display_data",
          "data": {
            "image/png": "[encoded data removed]",
            "text/plain": [
              "<Figure size 576x432 with 1 Axes>"
            ]
          },
          "metadata": {
            "tags": [],
            "image/png": {
              "width": 557,
              "height": 413
            },
            "needs_background": "light"
          }
        }
      ]
    },
    {
      "cell_type": "markdown",
      "metadata": {
        "execution": {},
        "id": "whZp4dIiDqA9"
      },
      "source": [
        "Let's create an overparametrized Neural Network that can fit on the dataset that we just created and train it. \n",
        "\n",
        "First, let's build the model architecture:"
      ]
    },
    {
      "cell_type": "code",
      "metadata": {
        "execution": {},
        "id": "XdteyX2IDqA9"
      },
      "source": [
        "# Network Class - 2D\n",
        "class Net(nn.Module):\n",
        "  def __init__(self):\n",
        "    super(Net, self).__init__()\n",
        "\n",
        "    self.fc1 = nn.Linear(1, 300)\n",
        "    self.fc2 = nn.Linear(300, 500)\n",
        "    self.fc3 = nn.Linear(500, 1)\n",
        "\n",
        "  def forward(self, x):\n",
        "    x = F.leaky_relu(self.fc1(x))\n",
        "    x = F.leaky_relu(self.fc2(x))\n",
        "    output = self.fc3(x)\n",
        "    return output"
      ],
      "execution_count": 26,
      "outputs": []
    },
    {
      "cell_type": "markdown",
      "metadata": {
        "execution": {},
        "id": "USeas6GNDqA9"
      },
      "source": [
        "Next, let's define the different parameters for training our model:\n"
      ]
    },
    {
      "cell_type": "code",
      "metadata": {
        "execution": {},
        "id": "2_pIKO0lDqA9",
        "outputId": "5441742a-8341-4487-f050-db2687bf7b5c",
        "colab": {
          "base_uri": "https://localhost:8080/"
        }
      },
      "source": [
        "set_seed(seed=SEED)\n",
        "\n",
        "# train the network on toy dataset\n",
        "model = Net()\n",
        "\n",
        "criterion = nn.MSELoss()\n",
        "optimizer = optim.Adam(model.parameters(), lr=1e-4)\n",
        "\n",
        "iters = 0\n",
        "# Calculates frobenius before training\n",
        "normi, wsi, label = calculate_frobenius_norm(model)"
      ],
      "execution_count": 27,
      "outputs": [
        {
          "output_type": "stream",
          "text": [
            "Random seed 2021 has been set.\n"
          ],
          "name": "stdout"
        }
      ]
    },
    {
      "cell_type": "markdown",
      "metadata": {
        "execution": {},
        "id": "VMGSLS4-DqA-"
      },
      "source": [
        "At this point, we can now train our model."
      ]
    },
    {
      "cell_type": "code",
      "metadata": {
        "execution": {},
        "id": "Ul-ZF7toDqA-",
        "outputId": "1b7bfd9b-0674-4cad-f9b3-8cf8c3a1bdcc",
        "colab": {
          "base_uri": "https://localhost:8080/",
          "height": 83,
          "referenced_widgets": [
            "4d125d05226e4946876d4ee8224ef7fe",
            "6a2673ad3eee496387f697467cb2df5c",
            "c31b082ada034addac8b94f344e97b6f",
            "ef1d929bb7df469c9a68e55d042d13c3",
            "840336d28771468fb9b025e334cf2f75",
            "1dc61231f4d14bafa89e19942c936c84",
            "4e37cea9fcb345abbfba8608243b2eb1",
            "1aa3b201b9f349918af8c1c25a818dbd"
          ]
        }
      },
      "source": [
        "set_seed(seed=SEED)\n",
        "# initializing variables\n",
        "\n",
        "# losses\n",
        "train_loss = []\n",
        "test_loss = []\n",
        "# model norm\n",
        "model_norm = []\n",
        "# Initializing variables to store weights\n",
        "norm_per_layer = []\n",
        "\n",
        "max_epochs = 10000\n",
        "\n",
        "running_predictions = np.empty((40, int(max_epochs / 500 + 1)))\n",
        "\n",
        "for epoch in tqdm(range(max_epochs)):\n",
        "  # frobenius norm per epoch\n",
        "  norm, pl, layer_names = calculate_frobenius_norm(model)\n",
        "\n",
        "  # training\n",
        "  model_norm.append(norm)\n",
        "  norm_per_layer.append(pl)\n",
        "  model.train()\n",
        "  optimizer.zero_grad()\n",
        "  predictions = model(X)\n",
        "  loss = criterion(predictions, Y)\n",
        "  loss.backward()\n",
        "  optimizer.step()\n",
        "\n",
        "  train_loss.append(loss.data)\n",
        "  model.eval()\n",
        "  Y_test = model(X_test)\n",
        "  loss = criterion(Y_test, 2*X_test)\n",
        "  test_loss.append(loss.data)\n",
        "\n",
        "  if (epoch % 500 == 0 or epoch == max_epochs - 1):\n",
        "    running_predictions[:, iters] = Y_test[:, 0, 0].detach().numpy()\n",
        "    iters += 1"
      ],
      "execution_count": 28,
      "outputs": [
        {
          "output_type": "stream",
          "text": [
            "Random seed 2021 has been set.\n"
          ],
          "name": "stdout"
        },
        {
          "output_type": "display_data",
          "data": {
            "application/vnd.jupyter.widget-view+json": {
              "model_id": "4d125d05226e4946876d4ee8224ef7fe",
              "version_minor": 0,
              "version_major": 2
            },
            "text/plain": [
              "HBox(children=(FloatProgress(value=0.0, max=10000.0), HTML(value='')))"
            ]
          },
          "metadata": {
            "tags": []
          }
        },
        {
          "output_type": "stream",
          "text": [
            "\n"
          ],
          "name": "stdout"
        }
      ]
    },
    {
      "cell_type": "markdown",
      "metadata": {
        "execution": {},
        "id": "KJyRHtiODqA-"
      },
      "source": [
        "Now that we have finished training, let's see how the model has evolved over the training process."
      ]
    },
    {
      "cell_type": "code",
      "metadata": {
        "cellView": "form",
        "execution": {},
        "id": "8x6IhssuDqA-",
        "outputId": "f9ba2d54-78ce-487a-b99e-5f962686d3c6",
        "colab": {
          "base_uri": "https://localhost:8080/",
          "height": 398
        }
      },
      "source": [
        "# @title Animation (Run Me!)\n",
        "\n",
        "set_seed(seed=SEED)\n",
        "# create a figure and axes\n",
        "fig = plt.figure(figsize=(14, 5))\n",
        "ax1 = plt.subplot(121)\n",
        "ax2 = plt.subplot(122)\n",
        "# organizing subplots\n",
        "plot1, = ax1.plot([],[])\n",
        "plot2 = ax2.bar([], [])\n",
        "\n",
        "\n",
        "def frame(i):\n",
        "  ax1.clear()\n",
        "  title1 = ax1.set_title('')\n",
        "  ax1.set_xlabel(\"Input(x)\")\n",
        "  ax1.set_ylabel(\"Output(y)\")\n",
        "\n",
        "  ax2.clear()\n",
        "  ax2.set_xlabel('Layer names')\n",
        "  ax2.set_ylabel('Frobenius norm')\n",
        "  title2 = ax2.set_title('Weight Measurement: Forbenius Norm')\n",
        "\n",
        "  ax1.scatter(X.numpy(),Y.numpy())\n",
        "  plot1 = ax1.plot(X_test[:,0,:].detach().numpy(), running_predictions[:,i])\n",
        "  title1.set_text(f'Epochs: {i * 500}')\n",
        "  plot2 = ax2.bar(label, norm_per_layer[i*500])\n",
        "  plt.axhline(y=model_norm[i*500], linewidth=1,\n",
        "              color='r', ls='--',\n",
        "              label=f'Norm: {model_norm[i*500]:.2f}')\n",
        "  plt.legend()\n",
        "\n",
        "  return plot1, plot2\n",
        "\n",
        "\n",
        "anim = animation.FuncAnimation(fig, frame, frames=range(20),\n",
        "                               blit=False, repeat=False,\n",
        "                               repeat_delay=10000)\n",
        "html_anim = HTML(anim.to_html5_video())\n",
        "plt.close()\n",
        "\n",
        "import IPython\n",
        "IPython.display.display(html_anim)"
      ],
      "execution_count": 29,
      "outputs": [
        {
          "output_type": "stream",
          "text": [
            "Random seed 2021 has been set.\n"
          ],
          "name": "stdout"
        },
        {
          "output_type": "display_data",
          "data": {
            "text/html": [
              "<video width=\"1008\" height=\"360\" controls autoplay>\n",
              "  <source type=\"video/mp4\" src=\"data:video/mp4;base64,AAAAHGZ0eXBNNFYgAAACAGlzb21pc28yYXZjMQAAAAhmcmVlAACrY21kYXQAAAKtBgX//6ncRem9\n",
              "5tlIt5Ys2CDZI+7veDI2NCAtIGNvcmUgMTUyIHIyODU0IGU5YTU5MDMgLSBILjI2NC9NUEVHLTQg\n",
              "QVZDIGNvZGVjIC0gQ29weWxlZnQgMjAwMy0yMDE3IC0gaHR0cDovL3d3dy52aWRlb2xhbi5vcmcv\n",
              "eDI2NC5odG1sIC0gb3B0aW9uczogY2FiYWM9MSByZWY9MyBkZWJsb2NrPTE6MDowIGFuYWx5c2U9\n",
              "MHgzOjB4MTEzIG1lPWhleCBzdWJtZT03IHBzeT0xIHBzeV9yZD0xLjAwOjAuMDAgbWl4ZWRfcmVm\n",
              "PTEgbWVfcmFuZ2U9MTYgY2hyb21hX21lPTEgdHJlbGxpcz0xIDh4OGRjdD0xIGNxbT0wIGRlYWR6\n",
              "b25lPTIxLDExIGZhc3RfcHNraXA9MSBjaHJvbWFfcXBfb2Zmc2V0PS0yIHRocmVhZHM9MyBsb29r\n",
              "YWhlYWRfdGhyZWFkcz0xIHNsaWNlZF90aHJlYWRzPTAgbnI9MCBkZWNpbWF0ZT0xIGludGVybGFj\n",
              "ZWQ9MCBibHVyYXlfY29tcGF0PTAgY29uc3RyYWluZWRfaW50cmE9MCBiZnJhbWVzPTMgYl9weXJh\n",
              "bWlkPTIgYl9hZGFwdD0xIGJfYmlhcz0wIGRpcmVjdD0xIHdlaWdodGI9MSBvcGVuX2dvcD0wIHdl\n",
              "aWdodHA9MiBrZXlpbnQ9MjUwIGtleWludF9taW49NSBzY2VuZWN1dD00MCBpbnRyYV9yZWZyZXNo\n",
              "PTAgcmNfbG9va2FoZWFkPTQwIHJjPWNyZiBtYnRyZWU9MSBjcmY9MjMuMCBxY29tcD0wLjYwIHFw\n",
              "bWluPTAgcXBtYXg9NjkgcXBzdGVwPTQgaXBfcmF0aW89MS40MCBhcT0xOjEuMDAAgAAARNtliIQA\n",
              "E//+97GPgU3IAA2XOop6H+EVsfSQUXqx2aBk6gAAAwAAAwAAAwAAAwK4GjP4lE5Vb0tfsbGTXdLx\n",
              "uAEqKgRTBDd8rx+4tlR7b2uYx7X/6u33cYoTdX05H0QygcI/nY2+AFlp++5q+/mvO7zUsIC1e3fG\n",
              "sVk388QeOQX2U7eKq+vqG+WHBzPraUzcpXAuDxMko49eoM7lTNphlxjVNVawJYnFqMcx+ryuMAes\n",
              "38KvQv0yZt7Vxsxr3P03khCdgCn5FPAAOaU3GfHIpcJoTyPfXklUT0o28NqoZFfTR3TdVMxPwKQb\n",
              "PTCSLEfi5rcOKBueeZRnpsQWq3GlGvmdswYUn12FbWWdWxYe0+Zv7sJtGge3TR1cwWIRt3c6ps8z\n",
              "koLpyS735i4oPFILOSAEVmlSlX+4/InkB641AMcIKeViRoX9PYdpA3tBYfLWrg/90KZegl8px+Pr\n",
              "mJ+qG0clJfBrAXhTRxhUT+elNvWFkkTOEW9O1B9o+lzZIFhWL7dmIJilDAu3v+4NBR2QA9SOYcAg\n",
              "PAqN7D7b6pMmxYavJuCN1kYnQ5kHLi7ztoZsGnW/v2Wb6jr4Ksh7abjatyT7cqYO8uZSbgC+d+7Y\n",
              "g0NZr/bTPHAdFBG/pRL8A/HAOiqewTLx5vFnY9EHBJsEb62afi8lrhQmOSUw4tQjt2d/97vnzavm\n",
              "R3vPT6YXOBTgj7jMl9WiKmONoguvX3EmyKwNjwAAAwAN3RCU0+fEtQL7nfphvkn33CAYL9lOK88a\n",
              "PWYeZGvSf4erHKGltqZokz1IaFNEbbvOV+EgmPRieW1RTYWnUdKKLIQjBZm9J3Nam1WIo4TM4Adt\n",
              "0s2zq8EzS1FMDlyKmG9PiIIbrjc4rQL09rlRVnS+v4D/jtiS2eJ+AzST9NjG/3tH3TbJ+DhWs0rO\n",
              "z3T6nIyUizus68lMWdEcQFiPCpgZzTm9d+taqf8GTAv4UCTmZl64t5iS3mHUuIdaCWq/xKTIxnvm\n",
              "yngrr1ihwjMCetfSmZCmF0/grEbgvw3hdblGzig1oASrxINqOMrUggtTdQlX6YhcPtvrG5VH/OfW\n",
              "K3e/6Lq2yLi6HDOjkSXKAmq1UuLoqUgfnd0SOqw4wsg0ToUMu7f/NgQZAshisx9nXwHi3MaDnANj\n",
              "Mzn4Prrr4MtlY70Kn0BuQIxF3DlgnzMm+NCOmwcgqWoJ7DySP2IxTGyOWBi1u4nG5gydAhF3LyZc\n",
              "EdD1IyI10YuEOC5Gbw6warMMGDf8DOti5oJoo47Wyq8efEHCLd6NLmzsApTJ7g7Kdd4rbN6AAuev\n",
              "XFxDbDzObTMnUr4S1f+ip3SFhsyrZfHOY8nyC7TCPULDd4zGpNrwGFoNumVOjCa5pi9LPIHJUBhq\n",
              "75brFugMQClH1ZRCjcT5En/v4ueCcRgKIGtVWqFTGAx9BXA6XO7dRzRgDPShlrLzvuwsVggeHo++\n",
              "c7QsASEvWpc8TxCxA7pKHBxy0VkoSLdlIjww9jhxrCuDx8D0QDZsLz4JDbejWolk2dLjMtjFtqBv\n",
              "L+WhrzYNNDA0cOOOR/CuzndTBB3ICgVcKkF/P37U8Sfa2UndYrIV5kulJZj8SyJ46l6Vg7xl9HDK\n",
              "kgJPP1wQ/wohPMLIOSOTbsvpRxn+UibjbN4REM/eO5QlpEv5N7jPSaqWU6E1SDJ4tDYcbqJLe8+V\n",
              "zpeLgadfcAcIGSWV/fw06hQ26KiwDDd/5wmscq3/rWZ3jfS13GrH/+ZQss1cGHqBM+GtO3xhfOjb\n",
              "d1iqDkDiF59+9B1PHnyiVHxEQDnO+F/b4tCPrsC/BshusDjvGQSlDQgrzynigEHVAvN+yByhcytf\n",
              "kiq8TnAci7EpRsuQ4/GG5wtUbu5W1TrG7hM/kDnleHbYOrOTrmHE6ezyVVcKcr5giB10HUWqN2Ij\n",
              "PEcHc38skUyu3Ai6+Y2Zm/yHVGOyvOqBaMHWkONRQUDMIMxay3M3NiIRGjiMKGz7Epd3CQKjxqEr\n",
              "F+88+puvV2zGdXQJDfJ7AIIv6ncCKpHHVqyQGN4ykxiG839kC2ls1X3aZgAB8gt5mE//3bZqVlqc\n",
              "HjhMZLlRjiVdz7sNIIPk24+LuhE3yDzLPh1U1Tb/vTm6W4wO8n7Qg1x1D0X8ELDUxpLfcedAKSdB\n",
              "cy8lRqnuXiPsZrJvjSxxLSmpm872hyI0dnh9j9thWqhWB21OQpQxup2hDooHHYxKnNEVTsdiaXrG\n",
              "sSqAZBLeFd0zkl5MwulpI8whM7d76sCXhL5x6Uc5S+xtcB5ILaJIJTcyA5dfFbvaVgAprgHtSzUE\n",
              "HWFEF1WEWDF2qD8MpUomie6QZRiD2vz8f5vWSBPBNZha3blgPRcpCO19tjI/XoRVfSrRCGvV49zR\n",
              "8nXz5ODy6JIhRLntGZT3iktDAByN2Wk6A/hpAiFf/VLeMH3xetY+AxGQVsT4P44GpUEHFMptzfo/\n",
              "d0d9Up5a98PvWvt5S5S/a7YDixIMI/V1TUlLWU8EZ9J8EKkRESyA+/I2pXz46yys2qDui+Uow0iy\n",
              "Yf0w2YXnQU5/9520Q0+uNWlTREcGvLkoe5lwGMPG/5J52qG4MpxxjkjJGKp+vqqvYh56ilf72/gf\n",
              "0Fj5vjkmHUhoVm474eEnKq+jY/+tadsRnI7TUhfABNSkT1P2dOLMSqwUYJXvraRZ/dJo3jRTOrbA\n",
              "89smm82BsuM6m5PYAwKlQzoR0fpC2ixXW+Q2+/UO9CxxHNe7YY24lw3cjZKfoyTBsa8lvPq5nM0s\n",
              "2cDrxI0eAfiX5k6R+Zu53CsjszNn8A8g5v/3UaF2Vj3YmuunEioUigbP/V8M0EoYN9UIY8jbw0Rj\n",
              "h+QvktoYMdbNJwZ67L9Q7m0CryiqCenaoGG4ryzP55aR82wa7BgEHnccrO5v8aWnr5b+XbnZguer\n",
              "cS3s4b58BiRiu9MGzDis+nNzG0YJC27UxBPaworqfHHmdS6DP1ueg4U+FwXUIiHuBlLHvdF87Q4r\n",
              "lHGK62XvghFcjQuOBWYVhVRTMimF1e01efSD8REsmbs4zVCw24Zf7BnedSmfTy6u16s8CNmEXi3E\n",
              "/7VGqshwnYKyJ8lkOVfjyKoJEqA7+Oalm3vkcxnLnsxoPguEaRYKQVSVmhIaO7qtQvT1dX2sn+KX\n",
              "7YIHq3axooxIggAzorHmOaUofQRM7cGAowbVOYwmqrEBUr3xPZeorKd/0v93LRdEBpfQVQAkq6F+\n",
              "GIXktEDlSI2b2uaAvpDn0yKH1wIfFqNLFv/4cRjm4Qg3UoXRt1SstJGUP3mG0DFZQLfustB1Q7xj\n",
              "D5hoerjZi5cHh8QviCLb1KXpwfkyQgtJ0nWDApyy72ppLtM9jFPKJykcg+5DQw88T/iO2oVsrV3r\n",
              "V8X7F6s2UBlsGFjePhjBRu07BZs8Y4r5O9hxoYcxnHaPG42vpTgk2iHF7nQ0DLfC2i1b01m2ZVWx\n",
              "SFFKwPIjNsaIrdkQFySaJhc72PNG+Qg0OdWjMy9s6QIse6kmEhN9QkZHNsyO/HSphWjECElrjmt3\n",
              "GG2KCey4UlBNnBC4o45Yuk/v2MLqOQX5OaaHU9KW1rSVaEfXC9b0Jmo6nEKSKxYTuCeTeqjODqo9\n",
              "pV7vUmit+p862hssYUIPMUeiWBcaNYI63mHIQp9dtGTvmXkUfjmGbZ9HQBCxb2/Z4PN7fnp9P2Tr\n",
              "9URoOwpxmIbdlMJ5Hqyzpgl4sna/dck5vvKGyacv0yQeupjGy569QoQoY5FSQBNePIXXNCj4Sz5m\n",
              "zWnjXjeSL6s42YrdnOHc8Xlf3LFAtlLhXylDMTSxxe8UMAxvzv+PyOr/nped/bCjM+/9nCze+DUv\n",
              "MFoszGkRQpTLwlvVaB+wNX2zlHMGqjIVcAA4bdYHv5yKoapj3DV7q+AVDpNjmsqtvNacAX/+dYQm\n",
              "3ddQCW0BMitA+fXteNtrm/B6o0/tkAFL079h54LM55ubkuxfpR+Nu0N45MDSuXeElfA1vP5gDcMB\n",
              "nAjdU/mE9gnm+G5GEl0LUUgsG6U19mFqmZ4wCDKYPpG31bYt7U1oXgEXJT6r5/uyF/bypkKbrGk9\n",
              "Gcu19E79iR7ZYwOgyBosvZyBCmLdW9yniOo4akhm31lysdgqdAPqtLJDtnoHDY/GEk3ZI7s/3XG4\n",
              "/TOo2nqW1t89fZZnGF/tSllEDIbmKGss+V27ONIfrRWVMTNmzyG54204ikZXArzR3OzSvlltHVyl\n",
              "FeAPKRFPn1FuvWRbhJtHbPbtxkaTH9EbFGn5dU6OEyza2aH4vYcQ5CF1rnlXMP4lLuI45XjKOh7J\n",
              "B8IKgWEdKqJVNSqnm5r6O8KEt7xVasLT22uaj56HZ4fNBfXdAtEzHXkgnZ1x5C3rM5pyECAN+1r9\n",
              "5uEGuzyl4HnPb1YD4Q443NbBc4RggpztTdPfNExGkCgmLcdqaLxxibR6eZgNeb7ZA8EwimrkVjJV\n",
              "0A8LZHkkj929u+Nt/KZO0Y9oIaTjC3WGtbY47RjmnPVal+ItgdbLVp6m4Ybj7hAIeuXNBTo8vA13\n",
              "iS/fS0goyd3nB+oU9hSUKXangIoTnhuW/cBH+x3DvnGL4AS/nLZa2ZDhG7PdNNu5I1QWnmEp+WKe\n",
              "g7gpkx591MF2JqGfVv2wQvgNTMyYy49fHoMdRjO7UxLYNNvI2ZlNfCBKKrbEijYuekry/gPnt9x4\n",
              "Z3qEqzB37Upqpt54YuKRvjI13LGaXjiiN6OKi9+Olb7o8dz6bntBQ2yN++IyyLfPHQo6ZUDeWqWK\n",
              "UZXpFUEDctTDB2v/qAAQXu9l3m+e6XLV+D/rgx6CQ5yZQgOtD2l1hIRB36HLTF4g5C9MpTDVMdqA\n",
              "ov3gAFUOHhAL4LwjYTxHbrMVgsDmpI0xKh2DotS6tbA9lsV1sxIH4VcqmvLbrTieNHxzX0cUZaeV\n",
              "6ACAAHb+mWK2NxzsOnoq71QQzE5Lcffh+QK2Bn3zu5g8VVIVACgQmhZHwRnShGKeAnjQczcI9bb5\n",
              "kJmZ3BYxnhBehFPCMlqjYHJqkDFbLeHF7TYzbdtA9qq2x94SkqDNxkYDkZy1dPF8n5xIIuZ8gnEm\n",
              "m8X5bR8UmTFRbAwjar2TnE+/pU5GgT/JSXd3jCRqa+rf09jZ7hABw5aWpY1Uw/aScCw4ClFpjZPB\n",
              "mDNBn9uEF5msN1DtWxY5INLmVEgjQeJ7lHvoNhTmuX7JM9JolD24p4FbqieJ0JQjrnpgHAwng1ft\n",
              "uRRBWi3jAh2lknIO9NGXoXWszJdBDmwtsRpdAtlSjrQGjFVzyVb2MrEriOVJgzYhFKdk5jkaFP5B\n",
              "6hj21zlHQlwihx7MG6Jhh3ut3d0OdGNFF44eHuHAnlCSBHpYKP67nuy5XQ2Br9bx1GyN96ClY04m\n",
              "TzLur1m/ooSiF1y/IY6n7Pg0Dy57S5P92tOmWQ+ljJy9pz8OKULfWeV6GGAH20P2RAHuNXMwYR4g\n",
              "sUygTEC3WSsF0k9ZFNV0bEJW7bxeetlXbT9ZjCuv+hhjbfgq46EXgmh/n9s9jul9FeYFh85slM6l\n",
              "qAcPoQyriKeYBQaKgBVh/smP8fH+LK708ZJ+TdsWCH4Ss2B35e++A9Qhz8U7+dpDQocmp2/aT2F1\n",
              "I6Q2Q2xXaOQs61UCIEzrmxhajuTyFt+XwTG9O6UVKqFdVjYP0UjQMHQKJhqpR6Ssy+qCSGpmLK1U\n",
              "r0pO1tP3MihhPx+BIAP6VLl2fnylKkOyrbeLDc8SORDN6kEE9vFtdvb2Nq74WEN6NaJeZTomo5LJ\n",
              "var18+YlTO804qSkLgrIxN+1UA1lXfKRTEdnHldqSXtyn7keDqqCVrnfQgrmLmarFNH5ZdPzIlBT\n",
              "7SaEvxHHLCY9KOAXmSKwY6ahrN2jXSd8/Ed62R5kGbnHRMgPsHVYompx6GR+QLkCCOtavcXmEyuJ\n",
              "FIG9Fz0SEIMSGK+sCL1+tGFXoZhR+b8RnQW7vxjzIXtWDfKGdQpeBBq8NMB7TT4syyVg9lwYdmnQ\n",
              "PUp4/a4SR61kkITvbSfvjnnQXpn8ik+iaHburzyYuhShmgYm0O/NEPFgN+qG0OQnmDaBkuZ8YGV8\n",
              "amZw3tOCszn8OO5X85G0XKbW/6qtrXKdkTOovn6JAlRAsK9NWqys8KzqZiazxSSGrF/V7N9WFTEh\n",
              "SlT227DKxNOyM1jec1QJ98u3yZscdvCurSr0mPSbwz4S9q+mM7eKzey0oZcneKSUguOE0MSOXBng\n",
              "g3E/adrptvGdvOZotjJVC8OZnMiQTfFv6lzPnNk/XC8ORAwnCpuabL8nj0j8z7EqDVvVSvLRAHjz\n",
              "Y1XJ5vBneXaS4YhmDj/BojEFmBDtLJOQeB4lN6/VmZLoIWFIsb6bdKZvvF2wz5paCH4yVNCjgqI8\n",
              "QRUA1vDpi/zwHd2nxX5tlgN+h40u/TJtenUzT7IVybHY1cVFZYOdQB90arWpix22TVhZU7O2hnww\n",
              "0RrkaRX6LPYGDDecJaox9BnFlMP8+7jcuACvqeCLIPdoet0SIQM8Tek79YkFDCNlZDkme3rdsp0R\n",
              "BnTlVpB83H0BaUZ9JLLKCwyxZFDkKSDSjZdsaJx3s7d5quBoweRyzInigHQ7z/UB2SsSM7yrJlfD\n",
              "Clt4pO/p+VIUdTynHCgFIY+f50vMJMzTPUYXPWkPUw9zUwjoVTd+2kLiBrr+NnOS3upgQNUmYYGR\n",
              "Cul3+e2E7WfBMo5b7DOAsf97QIG1f7F0s/sn4Lj36//yKLsKRizz8Dy5Y96Jk3crApDUfYFIdydU\n",
              "cUfVSev2Oj7pbiFruhBSormErb7mimKaCE9iV5s43YQuHjsD/y8NcuFih0Dj5IVPmvy++/pNAeDi\n",
              "d0sVKzsG+ioiKMQ8g/qNG07y9cRUWG/L6hTCOdto6AyGInhwrzfPhYksCJxpDgHz5rjDfZcet0l1\n",
              "AxizD1iCEAE7+kdjG7RPf0uT2bggFVXbkVR2vBmAgokBePOPhqnyqTMAJxrgMd3d6FWzIBVqaHh5\n",
              "4sPWMrDBCCROLgc/b7ullqJ2nLFojglyacK+1aQhoO0Pp6+ikHG2WZ88IwoeMlPsXjYP4wzI7NhS\n",
              "wEki/d4TFEZar7Y7H8qTCw808Go32D4AoC/X9n7oEkyMtx7guWvKxF8/WUF35zLh+UV2srYN4Ng7\n",
              "v7npiWd8i04n4ecCCI4XoI+mUsE5p9IFW30SCJJz3nfZwQ9jhBysv7aEAdwfz6s9ySXPig1S1IvV\n",
              "3rzYPN9DOYNOCv9J/pDaBPIVXjAHRwwWBj8FF//+6hJKv+ZYVyiRdMQV4uD2tEBtsSYitg/nYhp2\n",
              "lkVff7vivW/AkY9t/MwVxH51pm//W+iQB0EbAZVaoRWt1LUX+tCeW0cRrt9doAAAKSYWeQLsjZAf\n",
              "s3+pK2xmRwz4L6XIZVwr4bfq62YTH6vvuDeA1dlL/6i2lx49w48Ju7IrOjn+gD/b5+VNceOQqnrC\n",
              "33eWlP18UtUiO+Wg0pC/1if8YXJ4zlQUMHq2CarOHGpKVsbDJZmAbRsEjljq8joTmt3r8pWHOG6q\n",
              "sNmQgBMsmhdZtkwa2F2sZly7aP6wITvKlzNxsajUscnr1SHnHzS5fHbVFCT8KTzsWQo7PJdvjiNH\n",
              "ER5L6VIZAz4F13opCqB5WwQAO+uMCW6BFR2Pp8MvzhANbdE0JTv5NBesnc+xQqE7fJOnEm4sZDoA\n",
              "6XIE+LzwYNLS74VJHFGyzBLgreXc8xKtrA2hMsv2yjh4AFKkc2BoSRY+K4VsUgt27SRWzYtpwNC8\n",
              "lcazAmsYeuSQe5KFHE2F46Tk5T/gX0vUdWLUbsH8uIBz72NtzoSvxEpUWefeDMC0TKnlzTc6+w35\n",
              "sbZZBBRM1rNY5xdNyU5/5W0umzXtug3384eE9DkaGLG+0n8euQGZXLcbGSjwDAA1+SUdAhiWDvhp\n",
              "j2FT48mEsM0CgOkiD5BLnvf/KtAABZ0sinEn9m8YPIDHNsjNr99KcxHJuxEibW+66LqKV/kfBOKC\n",
              "Koh82IVcDdY3ihqiC24IPY0H+vTN2T4LYVhdPMmKdP2TDizHfnxbuWm5tA9SlbXHlpg+e4pTWcA/\n",
              "fTdC6LN//muod36IYBHWkMxgNPRRhKtFZckIZ2ekyrXEWSQ06oAi6Sf9FRrQpQ4zZ4akYbR+Jk94\n",
              "Y8FK6qioid83sSC5jIW687shqtc2m1RJtSjrb+pMvHrJzonMXHgH4Jpst79hc6SH+wdt7x9u68we\n",
              "SpVOgh5Ab6+IPymNqgAR9gMs5h1OWRYigtx9V21HrC1AqRR+rGPCNsl1nM/SD9DpG3YLx0cV4My0\n",
              "6IDYOHumOWG++A1bqnLiolXsqOZ80m5QNZfidfaRK8t469ikPeXnuaqDBTHtFTWaf7PN0fDF987K\n",
              "2pNdazCbslbjzA0MCMP404g9g3jZRfGb0JyfERS2wNRpCSP4EsHJj9/iSlagP8cXuAeQzGAfrx/F\n",
              "SdgAMKJ3zfzsBaL4VxCNnj4mnkp/0UzOVJmXzjXWuXjFie4JtQNDd8fuIW7qwWSSYvcwjzllTDvp\n",
              "JAZ/5T67G6QSyaaO+r7ZR/4pe1dkbbnnK9B6xuLK96QT0pNDplWTGLSH6GtyNbTbXLmw3AASL1ug\n",
              "SVFf/8WbkOdZJNteLU1htxILVcCVhK2+VqyvVY6gkvurW6YmOC5UYI8JD2dhgsdqPbeGHxsZMSBz\n",
              "UfKaPPLxsXOBYQduUvQk63x5t8Hn41uWOyfUXl+cp0MjZIunK2fnx7eoV4rkxj6vbA4L895pinWk\n",
              "t8xSHlDwmd5pqUbi9pBHsgwtrftItK27O1kF6w5KrewIHBSiK1WHIHWxvj/0nynPVn1XMHD8uJnJ\n",
              "T1v1WG1ZtoMCXT/64mqnWqLU7CsR2XlvgcuYKV3FaTzydNN831nsdpzmTK7slEJROVWyP0oLeshs\n",
              "vwFmtRn6M6vaRCxaATnE//j5Lxa4OvEqMAd3wfrb+GPfwnf3YmkHK1LJjo8iN2jRFwcSt05+G/3N\n",
              "GRGrywXq/GZFkXVXDpZrofSGIODaN+sWGAcG8Cipb20g4yFzeFCBvs3DJ3KmdttOHjH8Z2WukVGY\n",
              "uiHNZy9J+SRTeBW4TXbo2fYMOXh5cqgyDf5L/GL5E9za7iVzSTqLOP/rRUoBmclfwVpAoX0qNBEc\n",
              "VXtOP2f/SMlAFn07xwE9+riMYjy85qPmykFBXh2Ge6NN2W1Rpd1crxTgC+kunvgodCM6ir3D9ss/\n",
              "wFtzxfPC+FVzSZqnDXZ7S5IBV1prBiSvEVsWCjxBxm6WLm6e3MaM4zMqlxubbsPPxiEdLBwDvnzr\n",
              "ThDnbl36NNCDtdiDPMaHYCU7Y26cdV+yz4G7RK4A5spljxMCruUwczRdwFyUsXrc96bE/jmx5Fac\n",
              "VwFtJSe3PAJ6DYIqyQzrVacD/KYFiVBNXvLKJD3/Myo+5uybxriNH1lDaeFKvquuUt2xWMMpMZoj\n",
              "kkGCYHM4fFFxdJ1lT3IXfy6jDe7XsotiNMNjDmWjEQif4Q9nJ5Yt/tIPIwRfQUy0uanmnh8mVyG9\n",
              "5QVKFDvdJhuXc7xg1PMx0oaabgsDV9kNFxTDQNUJcApca5CbqKD3w/OkRYkVHHPZWeukmIpHnzB6\n",
              "aSGOzl3v+PYUNwzuEd9tRtBf1oYsHpqku9xdp/IyrCvQ8jkg6/Yd4JNSkqD0xEBA2Be258RTs0+V\n",
              "n6jz4AhBm8wtXyilqbK7R2DtLnLRNzfGTxE9MU13bo1XuZ7kqJfTql6pVS4PzuZBUyl+R9FLS2eV\n",
              "XsNpXNeG/ncBbAYANSWCDJMxM84SA/ZNDwAJZIOHOX5V0nIhXr7KHAf/2PJ2IOd/PceSHXVPuW7A\n",
              "Y6wa2vvaEKQGk3ZdGQLhVgnHZsJFQEYxk7WCxVL5ixCO4khvimknv5+Af8bbcNu3Ig4oGUWB72PH\n",
              "mN+o2RqZ5vaVRAv+l52OXkUhuPyqoer1GPXSEfYgwQi+K7ozm2aj0zVc8jJ+LFlXIg7HZ22Z8mwM\n",
              "M0w7LkUdpyZSRAa/KqcrnBRFsN6QbuUpWrtUMG5aD65565ZaOPBFU49PGuTBZOKuG1iLN0SGL/CU\n",
              "C2FN0BdDVgjB4Fi+q5Zjq49Jj7DlSgzJ/8rXoqTLp2Mj6SIKF3sb+e/qINCns/DNqjQNYRAwmheK\n",
              "OqeG1BVAeol/r8xwSk2r1ioD3yYOD0flTIAPhkq+IcAtxnhUWBdmR4UlkjeFx3lcpenPlWWQnP+g\n",
              "KIkdTcxwV6t80ewLyiOCQD01p39GctcGqtS+ePDN5j7f2vNccYOKROGyLZoVZd5YQeweBulXlx+W\n",
              "ejMQP3jTV+tUXak9E6k/VeKCbeMNWe+L3pny8v6NZtCkbl9+A9lZPtnTUCFvcu3lRapImfFOcz65\n",
              "3k35m/d+YNEfnNmdZPXSMZeNx+n3rDpSF1UK5VMpdy/NpUefkBJwp8aYlmPtNSpa/6KziQQyXBVu\n",
              "Yh4UmdmrWmMf3KeDaSvHpqsTRb2R39lrsA6maKRff42rm8bbptrAtiNi3vF5nPY6Ev1PIrRht3o7\n",
              "PVV7179SBalr7n853gI6xkWsuJ+l9W4cUarJjQnKsAVxM3CBD4yXFYADi7KLreE9G//8xM78CILd\n",
              "sN3GeUb/BEBU6fFhSC7hY9cbXwBd4Xs80qfl/2n5dktRh2UciMle+dD5NiJFbizwEYW/U35mW6ta\n",
              "YcbVV1XbQeaipmOP1ybnYuBl1l1GJyrJ2QqUSwr6PcXfCEEmK9ISO0PayrEoV0iKZv6hE3a7o9tL\n",
              "ipb8L2gTAYzIEHnuSetdXBQW6PjyUf3LLdqsW3AocWI0FSe13dWn5+BK1IDOpm6HIsd39HtuhbPB\n",
              "xcWupX8HGTy0bKkTVhTJiUrAX6IM3410nHu3XA6EIJS/gzpRsmr3bmCjei+arMSjZr8V13dAq2l5\n",
              "vM73D/lKMxMX9TjQWEgwYku7WXpVhyIs00IA3bSBKM3MHebI2DyRTwLhys1iYaz0DKQTyDpcsBh7\n",
              "049unuSjdXB/KyyJI7/T7n5ga643K/Ap3hvF0D1+D8GVXdlY5FlNhWzOwmKl3c6T7fo6LUOdi8nT\n",
              "xYkfMV8cDyDhEoKZ58bBCnpwUboyK4EMZdm3wGpdO1eP8+lN+KfA7SzUd35G5/HSgW7ThWj+/Vqg\n",
              "9W5jB2444r5gfYMQvPpUIYGJIAxJJWe+8wziy2+CNThXycZWUAg7X1cxKSxnO3sOTuHEtOgi7A03\n",
              "FN4vFN0xhYNbzTSxU3q5cn8eof9zt7TJCqFHS9CJavJSGfvulmu4E7zx8vc5eMGBj7bLJQ+6O6dd\n",
              "orNIjHyyBUg6H1JQMNeUFl9f8XJEt5TKhwGqq6tVEabvVs766VXJ9sFHMr3KejuaZh6MIiPj6TN3\n",
              "TSakQN2amWZxxI6m3az/WTw30Ivxu/kCWlJoT84AJr89/DgN+dtz4jBgiTKvLgqGf3iEl4MmFrqK\n",
              "WIT6PSz4nVhqONcAypGitf2VeEwIovdzJZGz6xj0u2h1debD+uzAgoY83ptKfE5ASHWaADh2xGpS\n",
              "GVodyG/lpWEXAr/ABArhMEGrAvYwPiOIrLevmQrYcxEBRrFjXU83OsEJcDei+wIPrfZWD8Dl9mvW\n",
              "v9WoPmGgrrm6s66OXXRF16BIRNbVrKPgkHtrRSfdZK0p/FbvtYPi29ePMbgO47N3c1Dnj8/jL6aN\n",
              "ghdz8EHY/e+s0cA0emA4HSeNOltouSvqknSuY88eK2jKaGOU0njnFAeTlg53uYg/Cow/iPDaMdh0\n",
              "IPjHf01rqA4p4B4KcM5wklxVrUd4QKBhEVeDlCgI3tQQ6GMZWqi/90TEaGEuXPPwIgNjPJhW3Ec6\n",
              "UVDeBP7OGMY/DXtLparz7LnmmD4KnN+fyJYoKpAmKOTU8+aU+ZYXskUG2TtPF4ds+9jok0qyYvUZ\n",
              "33sm9E+KZIuw5awz7fNFz4Q03O1P/NGDkkMU2IDBnSij9FanH99OQE3aDjyIwFx06PlydN+5pCTN\n",
              "x3QFG0T1B8qHNNOQDe3VW9HlKb9rA5xE1ZuOqey86ypnlN7saGSZVAkA6xqu3aRDxxnEQumuFNfD\n",
              "eZrohWoUORURhAbYdDlCh+5qnkLcUfFca9UOm55t5hiuqBvL+iO35aQZmFZtCf/1PgTVPMxC+I6t\n",
              "B/9+D2IFs35nXdf4rvi8lymGKJuFIQHPOsBQ+6YmPGh1/lNzlV5YnjCMq+8cZl+gvJrjG9BvouDa\n",
              "5648ZF0U9hNwoK8oqv7kmYNW4Jh8z6dP1E373tOXQRfdMFoFlzdF3MHMfO27TWlY18hAXj1QsKRW\n",
              "iW4rsCWA5fknAK4SYSnDIAuvTP/XPVFhQ/hs6xsuWCktLbbJbvzX1JqzYDncJCiFzjGwR1/fdeAV\n",
              "71YjrA2R8EGfaOesEbqNy1kuvn43su4V7vRMwkpwiy9Fj6hyH6l9aFmbA4To2EgzMQiJziBHwKsW\n",
              "/PgSCJ8o8zZsfO2JnEJOLfi4pgovtO9uDeYh5fJPQezIAIWQ9H/kdi0htwwm2aO2KFhpgbaU3iJz\n",
              "uQlW1AH6YAmicjkgBzKpW8mDha96Rp7p7l23p/65VfzNC7kbOstkdqPBkVp/kzTc/UVinlu4oveN\n",
              "M9VHHEowY3slchz6TTG6/FpeMt7IeoXom3vVKI2zB6wu9vCwecIhxgdLPBB0mgXU7uZqHMADH49H\n",
              "HhibdjGd9RjPRJIKmc48YjjRT0qw0qumzrKEh9EdJn4hnil8GSa1E1/0qnJt4dAaDi3PByjSLZ8n\n",
              "1XIiyRrJx+jB8Iy8UX7Z+7Nhese23Vh0QfZgDKQ8iF+4u766gQt6fHj5EQ3RdWXFUQ3QDqcIgmdL\n",
              "WH2b21jsdTZUz/yGJVbo28HAZrrlt9tFHH3wpx+zwqAY1B1rJuJ20u3StrPrvkV9Ble6FDsdQPOe\n",
              "05/BJqVm/3nJ4S90dzACQND+4vPwSYfDrwF9kTx2kaaMCq++1eKArSAsKE/eBQX066VRq2LEXwYc\n",
              "PuY7w1G+m34ySoXxN/fg1sPcZwm1gb7rHQb7H9IPD4uioq1whLmbmgnsiE38nxDBbnOF68rn4xn3\n",
              "REkREXIEO1oYnqmSto7qRab6S/aeaY9D83GTW9hQ0Dm5+aWU/2T/wYvGiP4MKUfCTEgo//WF+Y+5\n",
              "joOqc4tdcBRIGSPUZbXg/fjPm0JfUZtVeA5TcE5+b/m1ZoYrCCFJAjFMZb00N4kneKRnJDJb57gO\n",
              "OkOhhhDqfL8uO2/a5Vpxs5MMiGhgOO3c8JJEZaRs1TMhpDdUbeUQ+0/sLoq85TbQqvmxEk+HxEyl\n",
              "dK2sbXn9L0OWtEzDNPyeYNnFORWZsKB1O7YwMJIv5MIfsrmke5Ml5ox7QgtvTvy+n4n/GP2BrckV\n",
              "/yHeFCo0bhe6wCQdPZCc5nuTIl08RoiqU4LqKUMIo/pe39O4/7nL4yKV7dongT8yrgb81LYVZfp8\n",
              "nflPjLf2whfN62OXg90lcBPw1whOT7cZ/yI/X3klBLIvKdrcXBK5yJBQymY3LdOetMxG50wwVLJq\n",
              "dVLO0PFCEjN5Ocsdh3F5KgFmdXRAoM/QYd621u4G/DJxGl2qjnaH76lqhSKa+Ml58VXB7sJ9oL+P\n",
              "yjBcYvU+1WJy2jT/KKHQHzHsh+rnl0pvrhe7Y+ks6wBRLTeWEC2leIjsnE/jXAbYHc5nxvEdJQCO\n",
              "B6x6gAEvENMvIG2hWPOMiCvrqyPp4u4/lXuKq5WlH0uCqKJU3CmjfLjGipKHlN/FdlM4GlJu3VQV\n",
              "1qx4c2bxj9k8CZrnY8epEVWLXXeAqU+huf0GycomXUTH4disa1dHtSJYkM2S/VWaCtzA3lljTBQn\n",
              "ORJzisoeWKu+dxTWeiq9E8qtgKlmuw8K2FDC2iZeSwbEJz/V97YzABImeVAxkwuINRIzLIZS9RlT\n",
              "NDLvqosSLe2meuGUCvYJcAh/HBxfCpO3hwQCCRvxORHUIzSm8JHsYeZW/RPMRIxXKfIw+oDAaPuv\n",
              "dpjV97AZQfZtN2Ntze/VArlieaktscT8T52ilxLFJ8LaVgQSjwDAqcK/wIp6iXD5b7RnyE/TftbT\n",
              "hLaBklLy5CoGe7o0vFxkypsxBPgOQ9zuZ8imb7h8bER63QczWylydTUCc6Eis9vBIj2Xfgfg/IBk\n",
              "uC96znTbrrfU3DEIEqHn8vzJ2WKkV7N1EvTkeT8JbnTXYnS4NTilEAO4fzps+nDkCiCJGW4An3yM\n",
              "jVuhcSNRjrdSLQRyuCqmv/ZWHN2qhWMNJmypbbrBUTpoEUqrXivS5yzrNtUGBTJjSJEmCQ4A/Sx4\n",
              "Es9MdvGRF5HxGlyod+T4z+qPsjF+PSuvSWzAqC+yEKz8IjoCskX1d57ichQ3BTzmRAJMmW0802QM\n",
              "vgwbZUBRkbXlL1zalK9kygE0VJH1WKS+Jtg5qhc8oPc45mPcyszVYivw5+31aLXINsgGW2XV9LUn\n",
              "VAm1HY0e8opW2bIz8pZXEYwBWnxDRh5TztFBe/Sk30JVFBkSmAo0UG+AAAZ5/I0X4j+wKg1SfqgX\n",
              "+oAq/Ua3ycDXKhUHBYiMIW/MFw60LWU7r0rXvgI/Wj2YI8YBvpaUHbalv3uE4/35gj6shFAp7r+V\n",
              "n1q34Ek7FsvRl8+teVL5rDhzQRWeikP+wDqcGMsq0nzpbzhuQ8b67Pc7zJuJd1BpT/Os9jL0cSfe\n",
              "O335xVqgXucpd1M5iIeyvDoUEmUUHZvaCq2/NwedregZSBdGhfHSCmXFwyRMi3VhAPsoThyHkyO8\n",
              "6dZ7wV614AQQO1k6PfowxqBpPFcjc/BRQGEX2ZrZAjAs6SPgav4bRB/V7MvKi7cl6P5OaAVn4O0o\n",
              "4+QNqqYjrwTxA/und69+XmxX8d2Pqnb+xahqh8L33Jab86/Skf53gYRlLJXwuKn7aq4Ufi+4nhUO\n",
              "0pPnbURw4BhGJ8/vD/UerbEw8O5MUBWbluv9/ZvvHAEz+O8FdatYmbZPcCfcunL9hxWtE5TW0hCX\n",
              "U6TRGnKJNs7G+Mt9hbkDkCVSqizEBSadDSLtOjJH774wusm8DIaBurxkdkF9I4Tkimx+svzofFcM\n",
              "UrMAAkbO6uGBTpcDfbKupOTXYXMJt8Qrz9RvTCAwr2vdeHqEW7hrdEYPXv8rEEU52WKLfaCVw7Er\n",
              "dpINLtiw6fbDjHwMMZIn1EuUJSjf5YvDu9qp+PWOF+ayIBbKwm5mUxrHfBWlZz/Bggvgp37Xt/WK\n",
              "HNqKyd4hntHqaHVeEWAZxcAnRMFjb+8XuXRdC/YIOUpRNxcEvtYO2n0FQNhOXYmVucYn5QFqRcnb\n",
              "u01eNJH1eXKV5u/KQ8+ywpDUFzNrdW1JP7aUrZtwzEjIMx5qMDz3/LLQKyQJ72EZosgLr8D6Cnzt\n",
              "tJ3Ra6o7X2HAfhu0/+AipJZJlFG5kCXEFcAMCw/p7nn+JoohUoCoM5ZnRvoZRenvCJFc8E3fvkrX\n",
              "uq4c9ku7jBXjFarr6YUFd+ZV6PO6Y1ziFxn6/cpd4No5yBSHt5+ZqlLVi9alsExixzl5VO/ytUeE\n",
              "vUdvA6Eagu/DgyJ7H/pwAPSYYooNjmSMKbjvOxWrHTNC6M7rvh2SbZmEPIW5v5ZLzIiuVv33Dty1\n",
              "4kzxbcKKtLlYzkrog5yJ/AQzSBYc5hBqkT71aLn52OHYja6HZgfr75/wnmZ+KBkiz6neLInSlhwu\n",
              "pJ1UMjN6S7s073U2RlgUVlnm+0ECTkPYFBfSJv3Ws39WcICW06+OT/x1U2oOQd6hPQrXdZr3BvI8\n",
              "RdWAFagt/yT3KJQ4cwXn0hafHpvIwgNxXnKs4mZ/AOR8SbaLs/qbWXDbrVhimWBUPGo5gsdFLapY\n",
              "aw9VE9iUKoAcxA53FC608W7e4o2h4v15YkB9pmEWmiwflqkJ5OebolENfJ+X0fx42ZyuVzuJ5xaF\n",
              "Q89Zih1l6oySAar3zLpolzNK8dyEpQS0v6DcvW/iHBfDNRVoYQW429nzQFTtFGcxfPjYIvSIiUQH\n",
              "Q1gKdGMEJgQEraljaPI3++tyK0wVAxi6laCeh+OKVmfNCq57NXmcIQokN2ParDu8Vvd2AcW48ssh\n",
              "sb3w5QSCumlRdN1SPkOHf5x268T2zc/0zp00AHavZADE/z9Lxf2eXQbTPyDILDjTq0xIywsw8yns\n",
              "aN9mGV6FAGUftmBCpxEYaK9ZNYg03cF2s0F4+fXRRpbS/JzUP9CURJQM4izRrFt2ee5mc4O7vmUw\n",
              "6KSMSWxZwpaQGrqc386RdnOdR62sdwixPYoSrrGfxdEdSRBSeSd4A3wzel7MMpHLmoJnNHdzv9fa\n",
              "SeUMRrEJY11E9We64AGQPlImvb0JflJreiaD8spblw/imVRNd9r0y5xYR8sYQpk7dg4yCED2GDcM\n",
              "r4xnH6DtD3BBWghv+6gqKXqZbmkBdwmkDWip3nhC7lpbrXpceX2+gkoQ6j2E724n/95IxtUo9sdm\n",
              "70rXUb4LzH8WhCZsYnCjYwGBmHMkHAR7Rqeovfk6M/RcL4pvAbwLzl0DUdhd/eGkd+ORdepdtdRV\n",
              "EapzeE1OOQ9p9V+JIn4W9rX3iv7twxvR0D4phDlJcWF/g4ikZ65uIAU8h03bVeeb/0awoKQ0yGiW\n",
              "NeXSUZJ2r9P4eKOqSFec+MdF3UUkCvVh38j7aOmkIho1s7yqU2MF2/Ru1B/g5DaeLd1YoS5Mk0Xq\n",
              "KNuToz8MuH2e5YA9zoMmCYmj8ody/ddxmC4ixgUEF69HcxlK2nIDJfJU+KWxiIVH0x7W4DpvTpIb\n",
              "33WPGRszdsR1fLLMYPbV45zNMzchY+FAgE1st7wJWE9+wnQ9xFUpwfy8SUy0w88PGG1WJU2ZhvOa\n",
              "QGqQRZGfPxR/fADkA0cbLU3PeGAKdO3Dy5JfGk3Gu5xBsjP+00IQbDx45ORdFfTYOtc5QFM7CGGI\n",
              "F5R4jpPCEyANNWX2537JL9p8KNQ6iaRNgsSfDaF6XBDSMs9P++UhN9b+r7ZD//SzB1L+GWdaSrR0\n",
              "OHjXvijFtAbOoQK/GzKBnqedLzehZW6lP8kJaOf5bb4QxptELWSaDn7MyoFbfeYoT2zPc/22oGh5\n",
              "cj4tRTzRURLTxEFrrP7xRdhor65jz2b/xu2T8PlatEvDu53J1mpcSRV7L/jNyoiYFE5EBU/t66SU\n",
              "SbJbJpozDhEpRrc7gf5gkyJfBHv/c7IF16y1NrIvpKPr0erRSJAHlHQGYamZthIzVBkG+nnmkIJe\n",
              "TvHV8sm0hucle3rdeLBs5o+oVfuOXRiOVnOM8VE/I8Cq3Uv/FOh9y3iEc31MjHfIwfHbH5P1kJm6\n",
              "m32/DBta/piFB3mVveNv2l9/50F8QKwOCoi6YUoz4pMTmXPazhlB7FcQW5vcX9SlbACEKBi/vJFe\n",
              "fRsDMvKVqRxADd6b36e1KZt8F73GeOjonzOV+v4N8v0nouh4zDhwogs5oyFoHXV20QsxFQuQ87OU\n",
              "+JBIWTWjM18dW2s2FBdYYX/AqlD+63Rf6LhcexzZAm/2cOqDt/nCWMWvQWzHEoSoWxnXCdbkZNs3\n",
              "vaxyZBkfjUhu3yo9BzeTYTG+kba5P67EHYqV1YIVsn5tWuBpfVMw9JlQnKIk/TQK3fh/m0n2PwLN\n",
              "MBZ80Dtd5TyVuwl4VuN2rQRojDHWmsuTPIqK4RUe0hTGKfamcwD6Dq+FxscQaQgwUBDLhWWUxVKP\n",
              "FZVlTDwKNMzg/OZl6Y99+AAGd3c7J3CcBk3nK6Llks5eDi+yj+sLeYsT24X2RY7gfh6mDlkzKxO3\n",
              "u8NBwF0/wAfI3OShO38ntt7ScrkafNY3uPWxa92Fru8ohJAKYcsoCPJbwblbLBx9TEWeKtzKIq+i\n",
              "SVl1jUJ0J4qO1nZE/8TOs0iCnDxxDbYlY/X40cVNiTjB7rAXIGRQhfTbVAYAw4Jcjk/7BLN0vGRP\n",
              "Qj1PSxbpghsGguLDQQV2dd7ptb8U9AiFbsFp1GdSBh1LA4lUEbZI0mS7wsobZ2e7Ukrbl+6xWU64\n",
              "oC0AeRB2yRQOKGqvLvn41RAjU1sBwXyKUxCrsngrwELSjLSxlSnCVwZC6366epAFaq1JY5OvTuHL\n",
              "4sCMBrFCu1ufnh1JRhUp+2eg2WTr16BoO0Foh654dAY56DEpequPBZ+h6iNiLX1/viANkXvhakH+\n",
              "l4s4Db/AX/zdW5wjrsiOvgt/SoDVca9OurxREvour1KipPzy9TbyXgKW09qUWL4SjhXiPsumfs28\n",
              "ju17PKhtSb3CaQ8o2vSR7LzblpH9OKwqwGIK7vndljSXHbi7VNRJsf85XQW8OV6nQoUsBhinB4gg\n",
              "ur+p4J4rYhZDSWSYX1r1WwBGf8riBiSbhBvlZSR3bFI/OuMvs4vE8fA1/1ZykGySNfzKUKGMEAPl\n",
              "Hgqtp581Cn6Twiq6ivWxUiQ+JRJlMJpiVME9IfGH5MFL3yFz/o+vTHxcdOupb/WeJWp1vXqRG/R5\n",
              "zDRSnSGUjkfHPNKO80ObRcnFqPkyUcKPEUwDncxaDmjjunqa8lsKzkoU2FkxZza9SZt2nT/j/v+n\n",
              "qfM5/envZ9cKDGVnX0tbD8fzdqPMyviXQAEOmSKtzzBpJhsaeHaR2FlqaYipMo2O+2mt0j4XDHtx\n",
              "YlVQhA6h29TAurcmrJC6+OlZAUL4QJ91hdqpXw8INXxHjVfL6ToVLb5+gKdwoLHEIR3ofR2dIcWj\n",
              "SFugRIM5N89BasUAlR//CoMiXCJrOhQL8gifAP0oglWll4XZyL9N4/9WdXr5gY6ViV38wXX/+iXC\n",
              "4bTVKBOmBpsSZqwEWY9nS8ryLQc59m6G3sXovbmqC6EeQHCSP+DT4XKO7bfpEqd1d7bp7Mh+PYWm\n",
              "RF+KuxpH25F0NozO6ULk5YVe6g/46lR8/2DuXokQV1Xfz5k946ZqUuyh/rVWHSj6psAYU0G0+7QP\n",
              "/malojZlrNmEEe68gvUWi9s1/YE/xSalE9FjlycGTZkDLyQ8Bz8+oy6ZQIHyYrnbY0h8jqx4i4I9\n",
              "qZUp2uL1Gye7ubIYWLri94R///8LZFFbX646wANtow7vr0dJFXrSjNID/nvjSmjs4jLJXvwXRO4v\n",
              "4d2jEDBZBUfwgZ2ijw2Zx5wV0WIluv9fGIDRH7qW8wdBH3wvU4z5p0fcAnBfb8zgs9U4cNf6/Vj8\n",
              "isl4xm+z1S/MoD4LQQm3fqn2h3sMvw/PXXu7Lokq7JZMDpQ+1Pnkr4cEAU/icVxkdVvZnSdks0Uk\n",
              "lCZtJ1u3nlHP4iGba0etuYjzWdV63o5IJ9lz5Sawi9J9RvqDWKVQkSDs9yjuU5IhaRTj5BCXeNx8\n",
              "i04Mym2xAYCFFnBP/SUz7i9LhS0/kA+mgPtrG2z4XZ6zR+nA8hU/1+GhM2ciRxK0gM6pVhHoUsr4\n",
              "IRS/zvdwfz1AY64I2/tsWv+keOkVCEQoTHtmucL5rmioQUIqkmOXybflhPfTny4gJvwd9YUPpqnf\n",
              "yyhNB3eZGvZFS89RX9g30OpR+SITR0X/GKWFhMEUZKQ3Qn70eUY/rdhRkqZqsQJ5uS4JdL3Vwl5p\n",
              "UdsYZI/XjalarEVQ5c8OvJfiUlsrNmH/KZkPafsnv/iFGvaWVsKIxBefME3oI8Hh+qLPn9zZA8b/\n",
              "qvt0O8Cg7zmbY7jy1ODeIyILE+/plkx6PACKy6RPxH4aB6LyRKzKtt3QZ31gUmxDGz49omO/cwJ6\n",
              "n8C6Tjil/Ysann0VAZ5jjgkgtJa5jaG1IGGP+W5L721hKfWhr0x1Xdo8o/7RR2Eg9aOiSlSMZ5Ug\n",
              "shXDW9Bhp25XHUA0eFgxPphsq+o6ceVXOhN4zlKjuZfILIHVBChf/ERiWMVM60sdPUQ+sv84nKKK\n",
              "Ur+FVeZcT1F791uWvSfevPh5AP14e9BHHy7Ig0epFDm6Hvd6u9rIJ9mF6qOql0bCuLqyQznftxCV\n",
              "kj/AE+7ep0JR++pgYbEtPWPyRsMGCXIoA2XNjEJGa5WgscaVLI+gVawNa6TcMV5cP85vA3DlHa/p\n",
              "XVY6yiSUoAJVHAYCtWT72YEF+ybpaZv2UbtwtWgzHpHevhT+XH4hWCYE8ZYrr1nt1ouRO5fqjznN\n",
              "rD+NtvGmJftFHZcKIgzg5mI+I2RGlZVQ8al7LrO7MGBML0vrOwBvDWKWxlbMYkRPhdOfNkALF8Zc\n",
              "O84HM74fkTJSMPlDBTZqch0Vt1EyBXoiVabMhAO0OZPeNUZckGR3Q+SQ7R5jNy1fqGi5Z//u2d/C\n",
              "EwlTmmPrWzSv89m1/I7WBto7rPdSIsn9qQb9Rw9DFOw4vdOTisX1RWTzWq+A2cfIYjd4/tgoM4nN\n",
              "IfNg3gUcXncuZWxuSwutjKbvnX6K9ijxh0AA1s6ysPUn2vQPVQP+BQJ+Z+AKJfj/CaUwUmgvizOd\n",
              "hIXuY2WM12Z+QPp/IppOjkZjrRPsgltkZ6FsTqWkGdgXB0iux7Jif2WDJpvizZt0rx5kSJO/Psie\n",
              "8xFb4OsUSqDoy8XHj42JBVCXxc7/Q7bumFiFQMfBaENbgcuEqV2OjNT7lX+fCS5u0RYtNlvtc9Qd\n",
              "Z+rzgeO6RdOY+xao35IofHEgKyY9T9XneYm7joFjW1iqcYZq0v9Fd9w51QPg1gy44zwEg1pdJ12O\n",
              "yQCCoo79odz/ihOlA2XLpaQ2Hjp/5jK4pn9pvOfMXHb8Few4NtOJnkGCbp/TcYqp73FvGzvZvJG1\n",
              "GgNWw058xigZVy92occXiiWQX+rsZ6HIsc0rlcmFuV5SMLqSgCdUC844sHlz9+YTQbSR2nMAplKU\n",
              "U0EB/jyEf/bs3HWtIJ2GGnn1PhB29IjSe8cRjxYKmeKQVF4PfN6f0sqFLlIVaNIbidaxZsQWdOrP\n",
              "31iaMw0gbDltsiCbZM9rf7Z7+YLe2rh2kQHbfdIFkIDSORYMkhpO/p6/1M5zGBvkltBwHDUZ4Pdg\n",
              "KLNDzaJNgYlGl7YCI8UcTMzUIzuWtMJFTwodO//OrmldOhDWEQ6jAK7Op6/aiOlVvPAE87PLC+Dw\n",
              "7WxyQtGDhMx6unXmSH1yznoMHNaEcYxSEoLk8hAjpG/Hh9W5oNyn40W82cV+QccUUvVSjmr02mcy\n",
              "0eJq41FG+JcjVjSOmaJDNro4906PM+2wkVlSDP1mG74vGTldTg5JsWKuZ/39Y6DluPdji0MvpZWs\n",
              "LCqhvEsGEjbnGfG7IbefYtq2k6XnuZ6TIxPSm6YRRCCfgxTDdgQTLy+PaPHNdrldWd9QNhIKz5qy\n",
              "ac6/2lKekmFbxUmAvjLwD4tXcnJERN0VUVoHn1g3XKuVa1CViTcAH+4N9n4rt02vZGUpnJbfiOKV\n",
              "+L0H7KIjlwtfCyiwjMswL3SXCBA0dXLNQ4kMzo1RH9uevVSlJ8EZkaiD810HIAi25itIqRxCRAZ5\n",
              "sJ0XD3MKA4pdHGRtrdkxfdm8s9T9D0CkYDhD5AvYEsZzUqQ80eCJfmVDBb3RQgA++ab+2tyzZ1ml\n",
              "ObJRuv0pvY8n/mLH8Ybaz6o7ilteVQptzJsGNL9HXKEIQyrQhba/tSYKszlhngFVW3XYi4IMogHR\n",
              "gKOVwqE1OeJtSwZ9512aeVbx9OH0NM7eAK7qq7fceo1Bwr5JPcmwfUzwsVLYqdHtUGkbsZuuZu2l\n",
              "cgZ/uZSCYLAWekGS8r7obk2ru0wzwngNuYUNm3SjA4VP3NmkUj7DcxmJJMmP+scEaOg0mHSugazy\n",
              "fFdMN70LgbJVzM6CiojgRqmIXK6CT7oQ+ey2D+1nliK5pBmT6SdVrMS//2YYtZ/oxZwmNt57ee+a\n",
              "uTBJDpJXD6Iz269BCzuqgiGEI+KuVwuJe38X1oZBOvlDEBUHm02gbD/SId9H9O4bGl05Fi3/PJjS\n",
              "hfVW4LygfG/uqX1DimKN8YaJBrJ0E/hKainJvK4D2XQKb2ZNwBQX9Fla+XJfkRP85OQJkxvYOhdw\n",
              "1CL/L5IrAqirxIaAYj0aNCyo3qIasbhymP5/JbfL8uUNnGBKhUDtLVud/Yfs2fi2cFrb89KsL6RH\n",
              "1ta4am8BtoaAKITcO7TpB/Apf+isxHlitnE+DIej9WzxSDtTLhvsmwbIepJWu0M/UWH8R2h941Of\n",
              "Z4p9gNbVcUmf5p4FaOEIC3gRKGG8wxxWfH/5XNmu7WVIzIrGc5Vd2ufePqlJPO9xca5GyT2KmhjD\n",
              "j9OvjKJmJyb3n+9kBzZ658Uv4ktsk1iRBdluHwaBFjO0PMunXbBu/DioOkHF+fl63/NWFwuyLdja\n",
              "m94ur22qpOrpxUMqL5FBrmDI2hStPFVB0tol0I8983u7RTeCqxn7Qlw+BEnumJEyZMq3gfmuk/EK\n",
              "ZjPu9gxfvbBC/+PkF4cdXDlbVDo6x7oWxcaLLLrRLkmPk+fDzpR/bEXNAExlTjt3grUyA/2SDw7X\n",
              "GqvgSdW6S3E0uslw5d5j+xEiiB4ZpYNEQjmABtn3LmR76plVTxP/l8YYwX80sPBb3EMSEj6p+gH+\n",
              "E9ji/WSs+mCCUClK0acnaqa3io9iEPa+MIJNUzRVoO5gZngxC4r5FbcDaoLjqNV5aryU1l3uywy7\n",
              "CpA/jODSGaI27gCKMNjpaITrI0xmnVzZ8zg2xGckx8ehJ1HYuPCy3W6KabQ69WzomPFPPLEZf92p\n",
              "GJ+e80zuMSq07KRhbLh+aE1huId3gPVW6b2U6O98PNLEFgv4PUXMn6IJ5R5RkJxEF/TJeCajTPAy\n",
              "0HIU7KdYKjcYPPz+qU/BK1DUV3A+tpVr1ler+p6GWW2CmNHTiinJqUgJd8+P/+7yEOyN5zAN2d65\n",
              "MK1YFLV0BNztFfJ/5OAVS9PWuuQwu28WXncyBLyDX+p0X+in1FgNCPf62sJH/Mwdj8a7sYJ7fB2H\n",
              "/i2BgJhOIeG3esW7xMh0VKYDxf89vxnuGGZSIk5l/3hy7uF+fx58oZAFTUCFvhoUrfez7ij645Dv\n",
              "2ftBBp5URfQCTmZZi6cAe2ulEzig94JiCwfv8UCnGQoXyRmWP1tOsZCYreRY2AqbeA6un+Qj5w35\n",
              "bq2yNb0u9sxu5rLdF+eBbH2saA4GXsryMO+2lCUORNGhxXDQ766goCB87QZNI1Ge8WhthszCEQI6\n",
              "yC7aTBqfSH33fPtch2xqjc+PtS2pAHptSje3c9yZ/tu4Qi8triPLxWkJXPAT0OFpEytoFPk+2jqD\n",
              "ZzYL3uqWGdxRbN7nxPUEb5oZkcaZ3rLzZ+Yod8lNSMz1beQAAAMAQKe3XR3c9/9vI74YdK/45Y4/\n",
              "TCz0j7nfz6Q21dTrohGnMbHBnxoyrFhAj303WiXUvoysLrc6AxB6dMhI/281DTCYUuQhIzpU3+GG\n",
              "IOQ7VEWTuIAnmPzoPAF/0Ue+/paCthXQLN7Ne9tEwp+Ir9cfuuiYXogP4jQGAjUVCWp5TlFyVXlz\n",
              "ag+T31I5PCmQnWhHcKHKGbwJKaz8hEXxrmZ+hyCZxqdG7nXavenIogqFQQyvm6KVQO9bzE2kN5nu\n",
              "cHpqWz2HGdu71o7t9MYU5+PkbIA00/RAGfn/8OIcH+PxSLP04OzzGmWOyyYJND52Dm2477p2sSQv\n",
              "a7j5ZWZPYWOO3GW1OSwQoKszbMISLFzTaosCIhzGSvo5yPVrQ6u/30I73ptdsqJfNfk1PYRnNUGn\n",
              "fbR1fI3K4TI7FwHkbbVMYsLE/aeB3uQwggua0lKusZ0SexuUGDgJEJgoz9WHZfgSifhY/bpmsE1y\n",
              "f3HgAkZlXdaW9ATlb3w6j6CzuGwciTLiYX6gNOg+klq3Y67zym7TxQdvRtqEwfBeedoFw1LylUaf\n",
              "/8EyjJmD9AADIwAAGSRBmiRsQT/+tSqAEZ5q8BBrnQAV5eZzlSJ5HWPcz1fHkXpfH5/fAuec07C2\n",
              "V9AygNHih/QhzfCBWxvmWpDagScjuzTKmOsdcUw+JqniYji3F80Akgkw/LPE+GXfm8E84B158nqG\n",
              "czNS7JWuQxP9V1ibGNHKgzDT0saUln5hYsvB4btJYo1x00uHQVEgYjm33NZb9u5FCRRWwZ8QmdX4\n",
              "WzEx/tDliiKOCecup1MRBObViu9BHwbVatSjjmbIV+D7+uM4cL7NwV6a68+zuEMpwSLA9jdVEVwA\n",
              "4XqlbuEyRqjWntADR1+2EIskaY/KY6f3UHCzjisokM105p2veOLAH1jmO6p/zPuoM0NqBSwSyT9y\n",
              "hgiBPv+hB+i4wEpwDcQ4bDc3dKAhYduMAUwH4w03QKJXX49CrmLL6azN5gZot7tTgKVFpSMpMxpF\n",
              "Cyrx8vQtcwPMKDm8hve28Ba+HmAJeYU9GEyeihmxM9ChSGl+tMEU/xD4u1fmfjbg2TsAA1bWTGJx\n",
              "tXr1FPAhCjCBkVVyn9VsZ7NjsHZO8mXGZRGriUQcEBHVcKRiGbNps+K1m956I4P4MYMUWV0VZ3OM\n",
              "/llGh2TA6d2v5n1AySd1pTWHYyibdAoCbL/VOAxM4N5Vz6A/N7kV2gPXqDLp8FWdxYti/UL7vnPF\n",
              "+IACHdwGI6zMrj6HDSNFTG5WEgaS2El2AXMinvZaynrBV6yqn4XG6EzLrruq4B4DmoZQLx2RX8LI\n",
              "fcUtFf1E2qMErVMgLyc+qQs3nrNKaZL57yzGc0/CDMEJveB6+Y54DcR/WG+d+Pnf6AWnEU2I5Q2P\n",
              "0AnU7v+7iIGzExe1tZ/0raTKn2cG7ZbHOvF1PrNfpfk+jFgtDVdAHz3m53gVT3WvT9ztCNq+izWS\n",
              "KiaYXIv82BDFSLdNx/po0F6FL6OouS85LLk/9JthWPhUCkNpAkJh5YmSPW2pDs35X1qr70RQRFxy\n",
              "IV+jlQZvG1CYuk3cHdg30AnTHaoxvTqrGgzBCapOHMMOMmNqSqoeLZTeUf//x8gRZnOmpj94IjKo\n",
              "HAwYP9x0xjthTN58ykR1QU9HXR9qQjOd2oKu24tzkl+TzUOf5IY/9t5+nmA0M4SPYo9cnT6tQsoF\n",
              "tgzFJNNJl22Zi18uWjOJKifySwuqpW0suJb1mE4CGMUZi8tacz/oqNR3HyaVwCGDqvEbu5R4O0Jw\n",
              "SjvbF/EPDuz0KoB4lglN41RLvh44S4udlbaIcaetMwF2w25dVbmAKOWilMdoybWR0juN+LuBQ/fJ\n",
              "qj2SaCn2mfuwtZ7IWR4JPlcKByb6w9jR8We25w+lSENdtwnsq8dscwJQUXHv86XhjEJMBjhlPReQ\n",
              "KS/Hq2M/6jRGZA0I5IeFJzgmOxTBNWKfQuWc5izuxMi1GemWroXmDTY56D0ffDY7hbJWdQdr0hBt\n",
              "NTXbcC0a3YOhd2zlPB6Jly+DYqxFVllyXellxUu7EPq/ouebHCk/JwPFHDq8rC4FGHmkJLBjY+FS\n",
              "SI4YyV5uhX11+N02xK5DhMNsJOY4xOj9WbFT/r7srP8SF1tk7sdBVgUHACuzPXazhL0EaVMWg0Af\n",
              "k6OPwpyx57zAYcqIdKhOGx8ANKwy0P6ZyZ8FmvsVq/+8iSyJ8bou8doV2EhCxx3YU21lJy4UMJEo\n",
              "OHUMV+PYoot7mfPXt7mSyzbkZyF4s/Lmk2zdrGCBAVMBp4lN9NIGn3ha0j27Ubp+zDugp8aSTT4X\n",
              "gDNedcHtvqaLQeddftfOp9ODdWAuT+hERvYgCIKK3LzbzFA8JGtHcFZyJycz9Ck/G//EmwCjDmZs\n",
              "2DJFXccQIX9v/pz0cvLGvJ76S03O2dSLGRo40OKOaNll0FgaszECeb7x3cltLHA9F4csE9l61p8W\n",
              "I+m5jPj3YNztbqlDLufM4hvaiBwllE1/lUElJlZgiAeb6lLm7fb3MTnh7ynLpnSvLFqPfyfyCTTM\n",
              "WssGkNo1Y2V//m4+1GTrYOS+Q3MM+4CUaSeP/o9A9wE2sl7Da15tJQ1Uvfzh8Wy5C73fOA2170No\n",
              "yX2ObXTqlQ23xf7/DPw+AHXABr8XxqM+qZa3wPGrtZnWikW9XeTZM0o5+dHVTFv/6e0tlG/6bliI\n",
              "P1WYVZYCk8K1JFjUN17ep70O35Rt578XqSZvtU1Mfx4NEEyiR4r06fFOIfFUWE+CMQsD81xXudKz\n",
              "V4W9pUfuSplhKBSdsJ9RDwpazqYjD+UvkjpHXA5DugkzyL6ndefGh8G0c042XSeA2sQNREEHbmcG\n",
              "kOv9/0ptv7zROL9+C5KZ0Lrk3Ax+izU/uMsPnC0y78No1hbv3zaxUntmKUbQ+WBFgRxP+YIoJry1\n",
              "U47rdgoikjtxQAWrOcA19BhcQIrpixkEEBSvWmhM5j5/do+gysmDgrYJD2tSxL4ixyJHDk1Ddm18\n",
              "M618aTAz/u5pjdyQAgNVWETlJvHbg054tiBFimiEiBYUhlHEzxfi2uXwAeub9+UBxWhwvHRWaCDH\n",
              "OEsck7YzmU3wfQt1qfSoGTZ0UZxi6AHjdwGY6kKQ7C8fxJnWfgwPXLG6e+24eVwvhP438/axRDQv\n",
              "k1Xv/9GCP7gtGXBvDfeuvzr8R0RNTvEi9ZFlWnCMieNPtrnCOUg0pnM4UdwnWFZ5oBx+TtcnUJ4j\n",
              "bVoq25eowkTjYpnALUEBtHiVYOTwirZLUAat5cS6PiD5h/ri5fxmtJxqxoIO7qb/+Zevwcd5fBpp\n",
              "NQykGlt0rBw2g3F5TOWKNqNMH6XYpY929ea3o4laWi5ASTYjdsFTV9EfWANfIigXtMf5Xigq0rjs\n",
              "SnnIexUW16R0U7MNUoHVXJf2SNt1R0r1yCx6YPJGqSfcTMYAf1KwHe4FJob25c4Nu65r/L4oV2pl\n",
              "F8U3/7W35tfiMb/ct5hVGSsc61UswKDnsmjLqa6R61zQhjxjdl7J9YadcEnfqVp623STYxqf1qow\n",
              "S7Yu+GcmiT8tN9RghzcVeZwlQ62sXkJFz36tkfGnN27Yw1/phCGZ8FXlqOc5KFitSIwct+/MNg1a\n",
              "tmsIAgqhhRPmheJDo+dxUXd7j+QaEsAkde7ebO7ld7X1hZWrGxZgsrgNtNmw+GlSxitkN0ccpOyb\n",
              "8iWc3MenemcJehv3ZUtPZfJTOP9iSrxDwcqmyrh/ZFbSJPeNOLtaQ/hF0TAB5r/AGL9vwr1NZwZu\n",
              "Fq8ZgluXnIOgujFKzkLfAcmBCUntNrPO56Qlv/bmZKRDIdAi/lFOqBH6bcPy5w1jZq41upJyyO4+\n",
              "Esao6jV4nB0bDOeriJ/YJhs+bM/vWZKDCPdesEpVu19wUHb7SaYgt90k37KzkcDi7mwYm+wKAPYH\n",
              "i0sbUY9cZ+xgL3NXr1VeL8zEZRFZbncopDuCAHG3pZZP+s8nQzvnIlGvI5BJTpucg7y/SxVKnpGu\n",
              "kIBS33HNuS5Mz9xbi6WXtIkTf/nJEXBhnHVfFtTUbGCgbf8PAcsVTXk/SpxosnlpG+Vs9FGJb0VD\n",
              "4q2bMEa7gaJYgylKlxWgfAV+Ldo+tLEyUkdbALi+GgNXFSKWPLLB+JyKpUW4jOC8Ksgll9p+leTT\n",
              "6RXxH6atXRWs9UgPPTluhgSk9BoT/OS1e5N0K2Tqe2aFRqN008fD8ZlZLrffrCxoFNR79/YMXkEd\n",
              "iZAKGF+tFdg+0H/kjTtqOpHiJCUFuOSNi+i5/YQE1KtlI1c9YAklxB+rMlngboy9O7MjgSrWmOcd\n",
              "PnmIjSPxXUDV7T2uVFB3iPDq0HmepkD3PUqVXo2pGK7agUFvipCTIaJKpoNOyiC25FrXChb2X0zz\n",
              "r8Ay5GcIZRoYJ7PQarvs1yw4yOhXYgwMc4FmZzx3ZvQ23AcJZiEMSiPS0I7ugkVH1oxL/ikmoFOG\n",
              "lc2c2HTHvwSXVxDDGwbEFoLA3QvKHofKuZF2VM1bEX+DTpazpN3KN/zsQeQqAfAaWpYL5hcC/eAg\n",
              "20KArBHdndiDD0SoUWIxQiGU9t3zWpYyQotJeDnBMvgCfXvy44K6j0eVKqbTZ+o9sMPmYdUXW7XB\n",
              "ipn28oOPGz6Zha7BwqBfKFZfVP0ZjVlLf118Wl8wV4kJXglC0XlZQ99hr5CQmGjX9Qg3QGBZLcuV\n",
              "eJMjihEqiTkrt+XmvhLPLz//ybyhtz/IR56E87PfqfQn+7RVIQps8VE2Ap7Du2HYFsSbTnaJ756L\n",
              "BbC6mS+PC5SjTgOiHpBlRdF/xbVWwlpqRP9q8B39B1sQm2gWoQ8ebPqQqq/4o4ivxfy7P/nSvzsu\n",
              "O/NK9UvreohiyvUPbXQT9f9bWmjKbq8k0whSxuW0v4iMJ33j1EQnWNSewePRD2zkpNeEZwjtxrP0\n",
              "JDtm7/CCZsj/wmR+7PpqEAYvd7ng7R76EVIlMYL25v09kAIHKYibCoX9hHUDZKEhiJE/F3qG+4UW\n",
              "0B7OWgpCW6mnWCyZvTJ9aslkHsyR324a7aQaJfrat+1CjpVf+XVRjOuwhswWUyYwXiidZQXj5p34\n",
              "maw8qlVkZxWHlx+NkIvSqaV3/8R3B0LjkkqO+IiMRaKeiO8xyh3cwpN5KPJHk/CUd7g2a2kMzlmp\n",
              "D4sLkdcN3h8Qj7G1kYVlaM9HMzlTDGQEVeQY6QdfNhdIUFQLKR07BTlrfBdun8hyvqFW9kEYHR9r\n",
              "UEeT73Iqog7n8LsrS0HfQjbTS7BlHdx7YDgBPtKKoPp/qLMRujjMBG0rGvhoI1wVXifFrKpJuZy0\n",
              "q6VBQ5ePGtJ6tdcDc/Q2VzSxvsemp9ublgHQxgvknDv/2WfiH+bAbMCxfnjQnNEcL//+P83tcWl5\n",
              "i+0vcL8ZdYWT7SiC7H4eshj9LX165opIYF0+kMaSs5ykeO0/E3Xhx/jhiy1fhbLFwBu7VsEAnXKO\n",
              "T0ntYpr0idxJeoSnT3ANhS8u9jLdyf5oeczmQPazL/oSxRdchcJRuNzqxRXuwmzjr5NP2vFXFrwH\n",
              "pjMAFPT7oGzhe+e7UI2EOIvRDNkaOVu0/C5KstYqmbV1XaksTYd3j1oxkSsSWq59D5UWV/wFt+hD\n",
              "zH9/QqDPeIz/mn87vTdt4q+qr7HNkRPwJnAOb9tFPF1To9gRsSWQEcgtAcYVPCFe3P5lSWACdksX\n",
              "rOEWklDvng8R8Ho7vrvt+MOkGHFoGI2e3sqCUxlNvOlcwC9Mj5wwx6AiRzQkFhm9QNua8UI3MsUX\n",
              "Z/jvs+Yv5xO8NSO0VUMFPk436fyma2Bis8/xcYwflRQDpMWdZogAESJ/jLJcfAmC5UPH07o9p07k\n",
              "ByNu42Zg2Vu88e3TJMS+XonClpPPXLh9mZ35ewZgjxYyuEFXSkd+/cEn1x1mGBnEtzfZWPJuevP5\n",
              "GQigpbX8cmBnLlx88aBpte3yKJ7hU1k5vxeVJC37mTEDnvYS7RKB1/DleyFW6fekb7wFMkVNN72O\n",
              "4A62EgIUYGuN280ZIJnfhPN+cxYLIeBP/xA6AFfOBWW63KAT7NFyUvXI1gATljwr00qRy/sCWeLJ\n",
              "iJrM/46nk9eA06oadMti4YelofXMHUihgikxlXjy76KKPhP9ipqPKAe5Q+lK0Z4s+WU1ttSe7xLi\n",
              "2SQU953X4g6aOHCGKNl4ch28BdKmKRDttht++ymTDUSBVfPPKpI6uI6QMErlcrH2Y6e7mzrlKrfC\n",
              "6AbL3B1IdOyGw1XMUzbc2k+UUHMVT6WL1XgBKJiMKPhAkx7LOts1IMZ/dnZPWuBdpS9JX/IIoW2y\n",
              "7Z2S3qd8mt9x22u9JGnq1ASgSAxMocvfLWkzwEvtFLLEowR9TDkp6OVwVpvlYNCNHqV9DKnbje/Y\n",
              "HS78+Re5J9ptPh17BeriJLQAbcNCONPvBGPsuXKukWlzJHrgpe1pa3me0rfxvdQHAVgEVGSleV6Q\n",
              "a8/+5QvBwItrlIE+jRpAMt/j9kjX6Ez+eRno1OfXa95oHCzw8JJgQxRkR2/uRO2+5/mKxof5t30b\n",
              "xbsnR5MhLDK/AYnEMlCsLiRKEtiEoraan5fP3ksrCWsZNYVTNXbXQFryn4Ue8aNfhXsMwrqbnYIu\n",
              "xwJbcCL0pgUuVU5uAldSUoD//Rhd4wtH5zrZe5FXg+VFc2P39hH3xHQ2BzPfIDz/9m9cGhR3h5N/\n",
              "XKBi127r5sVwmyNCC2BtR8lSB9sqXDZqy7DbEOb292epf+ZUjGH1yTfRWICxNB5WZgaR+afY/Czw\n",
              "IYNwOorHJRvV6swq+avg+kI+PZ/d0jOYpdb7yviIhYUpeGawts3bTOGAxo7QpgHFvCL5oyTDrJQU\n",
              "P1TwH0ZldOOBuDmokP9sy9BrywqkQB/+Juh8x6QwXuae2zW4tLgka/HTEQVdaOotgNnMeIsgoqcy\n",
              "izysvgFr3xk1C0Lbas/VHS7we05/vdL16W+82LsRJMH5f303xZhhWxCee4WAxzDd2BSh1MlEeV9b\n",
              "wxNLxlFasrCRXciN2CTjXnccTFac7GD2fJjtPZmalH8cnU55yoZBVqFYGyg9N9DtUfiMEALyoGLT\n",
              "PSpjqKDM4DUrkIQ2Oh9GjIE+46fOxPjblDAFA9Ved+Jl3jUf9r554YETrow+YjsdEJcckaqYEfdv\n",
              "PMY4ouCXhlyAKFSzBbKdWlEsiMf/YQvk/KO3cvCzzekOIYerYUxZ1iYc3RhZ2p7179smf2VrhkcR\n",
              "/oIwWLfZ3mvxHtkHX8o52VKWZJr00kKDlXVIE7K+Y6xza9xCQNxQCFTI8ZW2xpzUa5ic45wsO6nu\n",
              "AMHOW0xmLTtmMCBXf0R7YyfUUqMZyg+U6qKHawl2VZgebfpicCBpGQ+sttu2kFlrpgbI/a0c3c9e\n",
              "Nr4JQpoKtF1InyQsJL53bnpwEK2zK8dXpR5EdO7AxX0yzVh47oiUhMcqt+SUVStZm40Ax14ogxld\n",
              "hBJr9aoyQcQPKt2ZRakywIfbh3T+ufjQP7e4TIdn0c3QiL+I+/McRPG1FOJxHOzfnEGYxkXmOeur\n",
              "9w4PIomjqHHIQwawWk8qZvipGCSTowjQsj9Vwsa7oUSal6KLO7R5gK/qHkSrdlkqmpM25ydzKc2s\n",
              "5ppDfJUZm4PJxj4fTVXL7RUxKyEbavewwRzE+so4DJ5DkDcXzCzDOSPt5Lxl+05AbIWI/aTM2EZ/\n",
              "hdXICdY2QFJDDvyfdZVgaTMgvidVUr5sXEHHxeZFjVMOfBgpDG9YxcvhJS3zzcPWElhYza9JxyD0\n",
              "kJTBZstlh7OewD1DUdjOxysJk354gmGIs390xKHuLd/c/UqHTsU991D775lG/lS9bv/oC0CBXTvi\n",
              "vWCcDjwTj0cWklkEaIMNKagYEXkoPHiaClAoe62sRIpFf+mwhGoFgUJCCwqk+7O2sUPKKPuNU1iC\n",
              "ngxD/vqcnYo4FXsDwcO+ILmjrIe8K+1ajvS+zrXF4mlS6igEIOFgjgwu/HwyJJbJKye3yvI5Sz8k\n",
              "B/3mfvo04FuSQOEeb1Q2t062ws04j/OmOp0yVAPrC8ULNMSQKg1QbJHpqknwBdhoPhIWHKjaQyUC\n",
              "ZYRMzBR/HHdyOpEmUURq+Sg0q0yKJ0ChjwyrNz3qKiM5gAdH9tiBurjupzX1Jx74zUltBeiZ0CgL\n",
              "uWjqs2mZD6oi6J4b92Up+4knEI9ReSdphTnDIQ9BLTzp346sLvtwJWx+Tip3AXBSvWoA8QFGnPFL\n",
              "IH7koeXRPEot86Xke25szbF8/YMW1SVDeY93B8ASWCYmCNWERVyjRdGDwSaMTPCCm6X9NkNfJY4m\n",
              "6qgAY2SE/J814lNGMZQa3LsCNGkO8joU3VvIOcfC3lfoYwORs377YurRuiox/ZKR0TI+JfTU//R9\n",
              "S2oYWZURghPvO6Fr2wLxYxj3IdRon5W3al4FwReb+iqijFP6O5WBlvnzA5Q4jmRy7id4atv7JaX4\n",
              "je0HxahfFAww/Vw/1g5Rm61fT1vwsiFPbOfcDvtQ0UrpSKj9KCkelyhL+7K9nbJCos/MKvO8MkdY\n",
              "mnfjYTBMf691QWMYDnnX1hQ1JRDIkD7PBwjEakzXnvKVI2YmrWZTz/cO9zfwpPSZ0lUQfHrjOYLG\n",
              "b2VcO1jEIMxoqfw4xmlvt9FfOQt6ony1mSWTfCyul4OP6X0MNwh/5lVOX6/HdTiFwF1aSY88YA/9\n",
              "Lix/qEZKbuKsJ1AZ7+8WdIVAS1e11Rnr0L3BaRx87zJvcNHMEoIUr7o9d91ArRT1AXuZZ+2RFYml\n",
              "C3HZ0hFPFSbxgO95BkhweqW01k5vZLXDtjNgtXo29c+C4lo5PSjPzy3EolKIW/UjCzeQgIzkT7Td\n",
              "8uQ/Cj8SCI7O5amIhCKYk0pr/NjocSTUo2Vu2Thov0pO35yVOhdFKcsenu7iGW/sakNmF2eEB6h/\n",
              "04rXUG90qlZeH3X067NAMw73tI1HKSOrqfXzuFXtvvTC3+Xr15Cibqy6FYpNEdrn7raUGIuMHVq7\n",
              "3qNbm+okk5pVGAkjRwNm/2PYis2PKiqixMLZ7i3f6tpNCWJ1916aJUiv0g+ldaS22ZeJX0pb9FKO\n",
              "Wn7ouLcwwGkqFEQSX1sfjbYrf1yhsGM1aORhxU9/YLHWXAeoJ0vSua7JYAA6GiX6Cvkr5gU3Llv3\n",
              "LLrTOFfuEV7p9Zq1/8Gp55vcjycmfUzUzB4n/1lv1eltM5/CtPgpWwi56/nxDKnk5oOixFOIVaqr\n",
              "wrdlWBYMArfgAAAMtkGeQniCHwAWD6/AAJac/3aBZcDMRmRiumlzhPX7UjaExaWTp2vzn2IDW5fp\n",
              "GHazpIuxNcd80RwYTPaxksVGL/qFLY8FJ3qXJXdZGzhVqHmawHNK8oZQYSwEWtqnOUQrHIb9e13I\n",
              "PRXDhfkL7S7p2wcAYgQXnvmadlLlunMlrw7SnNol6MPC+mmGso7JN7+HdWDJFPaXG58LcFuYjl8v\n",
              "RzKXT1uwgOdcVToS8gAABsEqNI9G2j8LIUPJNnCD/9f5Lq0/VaxjQ2WelJZt8VC2jdjjTk8NDilJ\n",
              "WBa6nAgcn2cBNNfpK2+xK6hIWW8DJXIj1PE0/tZf6j3PzEQy/isNT9rhfB7k6cRCSF22Swv9B+QT\n",
              "JjTDdch4Nbjl0vG6PscFdqHWM5VkXIy/3S9xJGswkgclz2TlwXvvzFrV4JRQ+EdzmejCWkARQvWe\n",
              "LYjU2+gPjOAP8f2tFfgUX075fYcqV79YGx2jRsSFDK9WLo8Ov44aGMY1HTujm2xYzppUPOGH5pv7\n",
              "bMgMmgWVxTjb9XzPtrqjmf35WJAOO3Gb2PHodSbZvuFwljF94juQ4laPu/a5JSisZ+eM1cQz/N3m\n",
              "VlFQw2ztZ+zuQoKT3oTK8BPmERBLxSojM9E9bBTmlm9thRIZ9ueYnXTNsWt0EqmVb/zweCoQfAw/\n",
              "yfnRGzsbeXRI2j9OAhHgU4hN4zMxIIfkjw00BVZbCyP0a1Koj9AVszyhdPHoSweSP9/v1+klQ84T\n",
              "3h8EXRmX7dnuXkN43O2MVtjedAe4bvOZxw1Ttf1Zpn/DHYNnFFyJGge2sDVEne0yy8yOKNWJD+3g\n",
              "YEmGyYelgYP1E9HuDM9yjigVWwD/0+hktCVNAEC/xxFbX/6AuxOaqftepCYPeVk7AqdoqXa5qkEE\n",
              "8nCU7hEwdLhRwnN5DLbLqwFZGb0YEMVORHun2+WGMh8AT8tFQGev/g5UHMPityRcxHU1fdWvhbX9\n",
              "FEbzVk2bjNNKwHUUHhY0jRB3YiZxSgQDCvPLNu1TQz75f43wJCwxc7+D4PWJbJaxNVmoUkTtDiPZ\n",
              "9cDfSwyOrZtqzXEjAikrxuSb/kJL3DLm7BKXFB7RopdY2lB0PSPO1LJePmn9RN+rwBp/H2k7pUZ6\n",
              "rh6dWN789SjnAqsvvm4m0UDO7rB6oTE0PXN/94xC7Vy+fYP/y0L7JtEZjQgTq4bHQk7KizM3qkhb\n",
              "qq4dIPVh+0IeOUPWuVeRIo4SfOw72Fv09BtAdKcI4siXVmdWQjVC65yWNOmRkZYzs4wjXKqgveti\n",
              "aHPGJWdz9NZDkmmAbURQdhjW+Ltk+TuuFu8OZfnkxA3EBn05hxSOdMrcpDpWpvhA14eq93KvW8hJ\n",
              "dymajHgADrxfjFlwuXzj+VFsAL9oK5Wsascqyk94Ipzau837oXPiJN+WL6sEQF3pUq6A/sP76/Kk\n",
              "DErSVP58Q0Bw1f975QQI9iCKBgKa5EjsahPUJgIw852HMO+rkH0MoU+rMsNM/lFH7bfnyEhtFOk3\n",
              "SXGPaT6R218JH/cknBF9EXhEhS8RXLzld43x8Vb2Ugx2bAYu9Q4kG85CUedxrYZIzDNORnJnaU5D\n",
              "iZRRjIQfDd330YYOI1P8WFHlCMLVQgmVukRr1nhT5kSUOawo089814xCMy+BD5JeXaBokVeto3hp\n",
              "HNjNBe80uGZLsQMb9/lUCpp446/5/UfEqGowjvB7FNIffGHa4XtP4IO4hNwtT/P1iU/wepCGT7Ti\n",
              "sPd06++AMN8PpwBwCyl8/aO9zJYDX9nS/ibQcVzMbweG5iW+5eJ13uULCzYiPAcmFUMgf2/FERh6\n",
              "jT87ZtqpWb+Ef2wcm26UqPDgnOjYKm6exs1T7ecxpl1kNc17nnp25nn67vBRXL0gRulXrvfR5T8+\n",
              "Eo/fEdN5LPcBkCMDk+1l1Tjz1yhmNIR9XGst5254lbOgV0N0E2ISrIX+UP9vgwzZm3dufhC7mN1u\n",
              "D5RJSwivwg7YaJ+02N59wjBXdCSVBDrw4g3msM3gfztYEPm1yE1AGBj9cF4R3K/7ZgnhPm59W0/h\n",
              "W3j/1dpoFnFdVXCXQlsy3fj3xzLmmdUsVcsT4dMrPEV86J9X+2jKAJ8NLb7GVobiLoBDMjP3EwTU\n",
              "bjpAgD1N+eernd560Z7qbP6diSFcS4dE1pFl00sxafaMG0IBUKyPYnNwKGz9uV/fLO+7DVfrF7f6\n",
              "q9E4DqxKe9NrM9HhCMMiBvPKU/mBtbpC08zUMNsnaAzlEKNd/ISrEciVmvbgmR+/B4qk9JXTDVxm\n",
              "PzLcBYJ5NT1miTApEvSKLPAJzZDRMg0R02jeWWtesBW9Lt50LBLcV0GgjjeAFacyKSyOhYTnewtO\n",
              "g4kb4PGA31HJ9MedKe8UWoZj4BPslkhSrlyA61xn0xptms2nyRPM0yR+ijmlNV9+iPfIThubiD6b\n",
              "CsmJMJ8qZedahDHHA4d7nxt6rslK6wx10uz7JtRgtyOCnI2ONHaZd9yRimKLunOp83zJmrSeGsln\n",
              "zgLQ4VWk+j8dcubvEw8CgsLHX05wnNBeVefFgNsRcc9I7HNpNaQ1d8ZwnOH0pDDxEETZnlJSOA0Z\n",
              "IcaQGDLxELdQNW82LmPARm++nEDP8ML2Av0/iYmjznuiHBIluDhhrw081F+lyEnse/rnI5vFUF4H\n",
              "sFvs2SWDexeJlQPpMAS1jPnJ1e1sssBY2PwrugRr1Mm3mZf0xrgAHBYtS6YJSVRDJbisGFPCmuh4\n",
              "wzCD9KWdilPVUDYznb+nRQTD/QJDO41+IgYrA0oD+JeLHoFML8EgZiez5TR5cURNIi9O1G6WuIHq\n",
              "gkXQTqdw4V4V02SarewrC/oXDgAIccN2npbyhF90GGmAEsQf3Dv68r4qgplQ8eVPSuLkNd+AVX7C\n",
              "R83x1zCmDakvsN3ffp4om1YFCxP7o7o3kvg4NfE80UOYHHhgLTaKFEer680CKOSZ2OHJiELcHnbr\n",
              "FUyM+tmJ2ot9WUHY69Rgp/4VJNs9sr2c+3C7gB/otqe2aYmrc29P9ZDnXaMD/zt9ooyjyjwzecpl\n",
              "1/GpYnYJuX2CQ5l6EeiErhMaxTsiBLA3soviY9zr8hn3DZbMwJy3ytP6tXffeHVc90AiMGXPFNpm\n",
              "wpEx6DbYDmYWTWsbOo7Jpkl7ekADMinR8cPjKWyWhepGCB+yHEAtIHn1eH4PK5v2x3MuWwSt75IE\n",
              "m7b/z26AdTarK2Snz0SsPmbmhMqkBN2KvijZN1FaH0r93u1qDwwMdiJ3c3yC37jX6ocWSmLK/vol\n",
              "rRp75awkPk1bkZj8Tt6VvlLbBE7da0sXg52F6FppcPQamCjTp+5ZtfoACIQ4YGQymbNpii+dN+BQ\n",
              "X6mVPub6vEC0VTAI26HDxEb+Fmp8T7mOiXDh6UzC2Ts8Bs3JihIGNUFrKrMXvoaqcPP/sNLN1MJK\n",
              "ghlxbgDAtwz0aimN8Ck0yKJYhBscKUUzDYLCC+C/OlJD47pe9Ec9hbOXdJ9NgdMnmelJvQV95W4I\n",
              "CwjgFKZLQMAJFFncm6LNx6FTftv0ETlLKeTWRCr5ZDbxCuSLgW+cnZhikR2U+48PTTSanhoKSiia\n",
              "TQeZ9rnzFfOJeYZWzLCBemlYzIcbwhQRM33wTDHXt1Xdwpo53iWhO0bSZEoaVmuqEIO48hBBtVn0\n",
              "LZoBdGa3+g35wB/2LsOIcd//j8E/RzVcbpl5D+te7nvHFwz8u5N10UL9CyuB7N0nPLK2LzJG2Mqi\n",
              "GMkYkrcZLVEBpKJ6yTFGoTbfoIbxEluN3qYCl1tflh0tIQKhe7TASrRAU+CFQnYozg0cNg2OKFDT\n",
              "+zsabkDI/akkew73YQxVoBjsrUgvUnDzkVLyqQkVN9lokH+aVVP0bwV1W0uGj4zX/hGqPG0+jlKK\n",
              "IK9+hO5b0NNZi6P1t5dztqX4Vqw29guIpvxu7xDPwk5TcUghgkQIYLjw2z/7vZOJ+kBDKT2Mo0E7\n",
              "lNZM3oen4Cw519PiWO+5dsu2Dg628PicTw4JVJ8eHpec0QWMUI5Zc3fmH5VUv1ljSXSNpjDDfs5Q\n",
              "LSQBqWd9h5GQcX6Kp6cHlDT833tynv6CBoxkEEfnA06j4bU4bUaoiGLfGafQ4/KtG1V/erWmkb+2\n",
              "5FKpI176XvOh/yU1Vu2hiXjH3H0qsC4vkiOcsaxIkLvGiPYaODEmD09xNEsnACAdPBKpT9JhMY5d\n",
              "aR7YI9ysKrEwTr9RuBCElZ22ATMK+7ep2bp4y318HZ4zhv0WIFNP2q1Jxn4X5XaJ0EhSkabOP/Lk\n",
              "Xi78d81qytLA0Z84dmJctdsglI0COdH19zZ15LowBx3G5uZkZ/mlw+T5nLomSbUsera+y07do7EB\n",
              "2fOK+rRABw2rNsHZif1IoPuBAAAKhgGeYXRD/wZjGsaIidUmjGNh/cu/4XM3gSDID2WcvawAAP2w\n",
              "Onudqb82844lfHZYkxpi2EBWt9r6eKyZtiGdbGp9b3+8TFC16CdrkZLhAb9iSTWexF4fodgqHd94\n",
              "PktzJnurtYbBHgCc6+6+zF6AbYaobJJWGzHUfmrkQOOSUwVFQ0u9t0s4crwagMh/BJmBVNMGroXL\n",
              "PEw0u5fvgtWbOOJOUAAAAwAGzaUd/fU3roMHgsvBrtT/S40yqCnAgP2dS5Eo2Y7SFwpPBzFHd6bO\n",
              "sqtnv8sxY7tpwxb8S828DLcwn7hO0m3baSBlMwyElqCbFO9+tTACd6ms/TFTHuxTkxGJPW6lx6mW\n",
              "2skSaVg2zB9ypQxp7blvzfB0baTh9k23r69J1/SY3mU3WM4cwLg+RpYfFZyge6ubpJpHXJDISZ2C\n",
              "dWOh1t+ZCjceloi5sg6tbJCDZSBjsX9D3HkVj6YW1wCIeAAAAwA5liOmvW37l7/FJ2rrcSE1rC/b\n",
              "7LLJ+5IBlwXLmEDAe/g1pl/eEUlYOVC33Z4d/fbMp7x2FBRsMXodPCaGb43jB5vw2iCDgGmWm60r\n",
              "tJTd7JnSqEHmqp+jYTGD8LbEPmbx/jB8y61dQijZ/tFDxkgSGIptRroP1ifDqSnLBoz2AYuIgspH\n",
              "M1ZrGfTQtgl4JFFKMU9JI5KusDUwwuEwz90YErEEyZpR5YLUtgIZKggtLQMBGDqsRtgS95BYiVyE\n",
              "tVrpkdRRZI403wkICcRVQcDNPkRnke89eSmODUcHMgd8U7EEhQEpzUuX8Ar+uXZNrM2K9fGSeaBO\n",
              "Umlid/byxfmATuEYxGNJM9R+eNSBNhI/WLKX981fMy2hlkWSxiad3iF14lP2KhpbB3zjDA6MuiK6\n",
              "x1LYqWyrKwxR1wIybnX0LplEirXoB5JQVQ/R9yUyVdphCY5iWnoC6UDUyPdN1Z0GxYpBgHN7T+2F\n",
              "gl/f+RbrxHnNbEituMDfzPQBqm/3WcWUNzBvSlbrFD0FenbGIKuH4l+sc2eSwbifuKVGd10rqCTg\n",
              "9/eBEo4miXlDyNiL6tkVwFwz1YC4FSAuZdq+mUEXp3zSDEK4Gd0f3ESC9epi9f/X4eUhB9lO6076\n",
              "UAe+x0OeeBpvcI1vQ6b9s9LGVpxjbZO2U1Kt/6U8Iy+GTFHpLBVqEfqxr+QPTJMuTtyKrz2pmLl4\n",
              "PhNswRm1uUAI9WTuq+zOPO0K1FBnHjFw7YWrECUgPSduwT3xHlPfQSFZqlTQMrif6njq7CP3jzQc\n",
              "Mr46eV4uifhJaNu7ydRvc/Y0dgmhPCNf3r0WZisqtvM1gz195R7yrOUq++xb89HNErG1Rbjl8fo8\n",
              "L9doGf173PWoPxHKWhc10dnI7lhs1pDaYbA7R/555qzzsELU6BIc83t1/dGG6dJB+VpPM3pX0li2\n",
              "5wQsmAW8igGDTyQHX5ngGqdg+58cg2IPnV8atoNHu52fhH8+7AnMcuKP9Dd1+ndD0aFLituiZo40\n",
              "4W5sElvpSSWHG6CxNCKIeHIzWJGp9H8zZv/+8fW+wuSSMFqKK8U9yTpfVJOhoCVJeeapkwStl5XA\n",
              "AaSj30tPk1LobjNNqobFmTW2v6LsKgRY3iHmulMs/5xST53EglyrxxdeN4uWb2v/SfnM5IIbz4lb\n",
              "LPfVQaKYLLZ1/BFF/MKOdu0sONtPBJsCHiQWO3TUQHfq6QFkd05LtBLhYIWW0o+xRAE+kmPQkJG7\n",
              "TsAvG6JMFZOquslaeCps46sjtOEFjNMElsXA/wMTll3W2QqbHNp5BbW6ofNYsTwEIq3mCZ7VXe9b\n",
              "GwNweBFcrQ2+xBj0prG+xajGnNCThYfowcmW7qdfmNXNE3eic5D0iIJtUYN+Cx720sAWWQrtHOOZ\n",
              "NTbaAqXw+cLYqS2xvPrce7jnG8cn9XLLDeNuMbXtXaYvRLXKeAlcD4LvCpoaKt7u7E8KUcdYHZ/t\n",
              "G1NdvpmaEu+rt/0jRwzzokHWEWEQXkNBjM27mRWV6Y76fBJM57XkvqqcGAuvHB1zn0XfoXm1AYn/\n",
              "qP1F7jHrLxeFSJabChuohCsKYbcIW96tHfXHLDJjqYoh7eeqRp94pXZGRPrxRhutRetE9Hie8ua3\n",
              "9Xk8Kyd7nqw1gXHMZI335uQqHJBYOfqMemcqH/rDbBCGpd7XNZHwl0EBzkRvxaDQAqzBwlYnv0Ng\n",
              "cPyJsvWvM1VMiimxRmMU5Zp00wx9/iIK4o+P+ed0lCh9R6P0xvsBUS++eKvdPJZKSNXq8AMhTJpc\n",
              "sa3DXpbD1xLCkKG+MRxTCSQRhySWTpPBov0Zd1SDbMEGsg/htPME9Z83NHRA/J4qp6EJSEeb1tIF\n",
              "Y3DkBGlS5sZE6+rDVCGJji0opA55z/PKYVMFO0603UMp2crsgc8vjk0MeMuH+7/xbuK0gtttzsO/\n",
              "iBnbkgsps24Pf++8smRzGe6ua/BNk7Pp+GC/vqDHS0sujVZgny1mU1qCilGu2s3pVfjMf/5N8bks\n",
              "c06K86ssRB1K9JwdiwbVsbuKR2P4HQKcNbPyRm8XyzfA4TfOHkywFX8oWqKTublyQnEBCKZA56Q6\n",
              "bHhBU8+4zbpreGSdkAGAJfwvKI34zlmnDp4OSowFzN99qeMI3kgPOZ9rd4HdgKcxF/ABPHKPib3A\n",
              "N8RJH1bZBRk6uuEnOhLZ5fCeoP70MEGI9waacqA0fXtQBCQrLpxykCux/gGCVPczNDQMODPZj75g\n",
              "1SXnobvVWUvdDenNSKIZQ14RTAhf3UdDBd9/K0WXml6cgUOd7y48LyZGlqCs1T0A107E9PVG8wR4\n",
              "Z94IIezH4q559GBJbwN6jok1L+6NgMOhcTmp/iXqMllP7dA+E1Zn/koctIExhAgIuERz4PAqETRI\n",
              "jCpYNCCSkwUwW0y1zgqbmo29XczGXm7DS/5ju+pAnP63RC9Nrm/mUCorCk8diIdeO93mc694NrT4\n",
              "toHBb/xiT5a0IcEkyvxpY9Whq/ew6GAN3SZr+Xuq6EcBzhzedVUf5FTRHx/+NajKYDhkrStpkj92\n",
              "JPETNm0Kvy2ORc9UYG/7yiFRtZWWZ/kyzGlSQ2M+aAlReMp6Qrres/UUS7sM2zEnOuPgtmlEYJBt\n",
              "9IsKVY1ATiu8H5mdjpbLJcHKFic9g8KrLW9v2xCT98qAn+t+VZ8FhhMCuLwAdJM8kkeIopJxo4ja\n",
              "6Y71I0pEER+zf+PRywwJYxGvM+fBDR9bOOIKel/ap5m2KfIbyaxXWaqK/LT5Pq8+Lc1CRlofb4+N\n",
              "6OWUUB6zgPJ62/7sDoVjlR2gC5vZkvwEaynFwvEFITx5BxZdbZgpj6jn5+Hhnw5XSigu2K3cUWxS\n",
              "zpgEZ9sDaFRxZXN3qtrx3V8KCQIFO1rY8q2sav8GxKGPDYjVE8TpVcOjTUAPozQI3MzbjmeS+cE5\n",
              "6VMUauJXCgTGxA7ql1taJPE+fdO8Qvx/qkmNvI2uWirxrZazp/Bxqy1recdaQYwAM+qsiJrLT5Qh\n",
              "EtA5HYjlzfG8N9Ctm35QFPTPj2gWTo9f6KRbqAHwbQQyh8NQ9MbZMiP7dUWHT+quRJf7XJxBWCVz\n",
              "90cgMmLpzoYeWuTWwIeTJgodQ0ulaaJURrAbLnNBaxzgON2BWQAABFABnmNqQ/8GXSXJhEGRJo96\n",
              "ZyIQEI2WMCTm+oANkd/Ms+LRmqhrG2d9AdAzPvBAfSo83klqNiaxDwf2cNy/LHep3N4zHt1VQvTF\n",
              "K3xddXxParDGwAagxpP/xzHVnppCkMfeXR1FgnV/SaWdFiQ+RcEiri2YqDOLGKQOc9cjOOKRH6d2\n",
              "Q0lqf688fQiP8tNU9qTHbKHpnexJCyrRKPHilaqEzIYkgJQesYKnQTxurwXdeKTb5zi0FhhbGezB\n",
              "6iXJfewyZm5j9YnkpWss4aisLu5OF+1gIzJ3zSJOkrAcI6r1FTVn1vEHB9PN0LTMm2Mnsl89OeSi\n",
              "Q+TByGJsr4zY1s1/qiuT8OHc60VY6m4MklbDdKalwp0Aj0l7NNJf1TQbvBr6itwfrL+aNamne61z\n",
              "76wgEvSdDst46zh6e8qhVBHf1NdY1SmUCkImW7EO+xXZCgt63YbcaN0IRoWFPDfGZzvJMH85J+7H\n",
              "a+2Ryrt8aMqgrWvdntoHsr2t9S9VcUcts8kFvrkfEaMC+Gu2QIgCS8grjsStwiByu/+ww1lrpoVi\n",
              "PC5r/Cw+wfFJjXEZ/BDQ6eEoMTNcTDkFhesK5+xJX5XHv3DatzY4634eyXRqMxSbGyM3upgO/G5W\n",
              "R4u2B/Y9tfbAxVqlAjTMtTKvtvqXqtsQ0QxgtC4u7vIDJoX8gjaiRV57mUhhANrvK8NBNq5oRljN\n",
              "AoGKPxpripyYL7Nxrjeh7QEKRDkc4nuAF0FPCl6ywD4v4WUhRTLWn2jnodT9I1kJ3XmWk0x6ROru\n",
              "4/QX6DqiP4GmTyUOjFjW6+JZOX2UQEtNR7RyN2TLxKAm13bP77IjYi1PUvHBReom5QSfkaOBxxFd\n",
              "uDAslKsudFqQGqNdEHQACFZ5y+yD35dChmNJnYVt27B00+RTeBNbv50cPqXsuxnmVJ6pOfskp/6K\n",
              "XPVTwPYMvsbBT/ZGMyG3309nqsRDI/ur3p+nAu6tuLmxSX+A+M3hV2/JT3kJTWBRcPvvooloALHd\n",
              "83PAed+5fHDqAG2pzkX2MOYTptC8T91eMTUEeJRHA+nqfnOriPwypTadVf0yO+KgKty1+TbpY6D1\n",
              "hEYgtw92qJQtAM1y9pOeBDX7SoPuiaEWVOtK8MvAtgaTdO5E4oCGJobwAtBQ6Ft7tSD2Z6PeAMHz\n",
              "1Nc4BSpKdVjZ9w3enuivotXG0N7onWPcJc4hAI3wZWDCzYoxfxkFXotfMnnnSWx1pBnVNFQ3c5wW\n",
              "mxLBdE9+AfrN3okonNDdutRCqmI+TDshkeKOnhkaMTnzrusnb1sXcx3Z/PNlQQNaeZzGE4TR7TCT\n",
              "vif0xDjiYzkISgHUco9Qikga/Ad4SuWKSPJ+7U1kI//sWP/T2Whxt5ms4brENBfrqsnhn46D+Xmv\n",
              "450otejcugLdiLY72TNkf4DrfqOPyZMY+tTl/0hy5KAPVv1vyxfLJqbgizyi2JYYdoLLC/QArQIt\n",
              "cftgqYEAAAZfQZplSahBaJlMCCf//rUqgBGEsIuQ53AB+gw3OPvfr8QI5tyUxUnDtNXqha34koOn\n",
              "jwhV4aTX+pgBuDFZQu8H0g9a3Hs9w0PhregSh2R5+3RlhazyaP3BFeVv6f4FaazaLC0MNiOB03IT\n",
              "/OqeiGN+U4eBoBqY9cmNUjF1prsASzv416Jrh/Tz+FkdIj92UGhmujJUr8TXn60M8TQMBTvf29qF\n",
              "BW1DNCpH9o0mpAwEXZAKT2Fj2X6jWQ7HTHkr4NJDPcaE554LyS6NeRR+bVDRC9HUyyI59fTC1dNZ\n",
              "vf/wUi2T6IE4NcdSgDUowR3kSSmxw/18JrPNGPoIf3dPELnEPWx8V9WyUfjvWfyffUUNc7lHCz22\n",
              "be2avrkEppqVCl8RM0qE7km5eYAifTFZk+7qamgIf976uE8oBgh4nAwmrlyltZ7fnLufDOEBEiKb\n",
              "9mB22Hc+RO4SPGlOJdYh6RAXiUMapT+99aljPHT6H+QeWJ7AYVEcdTwlZGQdH3BSDK49yGIhkMR7\n",
              "l0h/8wwz1Jnj0TfraCn1kKnxC/XnBpU/Vn/LxqN40TMp9FnMZaW1ryxqaqJfV/l8gPTPYh9z3GtS\n",
              "ycSuyPvFHC8vfsICz0EAaJgnjdhZW/AvsNZ1OOowAnwVq9Rua0H4wOJQRa61yGm48e+tD7IQQuBM\n",
              "diOvJY5oiqU9idaKZvy0HbmfZlGQS/Q4R6iB9/79wjHHWkVBTU3y0rdwXl3aOLErC+EUJBK4GTOs\n",
              "2ml/0NWqNPQH6CtbeI+m4zkAoTgzR1B1i/Rvbrssd1MTjntp6y5Rx/6/whO9HhiVakSQZlJTIAwt\n",
              "6ZBp1mw/dQBsvZ499cNN/Iu3+F/s2VTEmXc7xhVv+Wblz0I6Iq99/MTugfRaxRmRtVz4oW5Um+Ww\n",
              "Ujwx5SmxA5F/dqlXWyzQ2pArxZF2OJpuBktZf6+Zc2VkWQD48WrbdKlzNCDMZoYgqNov/pbZ+EzQ\n",
              "YWgCJ/A5n6uY0WNW4DQpBx8aidVtiqy3/A+h/kUrcoYmpgQt7CoJUvAGX8Ap/0Pg0mjUsXrVa2lS\n",
              "HrW+Y5TUHwATAIpBOQ7ARCNwNAiVgjbK57xNhbrxs49sL6A02FHgQ8iW4vkxHdEyyGISMSSoAuOZ\n",
              "HwEaBhkTQatvopABTP+Mbcqag8yFwk++KIVcSakMx0LQFIp1nPdd93xpAH/H+wfQtCiFRpaudGxp\n",
              "F66xcHJQLIgHqUDHYbkSWU/tbPNkQKhtE5PCtdArC/dvaBGl1yJlx/B+W3mxCVni5aAqYuWhvpSD\n",
              "lPGlzJLqC3kgUB0ayJ01PADe22OS9hG8T+v/DSUysYeV8nbj9o4fBPD/uISmwkdsovhwIMmUpGJ5\n",
              "dctnbUU0S2reCfWMKhu9dA038BycOYOtLRHXQAlOkxDAqflbR9Hn1dx5HB/3DOS9+wr+2T+ifuLT\n",
              "NIzlQVVq6socdo/jup2YYLAYelfqjozgtt6mpUSHiJNg4pTFhi/webnZy2/3O1IhJrvHBjO13O6y\n",
              "Ut6PkqQM8ieRHM9WIZM1NO+l3LSJwKb5hn2KzCzGslAlrrGqEkXBRCauffVquy74TcGBsDADdjX/\n",
              "ynR6pnEZfFyqBUd2xhlzBqfvVYa7XozefCElkQAuHM8YF4l9QW3tfdCBlQcZa8CT6AGY/GsbAFNo\n",
              "7dKqR6sstHB1u6gjXgmEG/Y0/nVn1w3bltA8krN3zuYvm+UiUQc1CH69/RBj5L8tBoac2ZF2RAyt\n",
              "EBRtjl/YqKanhQ5EYxMMncWBdADDs2G6gP42gX+OX6uJoC8QrsCmP5JzZ/zV1So/174lZSGzkB8D\n",
              "AU1mr1tgdZsSZyJmMbf6PtGhM5S388hGaIQMgng/TPYta5KMw/WHPss/kt4Wt+9g5chhenIcr9Ao\n",
              "Vje7+XPMlMNYO6+/Lfui2hDUtEWk8R1vVQkz48DFHz7/Op5mOSo9XQSeT/TFJAQPUbyjh2FUfvJC\n",
              "PXj8fWVKvjqDuvn6ykdS3dftA21Mj8j37a/Bf0PJVhjH0VJxN3JD0PAVhnkYO3fmXOAEBoVDjkND\n",
              "IMxg8doKFC/YpZjFdywymg0GsJLGpCJoj+UvrGVShV/RkdfiP5aj8LVeyYsGSVUYBuEAVHJ+ulWH\n",
              "1DVqqyH216q0c3usN2AINfb/if783kh0/+IjMpt2blLp/ePMB5DPmhBzsn8AAAtcQZqJSeEKUmUw\n",
              "IJ///rUqgA9W2dyNz1KjRIAJcwqRFSMCo3FjJMZ8kbwu36ZuozEDw2/MMk/Y4hfkzSgQeDqWzPz3\n",
              "66gh5kKkl5ayV39XSNFmpS1PxN3G7VfAEYCCJcGN6bYdIzflMFvoEC3j/VIh6pka+P4UrpPpINWC\n",
              "kFW4Nk5i9UfhwF/PwUW+TvTYQLuLzIjhc8QEtm8Qmn3KxJyHXefvcMfRoDzvkvB0S4GZpcNFNfO8\n",
              "nNuhprDAqXQ7GEqCEkn5w143P/mE/3np1AW5FdPPaUYOLY6syhvCciqJ9bHVHcfYt7LSl5w0r+PJ\n",
              "o0eHJbFSA5ahSJ5DRME7q8o099SUV+WP5sg1mgHT1mivZInnQRAAyDA65vjVSl+u5J9XG8nUj6GK\n",
              "I/YJq6YBrw8U3Kn90Qug+VdtRg3itRd5+yraXKqfKvCdP3uMPGQR90/Ds1NOVMIBVuNwsw+hiF6k\n",
              "5eQKodijtag57S96UkC3ZM3mSuarZI3cj9ple1zQTQIexuziABdRwCCixarKMPaqrs6TJj0vq9V3\n",
              "kI0209GId2yVfflDhoEFPNwG0sJjPBo7LcN6qyCV1HsY3JneI7f/zRsDpOUs+eqeTBia3M4qxyvC\n",
              "ZfFzEXtPtmW5ukzLWgJWgUD8ClXWzMqa2Jt33/UYFncpUDRdssqyGouOKErvv/CfwLv8gNStlOwS\n",
              "fL+SJgphlfooFlfUe6O7NDIoTihjmF/b/V0GIpavQNn0G6hU8hUyFSWCoI9v37rfFZJyyKs4Hb8V\n",
              "vc/KJvz/1phEUYdPMaHwUAGV67curaWfzpmbYBbz2WGSPK74jhrnzS2ktGVuMam0yOLOm5rvhaQE\n",
              "LKnKEqvw3yluGRtCcO9K44FNloI0tmx+e99Ybr1CDLkdRK/eDf6M5NkBjNGOuf35rjTAZ2yaKSZS\n",
              "wWAu1FzbhOOAYYI82Tg2cS26IU971/BjYGIcCmlwLEoFr8yGNlVvrur/dR5C2lLKYym/XW9/7DWX\n",
              "xrV4yX6to3OgUFC0TCr170FjbWUtomTSJRlXYQ//SUX0A99VyC69Sc3sAvrL+tTIUJi1jR0C8nOX\n",
              "JNLTIs0Zg+8nuRGk8IV01dq37qhJopnUBqd6NuNRQfQSlCAqlQqWg6bxcVUPjI2j6L92nrw8V6Bg\n",
              "RVl6yKJqdxBkrozdAyD6VxdMR0cfPmEMELAUM3y0Dg+n0nS+TRCFUlvrESA0cDgiVNNQxH/kf/vV\n",
              "GxfPsZCUFoPj2qTn2C28eDocYl1oSvz8G6F2sLDhr3QcGr3wT+ev6rUiySeBsNjhi/9+Pstiy/DO\n",
              "NHtcay1W8aFgOFx+KsJt1yg0UVz+cU80vZIhsRA8fsDNUj40mqp21bKkdRxNE65G8qGzQCjsbgVJ\n",
              "P5OfuoBRDw6S21cr9DBv7qz6Mwx189fM4eBNDicu2a+STTJjxzPYECklyn8JNjE7QyalPl9BDBWs\n",
              "9XjvrE3otUdXM7MNVUAJu0XXVhSedazqPN4CRaicf38uwbntbUXmGjSHYh3yq5lsVJ0WeeAPy20B\n",
              "jHwCtC2g2PFqarnArSVypk1gqLvHuJj+VyIFMfP55atxQgSwZ1gM1z9W0DHaMAKcAmsHuWCJDytf\n",
              "fFCdNgO0NBKHtk5xHxKUUatMfY/mjovUNqiC8BtKOd0WBCTUbY5u/uxHWC6zMTi4Csj5veG8TTVc\n",
              "Yrbdmff5jNTmQb4L+ggYyC4XhBa0nIXL+INQ045UcxTCteqNx0GNzlPcud0Ehro54mD4jPpXry9a\n",
              "YCNLwO2cqTuAh95bP2vWCJEELCxX36GLS/SPDNd0cWXgC/lUPoxhgj3MJ36DjqHxZkd3ANsL4JrU\n",
              "Vr0w8+jHnBv1lI2AUbfYylLQg0NGNh96Y1aU6gTktpf415+LRkx5lF/2bOLkAeI8pfZnpp79Gb0H\n",
              "FBGWRYNVsHVa/wm9QI7J954QWS6sR6IRxZlLqUik3icMZCk1GgB5i+wDDLf49ApGbMDhQd09/bDB\n",
              "w+RbGflJilyZlOPCpXaQXPDWCuo5Lbb4P0dzTMpw/L85EfBCUH79OmUNxgoBpaV/wWYSRGhpqprJ\n",
              "prRmWrT0KvCZGfTwgM3q/phHV3I7ENgnYQEOV3oRY+RshJR+UPu8ZWrkiaTRDo9+XwaRDlIFlHBM\n",
              "/TSILaYzNxFSyzr9kMbYJcCEUDCopeqGdX+GPZH+N4d6jDe63Adj9M4no6cE6vLe0OrRrJLJpyOO\n",
              "Jt0zYsrH8agwH88F76PvXJ5x4vKhh5MMP6QI9jcN/NxLfAngpf+gAiT3SwbpptKFAp7y59ad0B8N\n",
              "AC3OzmfQIgCCp9nimQ4W8xarrtVrizmlwfJXhX7NcXzmQjbGoVMRfttodUGmhJqueat5l4uSJpCJ\n",
              "oc38GBD0HtxJdO+QTdtzkgo+rsUP11tBHcwYl/BonO+RlDn6ThI6gh5K91Hf0R0tX9mUowf4HGMo\n",
              "I+WOdgqigxwYeSrr4lE50ztPb2Hs923yxY63IEdrSQnW8lJBItqnyikd56TnK+r2Pnvi0csptn5W\n",
              "k2MaX/6BVSJ8Jkuyg+rxg28PLDijQJM63u2cmMOfFEpwLF/Ee+nHEpwrCxH13j0GhZH9MjshNelW\n",
              "2hrNPlBTpz/kR4xHknWBkbslRESxq1KmcbDajJOigMvaSBNu7jMn2ubKMjio1/4LqV9YZdh7YuK7\n",
              "YtVYfW0NxJIuZSbCSAwp5ZRlzpXj5Zh0uPiGMfWTzW+xM+ns809SRMlavaxw2WGc7jOlWh2qKpLc\n",
              "Wt5l+DZm8DkxGOa4ClKdfR3w+dETP5UXPa8yEJmoEygInP8o4S6lvjHpH/VVNHRDspoHDR2lS2/t\n",
              "pPTtN2pbdXjkRRkvu2hD5OddkiN4EY1xYkUYDz7SaD3lk1iGxgHR7U/4RBONyURw4lQox6Ra5oB1\n",
              "wx0J0AxbaBYAU+/Kig5RPmHXC5O0KuJATklDMwEXFoqlhE1CPP26GJ74OU1ColDUjO3TOiJBG6yD\n",
              "ZIb9cZUq+ysmGAt7ATDy8FGd9uHirgZa6kuRkzu7IDIC/IlaYwp9pcCZTvwUH8otGn5Fx3UufAjO\n",
              "OhUH6vCdpFho6JfBTkgiPg/qCzWU7uYyi3AcmIkoRzUDjTBPaZhD17AwdBx/Fgtd8duyVvvtC5Gg\n",
              "2K6nv9/NU1xSVUBCw/gUPt5FzIrZWNXSXaHbTHINkFCzzKcc9cdrEq47gqPrwwHfnOl8cA747twn\n",
              "zSbmepNPRbngI9RKswr4EiWPghrlHJnGA0Vk/w9Wc2xKCA/dClrSDPriSsFvSr8GyLiKeSjsnGFV\n",
              "88+k+uptxvmtiNwO9V2PY/L7gyNKEcD++EupuO/XeB/r6p2wC7mBZ8l9YBXtHIelpdCQRV36NYHf\n",
              "JRAaW2aaG6PFoET0dHgY4TpLvpX8TSCSjfePGosQhKrnX8UInLZAHGr5bB5C9sdf4fMizHJZJslI\n",
              "vW0oSWRssP4LSpIISoupjFP/FOLOgZcPROLUvcvlC/kbdCSZ+q4bixR3rEqXpFfKz28sS69mcF7f\n",
              "plgk6o0TXL/cL9Wza2Dnba0xg7dNljKHHlO2VAej2dQhhR0ZcsieBoDhE1sVet37AC8MXQd7/JQu\n",
              "gXm4DsQThImXHMXzNkc2sGXxIbPJOxEuOFJlS4JgD8T4v8tfq0BUhKQk9KbAlXkZawFFPk1YC0om\n",
              "5NuZteqL3tHm2BT3H1xqfqecUdoV01piyp54/r96DnNDYRWQbDP+SFSZdO2UJxy7rUPB/t0D+uo9\n",
              "yeAQvojT487tKis5+J7PWq+UIR+h5yPnrFLyFDPesML5I1YdJAAAAwAFRitXvpp6F98lfb4QHtkc\n",
              "zbtuEMula/AQdyNZx5FkV2d8v6NHrrCtNcf0GbUesvC/xppdYYFOT9bFOMi1YADlgQAABL9BnqdF\n",
              "NEwQ/wJARQLXggoiWu3vegA+JXoH7MMJpli/8zHk3BalmKppMTxfo10G61mNS6X8xXpSeYAmPIKp\n",
              "YIx35AostLIee55gZMQjya3kuT3LJQoxI7ZpWM2Lj05oigkmh7vFs871k6+K6hoDPWw6fATSMAux\n",
              "FRS7l4+qibJqzzGoNyvbgsYNSjpOh7XRvQA/wIF8ko2Th+ouYQXlf4Yqs3rbnpGj7oaLu2W9NKnz\n",
              "FdFfbYZeiDDoRDn5ZkcjWbWiBmzWoivt0oHkLagcOf6ob9QiVx7b95Y0gCH/LevzPiuMLbVLQNgX\n",
              "RJuQinpC6Pq1Pc/tBTUam1FY4XsH6h1mRt6/Rt7cDdmbpOeBOv4SLBXbGmmQtvvw9a+D2heIBwLw\n",
              "7ebtK/pzG2UOyMSUXz7bhA+HeLxLeWlT+jfwq/AOxKpbj4xbj+2qpBkvfTN/jsCC6HjOKe15HMCZ\n",
              "wynHK0RwPaOPVQjL0yxPzJI4f9TiNYoROWwzaOuJrBHB0BiWt6xLb8XPDZn4ARBmb5EqBE9JSA8v\n",
              "UTcramb7syQeADoVz/bRiXS6lau9jUnRk3cnI7xZwbQuT4vAM7e/uZ91FW21mKu9pMtTkTf+XakB\n",
              "4zlN+LKffzHbtrKaeGm6svbn2oy80AWZTgcb99a0yEbBi81kf3wGUJ+GZXUXE3ndYAfbB6xA6gfj\n",
              "zwhau1IHHuMA3uWFk8nqxQfqvV6yprzrngM9pBAIN7UCVFi0dYzuKG3dMV0m9DIxNJnGrozcChrt\n",
              "vyEgKCGKSjOrEykU8xqvk32t3M+yxs7fVd4EXFCVD2pruUTNKJAtMu5BPy+1ZfCJBXRp/4h1tsTA\n",
              "UaO+SXk78GLecas6dlBm9Q0D5rYsLkGtG3+tCX+AJ+kijH7ECJm1DDvgyh+Mud+GU/5o0OGZgYJs\n",
              "HmbL+RaIK73pwCgwVTecvPX3KepNMZSRIHg+45oIWIW1r3Aq/RtaxUXk2uXobpmVQk88DgCtw0Cn\n",
              "epBtH5MitPfRV0HEYmLz1+5ewbLBFf1Yi+hPemF/YYNOEOWxWwv4ITwP/VhSJxMcv2Mp/IE/zfV0\n",
              "RBSsHuO7MQC2TcYdWbZSBdD0QbI8T26+9zp8GfWn9OUSUkJAdF/SHiA7ndL81/nhh+DjKowBegP2\n",
              "ef4/QdlWUH1JCcp30o/MWgE+9/EEY9Gv+UJU+54sGYUryBNP5k+Yga2aea1xfxHfyjhBL9owka4B\n",
              "J71aNjGHzSuS6zIvbFH0psFAxBbyJVagm67kjp04mqgALc9ppZXCO2LGaHBMufkmr+GINsTvnc4z\n",
              "LMW8XVxVNtO6HjwGNH3yR92EtUuQ3LS9yILKgfpHFuAm4ttEf72Y+ABTs8GEjyIA6HBQ4r+apsuD\n",
              "BVt07rg1mx0xEFll3q4omIG46SpWsw2aQBCB4J9FaTDo/4Q6AboEZGbeFrwgR/k4zpu2X7q6WTxP\n",
              "XFZUK661Wkcz+ZxsTxeABOLvdWSr2dm3djCdoR7xLkBz24fUMAY06T1hUw0pPn9R5cR1u4loHfBj\n",
              "atw6j37cGG5rurV3S1P4M91EmgaGRamHv0VHUd1HvS7SSrVnZMtTDbBi+Yusa/aXr+uJ4UKsgXaH\n",
              "uS0/bCBGSjJOsOAABN0AAANNAZ7GdEP/A22gRNPm8cgA2UWX0w221oMX3EaU43ODo2EbtWXCKyXR\n",
              "3sYj+7cjeVimdobx6pO0J0XyViyybim2jAAQeZw20RzBscqn2k6p2c/s3W7GSULWl7zI/K34pdk2\n",
              "i/rG8QtRpRK9mKu/+Q7qGjViKIhQfwFMgJbnBgk6CVEPk6Vn/Nc7CG1ZksT9PqUbH8NCwuxb6Xip\n",
              "yc6CHabaf1C7+9pLj1TficDVMklBQmydye6aJxxsiUXZa/LqF00An+bHtR7hwE8chuP6nQxTqnYX\n",
              "w6cQFbveKhJcL0LkWDR8wLP3lI4JLdZTwg8g3e3Tu41Dc2owj0GIVH4h2EZLCo2rX+qLlv71V4si\n",
              "4GywaL+Q1Tm1MhPUSHmBlaiLOL6JitO/V0iLFQ3dO5j9FBrDL7GdnbbMfG33QP7hXWCITWE+d/rM\n",
              "sDTQLWk7xzn4qcmpitUkJYe582jYxent4g/migMeCJ27FOtcC4FhPhK5Jgt+890zIRXLmIPzQNZB\n",
              "hYuyQwBoLo6Ub2JXYUrniPxNv73F5x3YxUnRosFJUAmxlajL4P1A1A/SPQ9gH+f/x6QfELT4slPF\n",
              "bxnkxR05I0mYHp33Q5aibafuORygSCfl3H0UxifuZdOBa/rcaYImu/dcMpQOt0D6Dl++axxZ5ywf\n",
              "0vV7wEvQSoiw5L4+Efv2IQ3jdP3XhTnW3FU1oNt2mXxKThUBznaE4oKuU+gw35TPBWCRqyfkx/AI\n",
              "HeiQ3TZIx9diKm6p/myfNstmw5fAMf0v7XutZpIkKsEiXbTe/dX91fNJpYm0OKFtpJNSCz3lmuTk\n",
              "Fo7NA8IXquh8R3UBfU2ZBS/c10mpb67JQI2iFJjSZ3lBOylsfA1+tVg4M42oNtY3vjSFTM4Am7KQ\n",
              "Lw85Q94Prj0OoIiz7jl2NRHtvV98vbJTEFTXl7m5w/GhE+VtMEn3ePzi73CPvUHyuux03oMp7loB\n",
              "kxynJ2w008Qp8x8QKtfW5qtwoY9fFq1jSlLLr1PG+x4ZSt9apBff+G6+9oHr1tVBKEL+qJ2LvxAT\n",
              "H9qYkCcqCkD7KtJ8Z7Vj9k75D5lKCa+01I1UF2dY0PO/QgELP5RTwcX6RmvGHeuQQ/TvGORRguRW\n",
              "RdUubewABxwAAAK1AZ7IakP/A2scdUXL+QAbKLL6Ybba0GL7iNLaLBFuzdqy4RWS9s9DeP7tyN5W\n",
              "KaCDUli6d66KvkrFlk3FSwdY03nzlKatkG1ReYwywOzl9m63YyShcF/eCnNLKtjsi8X61NchURFi\n",
              "sp7oe/ja6RYzry0C8KNvtH6WogB39h1Hfp4lJj8I3Dzal6h7lqjIILCJaWE33PZxNR4CEaqPKSkX\n",
              "QGLPA/H7sqHDTHP+dlkU7Jhq3TYIkuTvW/8bZnBMlMSJG1Dr6qGSV4g0buKQW+rYP/Zesjs+XzxG\n",
              "0cLllo6aBQqA09fSZeaD6AkJtqvLsfByXcMGlpqCkv/jZGqcRpDZ6lokThqHfBSHOfgxJloavoUn\n",
              "L9ObmDe9qcWoj4v7oQEoR72Ndx90oFactI3+qBWxE5FJ8KpGAJB7a6GA0UUBD6iD+IvWt5v4fi1g\n",
              "PZjZQb8HsgrOaDrd/RiuOmAH4D2w+PV+1czYQbDAg/QQ5nSHHHHrs8IhHK0/ahJkt2mGT+KRrsf5\n",
              "1qi6GXMJApUFP7kkF+k/bjtZAmnzasGvZxr3Tdp091oxvnY5XYH+qrfEv3ySxtqvWl++J0hKCnII\n",
              "ZPaY4b/w5ZTIUFh813Y9uhCJ64NbS3KnzKDrEgr3nxe8ySDILkvgSwXH8Y47mzI/4TEjvftmjH1k\n",
              "ISOncj6yeUrKnhY8Dlqt145rXzvdeQe1b60tEzn5UjKBYACNEp6Jzsv2VfwK4o+jxCIPIQNN5yp+\n",
              "SRb3ws7g09tZfiUVur/CerCoMtj7Gm6BxKi16TUbRWd5WPv78OAEDAURtxe+5cErOjz3eGR2xKus\n",
              "JZgopQEeRfbvFSLAJePpDvGRt3RJDU9GYGDtZuf1pXp6ovl8o/prLBE/vM9MZvwfvbXVqZD701+0\n",
              "/TlCZoRq/tyHd05R1Em9QbvoAA+YAAAFI0GazUmoQWiZTAgn//61KoAPVtnSI62uXQAGc3M5xuXt\n",
              "7Qzfwo+pws72rcIFd8FM5fE+9VhnmjQcSDoS5oUm6fiYdS7FjfCpeArqE3XJoF/h2aoIwZ+gEzfz\n",
              "iB5K60YSfaRt1rKWy4UajxqId+xVrhf3+haQTxaNSDiNepHZrb2CB4NMZmdFCfxkEcecV3fCIqml\n",
              "uCxRfblwwFOTFrR999b1X0GNCIfbkGAQd0cisj+QfWbOVmm0Nkj9LX1BjijdKTsL0r0r5/8q7Psm\n",
              "zNiJwbIRZkp0rS9/gEOxJFGnG2t/59pqk6AbNKYv6uYiYGIznaYTfg7Nv13X+KjqPNvZYry8yZC+\n",
              "e6vCMdRgx6K5IkayiLu5VO5d7BYaOrnwl7jV+4tcVSN02qQn58AdUIPeVLEDXJJf2vXkUhICPG9K\n",
              "l+hzXdmwfgSLeZYkow3W0YBilssloVsgAvCKuJ23EXdA3+MGtypCvgaQf7dGG4f7uttVDRU00jzs\n",
              "Pa5TR8RMCfnsyS343HqJ9tB6EDGa+esfg5J5puE1IT+QjX9AyPdPHcZFduAs6LH2HifNwk4tvzxn\n",
              "a+9ChAI1QhUq071uWTlIN6UTJQ+2IqKciVZ8j4kRVY0z117hseievpdWLd7JA8ypj6KTvKlE0LoO\n",
              "5Dr0+kOt5WDsjD0om11LGP356hfkhnYltpe7tmzXSDQLzfUPvBdQaOGQtOHGT/UFuXjH3E1VZ3fm\n",
              "BOIpc+If3OtQa37q4dhACXzpwMmPys9mE6DfyzM58FJabNrM/pmH+MOjJ/PfDTput6nri9A/yrUF\n",
              "vOl7HpoePkT4Wqiuor65GFrPmaD5PrwjSzqHv3kYxo3aJuQq0mbp9MCY5/0TiFUkDHnZ5zBh9BHi\n",
              "o+gCAOnVxPZJkwfu1yLb3Px6HHpB+bZHxTlJ6zNGWpGmYhDSLeiAVMX4EK+ggDdtm1st+z8/s5bv\n",
              "HjiNpRQiIzqeiPmMppQqYl7ky0Y7z7zke3Tucjmr5ASowmnwBULOZWj5WeGI9P+odPZbl1bN5eYm\n",
              "DbFhkcHn1ikP/WgeihAb5sjA2Tg31x4aOWM7n2sN0G+hol/cviad9/VZDRP449tWSaHabyI3Zyad\n",
              "SdcRsg6mZvFtQEptftP5yYAo1srVmPzJ9FLysb6Lukx9peMWockX4DARWBGuTaEZsUuarArP5FuJ\n",
              "zaxOwE1NSC7KsiOMN3l13XRJZWkr1J66O3CVDFGM9UL7NvblirT6xIgiyUR5A9R6wsoZa735ENbW\n",
              "AILzxkzA3iDKWjoh8n9k4MBuwZBfGup1S5uyp42p/BtFPD8WXQAeBHjyAEZhBRIho2qMWT+dQaXy\n",
              "S2uKRPL5lteyDKLpx4ulS5vjcqAu0ouENqbFXtIJoSHCowWK5cI+USJDa6KGaM0mfbHZzC+v2Pvo\n",
              "V78M/vsIIa7oGec7nD1aV/T6Iujyz0ADYjzzzoC3qpmFPTSeCiUaBQmRTpP6txtK4pztmvwH43Fp\n",
              "LifEPHyPy/NNioT4e53ONvEnRQLBj19vMvb6Piep/9HMyaDtFmeBmDL1S1Cm0mWnyQAKYuXaJznj\n",
              "U6OSE6c1R2KTbEbsZSZ35ce19Ly2OMw1/CBARIKRzKyqezrn/y3HGcKXJhNm2HfasadUfD5YuoT8\n",
              "eXWd/WT24XlSE3BnpS0cf2WzXcX8uvOGcGjhOXLaJSDMGpTPL3KNcRBd6PcvqzwuTgCHV3mOqbFL\n",
              "yKSeUhb66Rya1xBS+G51GSuIPDzfEU7wc/CDdG8AAAIqQZ7rRREsEP8CQLQC14II3r3RKgAEubyR\n",
              "5P3+42/Japsp6k9cfeNqWV6/JlpW7Y+j5fSbOS4Jw34MrFsAztvJnl5MmqUhDik9wJRSeoDWXQY0\n",
              "Cp/+Vdon9HhWXwYDJlclCrhmsapzT5s5os8WDZD88IrfCkQgdjQFDq4rON6Qb6bO4maMAmPQ8rYK\n",
              "5/6wwVxsVkH972vEiKZgkxBVnt/Pb6lbq/cE35dLifgbKRqp7k/yi6rMPGgOSDtR6dYU9HqcZ6+g\n",
              "E3jDIMbGHdAOGyaQT7yqiH9TKDFpY9/w0YT+USXw1DvOsy9PwmMhNgoufX3ey8pgddrRNqJbijx8\n",
              "QoKaD3djUw8afH3WZGUFvoND78hgane2X5BC7aYYQ/C/s4b7kcjFSeQY0lV7E90169GpvoiCJfoX\n",
              "d9EWkeZQyxDIHLQkcG2Hc8jvc5yWXDgftR12am5g6SQO2e+W+rvkx3x4V34BOmC7rWXwpYDHZ7Pd\n",
              "ql7dQ8t0tOVzSMLoMS/3SJ4dqpo/rdLRTspxRC6HPwzTBcG8352OyMB1wpEap67bvCQbKWQPMgRI\n",
              "vGRYvBpydetWRNuP7tHB7IOmiBN++DdhPKLnNwhgphdoNCtB/fBMcD/RZX36WGYTHokaQcUyJOhF\n",
              "52pTNBgo8g9he+5DAr6nhSNXPoXtvC3CueU0SvDBqPL442O56j8f1KO8e8WHBPA3mghK7as6qWSv\n",
              "i9pr3vc9uuedkDJCHAggLKAAAAHNAZ8KdEP/AkrQIvg7i0qZsAD9qdcbwRR61VPAtKiLKJz0o+2b\n",
              "/uG8zxUVjylmklKjPqzLxCM67CGe7Qwhrkz70r30WESBArGvE0Q+htRZbyMp0QnlGB9vdu/B41jm\n",
              "YdwWNG2VnJ/zJG7ExpIfgZ3pkR/v2SG+jCo7XXDPpGVbvax5hqtznb/XTruna+C9ga5h0bXHpsKp\n",
              "G1vbEPygMR74r+uadfXG+AubW+wYrTyoeBEOdDynxpkvCTBHJr5UCAR28VmsdKaTUQd00de9OmWH\n",
              "2ROPfTvx3/9S4HymG5Ew9soIRNISBxvtxSb0VjC+GU3dwdFGyP00Q/jnfyUP4YqljlbViNC30b9b\n",
              "hkarq/z8Iee0bVq2IuxBKIrJlDrvHStGLSUw+oP7tPAbQ95BUHjye/riqkarudmZAD7cjLrCq3ub\n",
              "AEWgQze3r99bLOYcex7YpohF+5Oku6KI3QKArjlRntHU1S4Dlia0D63DFCZRBNMhbpVtDc6zwQll\n",
              "ZExUR7U9jQISHd5uOKkNBVrYSkcAsXAdwe/ZFrjWsVCLXLYQpgM01iCxDcUFvWO9bHYTbTI61tte\n",
              "ETYQczxjygizNsIlOc8U8gzlmB72nwg0AVsAAAFCAZ8MakP/AkmOO3MSrr5ABm2gr6Ki4F45nfj/\n",
              "cDGm0S94KyxkNY1ZkMmzdnTKJ7JXoR2FOBPQ1O9zvuGYCsaHAPKuJRtl87wvYGPvjv7/l0uzqwRe\n",
              "zSQxdMb2kV1my7GPN29Flkk9bjAvag6ztbmsfF9IEt5oU2/u4R35T7HvNNWVcyEpney0ZW9PYE6V\n",
              "uxrcD2tX1bWP+M6VeU6a4Vcfu41zBIlIQ8tfJVuWYQYCciCXzHfscrQadeenu1FefdA8x7e+CHCX\n",
              "O8NbY8ZS2+DPIx21foKtJ+2jFi1+GW5QAnml/K6R8hEOJJ9wkVOZmfJCTir+FAJT7ysEf5yB9ox/\n",
              "HQsjoI+aUBeDPRP/D/iXkQI3xpCybCnbcOZYyQW9xS8gUtIwHPdcaRbMI+cpb76JAcPs+J8RzGDJ\n",
              "yD8JCpmvY0AFJQAAAmpBmxFJqEFsmUwII//+tSqAD05go6AAN9mRwkus8+GQpy/lyACoDEegIkrL\n",
              "Rz6NufNQxQuvb/9dVTwA9tMIVh6FKickKPjIGq0zilI1rb+dqz4vNlVkCf7apUh0XjbQKJOY6cQR\n",
              "TQ1YS/fNUbeoyH2HQP1xeEIudF2oE9z0UGFI8id9XxEYh1epNzJ1BhmOuEhsA6lQVdSQvbdnRS0T\n",
              "/WBNeNrHsD37vrkpYzBG6rpKVpH0gTdIuJQf89hWFMzA9fzhvFwZF5IRaXXPmkO5qcq8ooX/4RjN\n",
              "inY5OevZ/d915NxDOzJFg12LG5amISl5z1EBl8uuWbS1J7NN8AhQqU67bmHslYZjL/f8NGyMYtbe\n",
              "8bZiB3ZG4BVgaTFbN29eLlzFioS3NRTEKrSq5HLswAk1XlXzHWywBfMPNyKCofs+dshUJ9fdWj/e\n",
              "BBCSSYTq2BsiSESjziTQGns8k+tuldFGdyEsxXSMkX7+bOHJihAVg9BZ9Xi7ez/OhjUjwElvjbsb\n",
              "7aCn96ZrTaKJQYmNAq7IDKbI1bulwhKKonnjpzz2lcnt54xci2CGhPLnePuTUzP7NCfeiXp0IkkB\n",
              "0O8pX1Q/6fiyxmGX/xUhI7ImHQiN0PMURmg7i8VU68wXkMaSEjj0mFYgfpyPlP/UnbHf+BDSjZID\n",
              "MxVedMfCBA0x3SlNuFR5E9tbBn05DFN4jRkSAX/t+4gw9ZH1SgX6Xh9ebybT+4zmEm+X+2HyCbSj\n",
              "Tq6+nTqPmIv9aR944x28GHxSWztdDsOVIz0nzcanx3F0p6Aw9jVoR63cvBidTPIuouhrE+5026rR\n",
              "5k7lp0EAAADnQZ8vRRUsEP8CQLQC14IUqNSn8y91kAHxlkqVHLKnq+RuzMRptl3W1B/WUa7MkrO9\n",
              "ut2ZGZG7myc/8H2zPLnO+8a+pYatlmRkDK0JDiMTn4RmQGEzVbd6lvPtQbnI738rXMI6urirKODd\n",
              "s/5qOu9u8ThPX1czxLA1BlpeUOqDDzPvTX9nRjFc3687mqDnkTKQLkddTDCYdm9DoosCXFc3ZL9O\n",
              "QrEUeYbFqGs5YnExliql+mWJN+PVlLxVhftHHB8LD/+2Sr0SBkAkavMniG5+fthLiMOZVKDpej1R\n",
              "uAgtntLp4Hc1oCkhAAABPgGfTnRD/wBRFoFpQfGlnfZABsosvphttrQYvuI0tosEW7N2rLhFZL2z\n",
              "0N4/u3I3lYpoINSWLp3roq+SsWWTcVLB1jTefOUpq2QbVF5jDLA7OX2brdjJKFwX94Kc0sq2OyLx\n",
              "fremW5rqzEYwHepOYZMjzpAb4u3GWkkyQh1i7+1kR3+RKURMUTu0qNB4c0ABmnxUOEGluJ1zRYlJ\n",
              "xOGdGUgoN7hf4ANQiFuDBRu7aBjOTZv6kLbjI5DsdGLW9TMmxaGlbclj6/CaKtzFfJ7wMAvtXudF\n",
              "RUjDhH8vIBTveMPFnIcG2bn5bfAfa1x7kK9TkiqeRh6FAM25ArWA8+DTFE0acF4/CGSYc3lvrog2\n",
              "5iWGR9T/jjTDujMWrTnyUubBpxrO4LJ3KD3ldu6KobRIz7ngX3xDz5dV7UoDC5OCFgAAAMQBn1Bq\n",
              "Q/8AUQxyT4oD3RiyADZRZfTC6jHgZTnaSnaDc/iUPYsggEoGWlLU5GQ56+YAW1r1Odi92jLKa9hS\n",
              "S6JAHup+tAQzGPu3DLX8u2k0O/C5EkM2QDBO9iDwCIom05Dd0ybivQR1trKW34b76g89P4vS3fZ5\n",
              "QkPkl6U7YVYQJqrNdMpHYlyN286rJ+gdvyu2UZE/eaLsMk85jgx4mogRIqV9aS79Ycdx1awS1nm6\n",
              "K4XrGYhp3cNMiRKYiJ1yTRZzHgJOAAABsUGbU0moQWyZTBRMP//+qZYAd0QJMAGZVXiCIzxnzMza\n",
              "t4TWsW8MFhYTtnHsvyIXYnnPfx/2bMzinvagC1GoyoW//mia8GRgQtUfPVJUl0/X/g0RO2O+0/nr\n",
              "w8+QboBuxoebTKi0bTFRUZ2f7UUJ/5BpD/q/Mt79kRdWpkbtffmVmp6/+LO226rTZiwvLZBKNKRq\n",
              "gUw5lYbXJfWhxT2eMXjNyoprrwNJt/HIA//uU2137LHIPTikUkU9msM3UhWqQNsZuapB5rloVhvT\n",
              "sx9bZv2TwQhyR6cqWiJQoQKzGpeBaaHK/PGuYcqJBopCCkSvtuIdYSgc02gmZuMfbEqS1f5SOwCG\n",
              "wqPoJpdaez5Gv54vMNIW4JGZFM851gSu2FPXVaN+DQkKFJcW39THQygT/lTMhU+GJAsP4lZrvijk\n",
              "q0lxGkimYZUyAkgExBNT6P2mx2hiOYlwnW5cEhucBD40+80q4fcr7QtNFRHi/nr3GByqptZsq1fG\n",
              "z+eAhhWa48du1wmvTKm7FBuBaktKHUEumWfaeJO8cVDm2kP2vgAcLiKse6kZtxsVhpbkIJ412SeE\n",
              "WBEAAADzAZ9yakP/BADjTccl2pKXaVig+bxBB89wAQhllNa9U3Wqp6Vi6TtTrscyz8hCD+QszTZf\n",
              "AMsaWvs8RKBNxB/yTd3B/qRwhvUTZSJFf8drB4zbbh+K6MXYvUzN3KWIAJ5uVKZYZDiWj+wF7nFS\n",
              "K1iaA35ZEjNvdTjQ3kzMQj/eXd29SVe3QolEyeWfQX1Ssh/0D74xSpIibAE19PN5o4Hbn1I5P2E7\n",
              "GkXkC7y5KjjzTDY6phMnNlTX4rSbeyhzB+DQIG0y0a06fIKkuvpZoPQ0HClLvg4aAsZU94i9KyuI\n",
              "Eu/fhZSw45dpW7m/+YdEZGxQAhFwAAAEH21vb3YAAABsbXZoZAAAAAAAAAAAAAAAAAAAA+gAAA+g\n",
              "AAEAAAEAAAAAAAAAAAAAAAABAAAAAAAAAAAAAAAAAAAAAQAAAAAAAAAAAAAAAAAAQAAAAAAAAAAA\n",
              "AAAAAAAAAAAAAAAAAAAAAAAAAAAAAAIAAANJdHJhawAAAFx0a2hkAAAAAwAAAAAAAAAAAAAAAQAA\n",
              "AAAAAA+gAAAAAAAAAAAAAAAAAAAAAAABAAAAAAAAAAAAAAAAAAAAAQAAAAAAAAAAAAAAAAAAQAAA\n",
              "AAPwAAABaAAAAAAAJGVkdHMAAAAcZWxzdAAAAAAAAAABAAAPoAAAEAAAAQAAAAACwW1kaWEAAAAg\n",
              "bWRoZAAAAAAAAAAAAAAAAAAAKAAAAKAAVcQAAAAAAC1oZGxyAAAAAAAAAAB2aWRlAAAAAAAAAAAA\n",
              "AAAAVmlkZW9IYW5kbGVyAAAAAmxtaW5mAAAAFHZtaGQAAAABAAAAAAAAAAAAAAAkZGluZgAAABxk\n",
              "cmVmAAAAAAAAAAEAAAAMdXJsIAAAAAEAAAIsc3RibAAAALRzdHNkAAAAAAAAAAEAAACkYXZjMQAA\n",
              "AAAAAAABAAAAAAAAAAAAAAAAAAAAAAPwAWgASAAAAEgAAAAAAAAAAQAAAAAAAAAAAAAAAAAAAAAA\n",
              "AAAAAAAAAAAAAAAAAAAAABj//wAAADJhdmNDAWQAFv/hABlnZAAWrNlA/C/5YQAAAwABAAADAAoP\n",
              "Fi2WAQAGaOvjyyLAAAAAHHV1aWRraEDyXyRPxbo5pRvPAyPzAAAAAAAAABhzdHRzAAAAAAAAAAEA\n",
              "AAAUAAAIAAAAABRzdHNzAAAAAAAAAAEAAAABAAAAsGN0dHMAAAAAAAAAFAAAAAEAABAAAAAAAQAA\n",
              "KAAAAAABAAAQAAAAAAEAAAAAAAAAAQAACAAAAAABAAAQAAAAAAEAACgAAAAAAQAAEAAAAAABAAAA\n",
              "AAAAAAEAAAgAAAAAAQAAKAAAAAABAAAQAAAAAAEAAAAAAAAAAQAACAAAAAABAAAoAAAAAAEAABAA\n",
              "AAAAAQAAAAAAAAABAAAIAAAAAAEAABgAAAAAAQAACAAAAAAcc3RzYwAAAAAAAAABAAAAAQAAABQA\n",
              "AAABAAAAZHN0c3oAAAAAAAAAAAAAABQAAEeQAAAZKAAADLoAAAqKAAAEVAAABmMAAAtgAAAEwwAA\n",
              "A1EAAAK5AAAFJwAAAi4AAAHRAAABRgAAAm4AAADrAAABQgAAAMgAAAG1AAAA9wAAABRzdGNvAAAA\n",
              "AAAAAAEAAAAsAAAAYnVkdGEAAABabWV0YQAAAAAAAAAhaGRscgAAAAAAAAAAbWRpcmFwcGwAAAAA\n",
              "AAAAAAAAAAAtaWxzdAAAACWpdG9vAAAAHWRhdGEAAAABAAAAAExhdmY1Ny44My4xMDA=\n",
              "\">\n",
              "  Your browser does not support the video tag.\n",
              "</video>"
            ],
            "text/plain": [
              "<IPython.core.display.HTML object>"
            ]
          },
          "metadata": {
            "tags": []
          }
        }
      ]
    },
    {
      "cell_type": "code",
      "metadata": {
        "cellView": "form",
        "execution": {},
        "id": "juKTYibKDqA-",
        "outputId": "0a63f696-f736-46af-8ee6-4918f1c58b85",
        "colab": {
          "base_uri": "https://localhost:8080/",
          "height": 430
        }
      },
      "source": [
        "# @title Plot the train and test losses\n",
        "plt.figure(figsize=(8, 6))\n",
        "plt.plot(train_loss,label='train_loss')\n",
        "plt.plot(test_loss,label='test_loss')\n",
        "plt.ylabel('loss')\n",
        "plt.xlabel('epochs')\n",
        "plt.title('loss vs epoch')\n",
        "plt.legend()\n",
        "plt.show()"
      ],
      "execution_count": 30,
      "outputs": [
        {
          "output_type": "display_data",
          "data": {
            "image/png": "[encoded data removed]",
            "text/plain": [
              "<Figure size 576x432 with 1 Axes>"
            ]
          },
          "metadata": {
            "tags": [],
            "image/png": {
              "width": 558,
              "height": 413
            },
            "needs_background": "light"
          }
        }
      ]
    },
    {
      "cell_type": "markdown",
      "metadata": {
        "execution": {},
        "id": "iY49lJ_3DqA_"
      },
      "source": [
        "### Think! 2.1: Interpreting losses\n",
        "\n",
        "Regarding the train and test graph above, discuss among yourselves:\n",
        "\n",
        "*   What trend do you see w.r.t to train and test losses ( Where do you see the minimum of these losses?)\n",
        "*   What does it tell us about the model we trained?\n",
        "\n",
        "  \n"
      ]
    },
    {
      "cell_type": "code",
      "metadata": {
        "cellView": "form",
        "execution": {},
        "id": "c4RdhHOQDqA_",
        "outputId": "e7aa0298-9bfa-498b-d1b9-f93cb25c5d3e",
        "colab": {
          "base_uri": "https://localhost:8080/",
          "height": 127,
          "referenced_widgets": [
            "84f9faf790f14905a48b603e855e4571",
            "127adaf79f184afaa4b15e99c8604324",
            "b38ed2e815e84f1b9f620fb98f94bfba",
            "6e93ce2ed5f04d56af94851ed26a4d6d",
            "d3155efaf3774376bf678cbb7b70f1e5",
            "61506698000842e28e6379a34c8ca7ed"
          ]
        }
      },
      "source": [
        "# @title Student Response\n",
        "from ipywidgets import widgets\n",
        "\n",
        "\n",
        "text=widgets.Textarea(\n",
        "   value='Type your answer here and click on `Submit!`',\n",
        "   placeholder='Type something',\n",
        "   description='',\n",
        "   disabled=False\n",
        ")\n",
        "\n",
        "button = widgets.Button(description=\"Submit!\")\n",
        "\n",
        "display(text,button)\n",
        "\n",
        "def on_button_clicked(b):\n",
        "   atform.add_answer('q1', text.value)\n",
        "   print(\"Submission successful!\")\n",
        "\n",
        "\n",
        "button.on_click(on_button_clicked)"
      ],
      "execution_count": 31,
      "outputs": [
        {
          "output_type": "display_data",
          "data": {
            "application/vnd.jupyter.widget-view+json": {
              "model_id": "84f9faf790f14905a48b603e855e4571",
              "version_minor": 0,
              "version_major": 2
            },
            "text/plain": [
              "Textarea(value='Type your answer here and click on `Submit!`', placeholder='Type something')"
            ]
          },
          "metadata": {
            "tags": []
          }
        },
        {
          "output_type": "display_data",
          "data": {
            "application/vnd.jupyter.widget-view+json": {
              "model_id": "6e93ce2ed5f04d56af94851ed26a4d6d",
              "version_minor": 0,
              "version_major": 2
            },
            "text/plain": [
              "Button(description='Submit!', style=ButtonStyle())"
            ]
          },
          "metadata": {
            "tags": []
          }
        },
        {
          "output_type": "stream",
          "text": [
            "Submission successful!\n",
            "Submission successful!\n"
          ],
          "name": "stdout"
        }
      ]
    },
    {
      "cell_type": "markdown",
      "metadata": {
        "execution": {},
        "id": "s3XVaA7ODqA_"
      },
      "source": [
        "[*Click for solution*](https://github.com/NeuromatchAcademy/course-content-dl/tree/main//tutorials/W1D5_Regularization/solutions/W1D5_Tutorial1_Solution_c705db1a.py)\n",
        "\n"
      ]
    },
    {
      "cell_type": "markdown",
      "metadata": {
        "execution": {},
        "id": "5z6gWgr7DqA_"
      },
      "source": [
        "Now let's visualize the Frobenious norm of the model as we trained. You should see that the value of weights increases over the epochs."
      ]
    },
    {
      "cell_type": "code",
      "metadata": {
        "cellView": "form",
        "execution": {},
        "id": "bhWzr9iFDqA_",
        "outputId": "2182d549-cc8b-4b84-b7f9-5e9f9ad513e8",
        "colab": {
          "base_uri": "https://localhost:8080/",
          "height": 430
        }
      },
      "source": [
        "# @markdown Frobenious norm of the model\n",
        "plt.figure(figsize=(8, 6))\n",
        "plt.plot(model_norm)\n",
        "plt.ylabel('norm of the model')\n",
        "plt.xlabel('epochs')\n",
        "plt.title('Size of the model vs Epochs')  # Change title to Frobenious norm of the model\n",
        "plt.show()"
      ],
      "execution_count": 32,
      "outputs": [
        {
          "output_type": "display_data",
          "data": {
            "image/png": "[encoded data removed]",
            "text/plain": [
              "<Figure size 576x432 with 1 Axes>"
            ]
          },
          "metadata": {
            "tags": [],
            "image/png": {
              "width": 558,
              "height": 413
            },
            "needs_background": "light"
          }
        }
      ]
    },
    {
      "cell_type": "markdown",
      "metadata": {
        "execution": {},
        "id": "pIm8rCirDqA_"
      },
      "source": [
        "Finally, you can compare the Frobenius norm per layer in the model, before and after training."
      ]
    },
    {
      "cell_type": "code",
      "metadata": {
        "cellView": "form",
        "execution": {},
        "id": "fRU4OjMPDqBA",
        "outputId": "f3e2b4b5-4742-40d1-8f21-4f4b58820531",
        "colab": {
          "base_uri": "https://localhost:8080/",
          "height": 843
        }
      },
      "source": [
        "# @markdown Frobenius norm per layer before and after training\n",
        "normf, wsf, label = calculate_frobenius_norm(model)\n",
        "\n",
        "plot_weights(float(normi), label, wsi,\n",
        "             title='Weight Size Before Training')\n",
        "plot_weights(float(normf), label, wsf,\n",
        "             title='Weight Size After Training')"
      ],
      "execution_count": 33,
      "outputs": [
        {
          "output_type": "display_data",
          "data": {
            "image/png": "[encoded data removed]",
            "text/plain": [
              "<Figure size 576x432 with 1 Axes>"
            ]
          },
          "metadata": {
            "tags": [],
            "image/png": {
              "width": 558,
              "height": 413
            },
            "needs_background": "light"
          }
        },
        {
          "output_type": "display_data",
          "data": {
            "image/png": "[encoded data removed]",
            "text/plain": [
              "<Figure size 576x432 with 1 Axes>"
            ]
          },
          "metadata": {
            "tags": [],
            "image/png": {
              "width": 558,
              "height": 413
            },
            "needs_background": "light"
          }
        }
      ]
    },
    {
      "cell_type": "markdown",
      "metadata": {
        "execution": {},
        "id": "yx1VJzVWDqBA"
      },
      "source": [
        "## Section 2.2: Overfitting on Test Dataset\n",
        "\n",
        "\n",
        "In principle we should not touch our test set until after we have chosen all our hyperparameters. Were we to use the test data in the model selection process, there is a risk that we might overfit the test data. Then we would be in serious trouble. If we overfit our training data, there is always the evaluation on test data to keep us honest. But if we overfit the test data, how would we ever know?\n",
        "\n",
        "Note that there is another kind of overfitting: you do \"honest\" fitting on one set of images or posts, or medical records, but it may not generalize to other sets of images, posts or medical records.\n"
      ]
    },
    {
      "cell_type": "markdown",
      "metadata": {
        "execution": {},
        "id": "8s5sLVpEDqBA"
      },
      "source": [
        "#### Validation Dataset\n",
        "A common practice to address this problem is to split our data in three ways, using a validation dataset (or validation set) to tune the hyperparameters. Ideally, we would only touch the test data once, to assess the very best model or to compare a small number of models to each other, real-world test data is seldom discarded after just one use.\n",
        "\n"
      ]
    },
    {
      "cell_type": "markdown",
      "metadata": {
        "execution": {},
        "id": "XI0-zFY2DqBA"
      },
      "source": [
        "---\n",
        "# Section 3: Memorization\n",
        "\n",
        "*Time estimate: ~20 mins*\n"
      ]
    },
    {
      "cell_type": "markdown",
      "metadata": {
        "execution": {},
        "id": "SrdFUQj3DqBA"
      },
      "source": [
        "Given sufficiently large networks and enough training, Neural Networks can achieve almost 100% train accuracy by remembering each training example. This is bad, however, because it will mean that the model will fail when presented with new data.\n",
        "\n",
        "In this section we train three MLPs; one each on:\n",
        "\n",
        "\n",
        "1.   Animal Faces Dataset\n",
        "2.   A Completely Noisy Dataset (Random Shuffling of all labels)\n",
        "3.   A partially Noisy Dataset (Random Shuffling of 15% labels)\n"
      ]
    },
    {
      "cell_type": "markdown",
      "metadata": {
        "execution": {},
        "id": "rbmYINEWDqBA"
      },
      "source": [
        "Now, think for a couple of minutes as to what the train and test accuracies of each of these models might be, given that you train for sufficient time and use a powerful network."
      ]
    },
    {
      "cell_type": "markdown",
      "metadata": {
        "execution": {},
        "id": "i0bS1KTODqBB"
      },
      "source": [
        "First, let's create the required dataloaders for all three datasets. Notice how we split the data. We train on a fraction of the dataset as it will be faster to train and will overfit more clearly."
      ]
    },
    {
      "cell_type": "code",
      "metadata": {
        "execution": {},
        "id": "C5I_tPLNDqBB"
      },
      "source": [
        "# Dataloaders for the Dataset\n",
        "batch_size = 128\n",
        "classes = ('cat', 'dog', 'wild')\n",
        "\n",
        "# defining number of examples for train, val test\n",
        "len_train, len_val, len_test = 100, 100, 14430\n",
        "\n",
        "train_transform = transforms.Compose([\n",
        "     transforms.ToTensor(),\n",
        "     transforms.Normalize((0.5, 0.5, 0.5), (0.5, 0.5, 0.5))\n",
        "     ])\n",
        "data_path = pathlib.Path('.')/'afhq'  # using pathlib to be compatible with all OS's\n",
        "img_dataset = ImageFolder(data_path/'train', transform=train_transform)"
      ],
      "execution_count": 34,
      "outputs": []
    },
    {
      "cell_type": "code",
      "metadata": {
        "execution": {},
        "id": "Ngv5044SDqBB"
      },
      "source": [
        "# Dataloaders for the Original Dataset\n",
        "\n",
        "# For reproducibility\n",
        "g_seed = torch.Generator()\n",
        "g_seed.manual_seed(SEED)\n",
        "\n",
        "img_train_data, img_val_data,_ = torch.utils.data.random_split(img_dataset,\n",
        "                                                               [len_train,\n",
        "                                                                len_val,\n",
        "                                                                len_test])\n",
        "\n",
        "# Creating train_loader and Val_loader\n",
        "train_loader = torch.utils.data.DataLoader(img_train_data,\n",
        "                                           batch_size=batch_size,\n",
        "                                           num_workers=2,\n",
        "                                           worker_init_fn=seed_worker,\n",
        "                                           generator=g_seed)\n",
        "\n",
        "val_loader = torch.utils.data.DataLoader(img_val_data,\n",
        "                                         batch_size=1000,\n",
        "                                         num_workers=2,\n",
        "                                         worker_init_fn=seed_worker,\n",
        "                                         generator=g_seed)"
      ],
      "execution_count": 35,
      "outputs": []
    },
    {
      "cell_type": "code",
      "metadata": {
        "execution": {},
        "id": "T2hZ2hNCDqBB"
      },
      "source": [
        "# Dataloaders for the Random Dataset\n",
        "\n",
        "# For reproducibility\n",
        "g_seed = torch.Generator()\n",
        "g_seed.manual_seed(SEED + 1)\n",
        "\n",
        "# splitting randomized data into training and validation data\n",
        "data_path = pathlib.Path('.')/'afhq_random_32x32/afhq_random' # using pathlib to be compatible with all OS's\n",
        "img_dataset = ImageFolder(data_path/'train', transform=train_transform)\n",
        "random_img_train_data, random_img_val_data,_ = torch.utils.data.random_split(img_dataset, [len_train, len_val, len_test])\n",
        "\n",
        "# Randomized train and validation dataloader\n",
        "rand_train_loader = torch.utils.data.DataLoader(random_img_train_data,\n",
        "                                                batch_size=batch_size,\n",
        "                                                num_workers=2,\n",
        "                                                worker_init_fn=seed_worker,\n",
        "                                                generator=g_seed)\n",
        "\n",
        "rand_val_loader = torch.utils.data.DataLoader(random_img_val_data,\n",
        "                                              batch_size=1000,\n",
        "                                              num_workers=2,\n",
        "                                              worker_init_fn=seed_worker,\n",
        "                                              generator=g_seed)"
      ],
      "execution_count": 36,
      "outputs": []
    },
    {
      "cell_type": "code",
      "metadata": {
        "execution": {},
        "id": "B1kIs1J7DqBB"
      },
      "source": [
        "# Dataloaders for the Partially Random Dataset\n",
        "\n",
        "# For reproducibility\n",
        "g_seed = torch.Generator()\n",
        "g_seed.manual_seed(SEED + 1)\n",
        "\n",
        "# Splitting data between training and validation dataset for partially randomized data\n",
        "data_path = pathlib.Path('.')/'afhq_10_32x32/afhq_10' # using pathlib to be compatible with all OS's\n",
        "img_dataset = ImageFolder(data_path/'train', transform=train_transform)\n",
        "partially_random_train_data, partially_random_val_data,_ = torch.utils.data.random_split(img_dataset, [len_train, len_val, len_test])\n",
        "\n",
        "# Training and Validation loader for partially randomized data\n",
        "partial_rand_train_loader = torch.utils.data.DataLoader(partially_random_train_data,\n",
        "                                                        batch_size=batch_size,\n",
        "                                                        num_workers=2,\n",
        "                                                        worker_init_fn=seed_worker,\n",
        "                                                        generator=g_seed)\n",
        "\n",
        "partial_rand_val_loader = torch.utils.data.DataLoader(partially_random_val_data,\n",
        "                                                      batch_size=1000,\n",
        "                                                      num_workers=2,\n",
        "                                                      worker_init_fn=seed_worker,\n",
        "                                                      generator=g_seed)"
      ],
      "execution_count": 37,
      "outputs": []
    },
    {
      "cell_type": "markdown",
      "metadata": {
        "execution": {},
        "id": "Cm8XpGoWDqBC"
      },
      "source": [
        "Now let's define a model which has many parameters compared to the training dataset size, and train it on these datasets."
      ]
    },
    {
      "cell_type": "code",
      "metadata": {
        "execution": {},
        "id": "V7Uysqa9DqBC"
      },
      "source": [
        "# Network Class - Animal Faces\n",
        "class BigAnimalNet(nn.Module):\n",
        "  def __init__(self):\n",
        "    super(BigAnimalNet, self).__init__()\n",
        "    self.fc1 = nn.Linear(3*32*32, 124)\n",
        "    self.fc2 = nn.Linear(124, 64)\n",
        "    self.fc3 = nn.Linear(64, 3)\n",
        "\n",
        "  def forward(self, x):\n",
        "    x = x.view(x.shape[0], -1)\n",
        "    x = F.leaky_relu(self.fc1(x))\n",
        "    x = F.leaky_relu(self.fc2(x))\n",
        "    x = self.fc3(x)\n",
        "    output = F.log_softmax(x, dim=1)\n",
        "    return output"
      ],
      "execution_count": 38,
      "outputs": []
    },
    {
      "cell_type": "markdown",
      "metadata": {
        "execution": {},
        "id": "fXo8vufZDqBC"
      },
      "source": [
        "Before training our `BigAnimalNet()`, calculate the Frobenius norm again."
      ]
    },
    {
      "cell_type": "code",
      "metadata": {
        "execution": {},
        "id": "qh035GY1DqBC",
        "outputId": "e0444a23-2ff5-4529-ced2-8085464b0641",
        "colab": {
          "base_uri": "https://localhost:8080/"
        }
      },
      "source": [
        "set_seed(seed=SEED)\n",
        "normi, wsi, label = calculate_frobenius_norm(BigAnimalNet())"
      ],
      "execution_count": 39,
      "outputs": [
        {
          "output_type": "stream",
          "text": [
            "Random seed 2021 has been set.\n"
          ],
          "name": "stdout"
        }
      ]
    },
    {
      "cell_type": "markdown",
      "metadata": {
        "execution": {},
        "id": "hSrQZ8PXDqBC"
      },
      "source": [
        "Now, train our `BigAnimalNet()` model"
      ]
    },
    {
      "cell_type": "code",
      "metadata": {
        "execution": {},
        "id": "5_5H96c2DqBC",
        "outputId": "aa84409f-b4ae-4408-97af-9a92ddff8f53",
        "colab": {
          "base_uri": "https://localhost:8080/",
          "height": 513,
          "referenced_widgets": [
            "e50fd6d44abc4120bd342143e230ffe3",
            "5f64261d4181466fbad8da7f2d88ff77",
            "5f965748569942bbb694743afae85497",
            "f2b84facde4d4622a3e790fb8e230f61",
            "6f9e00f13c6348bfa20f63d951c0d3f6",
            "41c92bbe022445b6816e55e26188e80c",
            "f5b1253a30c1455fb8a369e02f4f0c2d",
            "c325e44ab09a434ca77b63e84ec4b6ac"
          ]
        }
      },
      "source": [
        "# Here we have 100 true train data.\n",
        "\n",
        "# Set the arguments\n",
        "args = {\n",
        "    'epochs': 200,\n",
        "    'lr': 5e-3,\n",
        "    'momentum': 0.9,\n",
        "    'device': DEVICE\n",
        "}\n",
        "\n",
        "\n",
        "# Initialize the network\n",
        "set_seed(seed=SEED)\n",
        "model = BigAnimalNet()\n",
        "\n",
        "start_time = time.time()\n",
        "# Train the network\n",
        "val_acc_pure, train_acc_pure, _, model = main(args=args,\n",
        "                                              model=model,\n",
        "                                              train_loader=train_loader,\n",
        "                                              val_loader=val_loader)\n",
        "end_time = time.time()\n",
        "\n",
        "print(f\"Time to memorize the dataset: {end_time - start_time}\")\n",
        "\n",
        "# Train and Test accuracy plot\n",
        "plt.figure(figsize=(8, 6))\n",
        "plt.plot(val_acc_pure, label='Val Accuracy Pure', c='red', ls='dashed')\n",
        "plt.plot(train_acc_pure, label='Train Accuracy Pure', c='red', ls='solid')\n",
        "plt.axhline(y=max(val_acc_pure), c='green', ls='dashed',\n",
        "            label='max Val accuracy pure')\n",
        "plt.title('Memorization')\n",
        "plt.ylabel('Accuracy (%)')\n",
        "plt.xlabel('Epoch')\n",
        "plt.legend()\n",
        "plt.show()"
      ],
      "execution_count": 40,
      "outputs": [
        {
          "output_type": "stream",
          "text": [
            "Random seed 2021 has been set.\n"
          ],
          "name": "stdout"
        },
        {
          "output_type": "display_data",
          "data": {
            "application/vnd.jupyter.widget-view+json": {
              "model_id": "e50fd6d44abc4120bd342143e230ffe3",
              "version_minor": 0,
              "version_major": 2
            },
            "text/plain": [
              "HBox(children=(FloatProgress(value=0.0, max=200.0), HTML(value='')))"
            ]
          },
          "metadata": {
            "tags": []
          }
        },
        {
          "output_type": "stream",
          "text": [
            "\n",
            "Time to memorize the dataset: 104.69474077224731\n"
          ],
          "name": "stdout"
        },
        {
          "output_type": "display_data",
          "data": {
            "image/png": "[encoded data removed]",
            "text/plain": [
              "<Figure size 576x432 with 1 Axes>"
            ]
          },
          "metadata": {
            "tags": [],
            "image/png": {
              "width": 558,
              "height": 413
            },
            "needs_background": "light"
          }
        }
      ]
    },
    {
      "cell_type": "code",
      "metadata": {
        "cellView": "form",
        "execution": {},
        "id": "fSm94CRODqBC",
        "outputId": "cf394d51-9c15-4474-c519-3adf764ae77f",
        "colab": {
          "base_uri": "https://localhost:8080/",
          "height": 843
        }
      },
      "source": [
        "# @markdown #### Frobenius norm for AnimalNet before and after training\n",
        "normf, wsf, label = calculate_frobenius_norm(model)\n",
        "\n",
        "plot_weights(float(normi), label, wsi, title='Weight Size Before Training')\n",
        "plot_weights(float(normf), label, wsf, title='Weight Size After Training')"
      ],
      "execution_count": 41,
      "outputs": [
        {
          "output_type": "display_data",
          "data": {
            "image/png": "[encoded data removed]",
            "text/plain": [
              "<Figure size 576x432 with 1 Axes>"
            ]
          },
          "metadata": {
            "tags": [],
            "image/png": {
              "width": 558,
              "height": 413
            },
            "needs_background": "light"
          }
        },
        {
          "output_type": "display_data",
          "data": {
            "image/png": "[encoded data removed]",
            "text/plain": [
              "<Figure size 576x432 with 1 Axes>"
            ]
          },
          "metadata": {
            "tags": [],
            "image/png": {
              "width": 558,
              "height": 413
            },
            "needs_background": "light"
          }
        }
      ]
    },
    {
      "cell_type": "markdown",
      "metadata": {
        "execution": {},
        "id": "sbLy9AqMDqBD"
      },
      "source": [
        "## Data Visualizer\n",
        "\n",
        "Before we train the model on a data with random labels, let's visualize and verify for ourselves that the data is random. Here, we have classes = (\"cat\", \"dog\", \"wild\"). \n",
        "\n",
        "We use `.permute()` method. `plt.imshow()` expects imput to be in numpy format and in the format $(P_x, P_y, 3)$, where $P_x$ and $P_y$ are the number of pixels along axis $x$ and $y$ respectively."
      ]
    },
    {
      "cell_type": "code",
      "metadata": {
        "execution": {},
        "id": "iiNcLUJ5DqBD",
        "outputId": "4233ee36-235d-4aec-ca09-131fbdc467ad",
        "colab": {
          "base_uri": "https://localhost:8080/",
          "height": 447
        }
      },
      "source": [
        "def visualize_data(dataloader):\n",
        "\n",
        "  for idx, (data, label) in enumerate(dataloader):\n",
        "    plt.figure(idx)\n",
        "    # Choose the datapoint you would like to visualize\n",
        "    index = 22\n",
        "\n",
        "    # choose that datapoint using index and permute the dimensions\n",
        "    # and bring the pixel values between [0, 1]\n",
        "    data = data[index].permute(1, 2, 0) * \\\n",
        "           torch.tensor([0.5, 0.5, 0.5]) + \\\n",
        "           torch.tensor([0.5, 0.5, 0.5])\n",
        "\n",
        "    # Convert the torch tensor into numpy\n",
        "    data = data.numpy()\n",
        "\n",
        "    plt.imshow(data)\n",
        "    plt.axis(False)\n",
        "    image_class = classes[label[index].item()]\n",
        "    print(f'The image belongs to : {image_class}')\n",
        "\n",
        "  plt.show()\n",
        "\n",
        "\n",
        "# Call the function\n",
        "visualize_data(rand_train_loader)"
      ],
      "execution_count": 42,
      "outputs": [
        {
          "output_type": "stream",
          "text": [
            "The image belongs to : cat\n"
          ],
          "name": "stdout"
        },
        {
          "output_type": "display_data",
          "data": {
            "image/png": "[encoded data removed]",
            "text/plain": [
              "<Figure size 576x432 with 1 Axes>"
            ]
          },
          "metadata": {
            "tags": [],
            "image/png": {
              "width": 413,
              "height": 413
            },
            "needs_background": "light"
          }
        }
      ]
    },
    {
      "cell_type": "markdown",
      "metadata": {
        "execution": {},
        "id": "4TFhJwprDqBD"
      },
      "source": [
        " Now let's train the network on the shuffled data and see if it memorizes."
      ]
    },
    {
      "cell_type": "code",
      "metadata": {
        "execution": {},
        "id": "pSXkvQTLDqBD",
        "outputId": "5369c943-d02d-41d5-eac2-0a348174ceb9",
        "colab": {
          "base_uri": "https://localhost:8080/",
          "height": 496,
          "referenced_widgets": [
            "b82303f9f8494a38955dd541f6e0bad5",
            "95c69165c0744a77909feae8ed45b4f6",
            "470957ea0fcb4218b8d14891f75a8d4a",
            "45ed166e0d684b56b8f1c5cb4980e0c3",
            "15be084f3e1d433fa24b2d377b33d9a2",
            "a5f97dba01fe4cd9846d2e1b0ce3f80c",
            "ae785ab916c14db8a112f675768a8673",
            "148a4834dec64e5f859f983214397d4b"
          ]
        }
      },
      "source": [
        "# Here we have 100 completely shuffled train data.\n",
        "\n",
        "# Set the arguments\n",
        "args = {\n",
        "    'epochs': 200,\n",
        "    'lr': 5e-3,\n",
        "    'momentum': 0.9,\n",
        "    'device': DEVICE\n",
        "}\n",
        "\n",
        "# Intialize the model\n",
        "set_seed(seed=SEED)\n",
        "model = BigAnimalNet()\n",
        "\n",
        "# Train the model\n",
        "val_acc_random, train_acc_random, _, model = main(args,\n",
        "                                                  model,\n",
        "                                                  rand_train_loader,\n",
        "                                                  val_loader)\n",
        "\n",
        "# Train and Test accuracy plot\n",
        "plt.figure(figsize=(8, 6))\n",
        "plt.plot(val_acc_pure,label='Val - Pure',c='red',ls = 'dashed')\n",
        "plt.plot(train_acc_pure,label='Train - Pure',c='red',ls = 'solid')\n",
        "plt.plot(val_acc_random,label='Val - Random',c='blue',ls = 'dashed')\n",
        "plt.plot(train_acc_random,label='Train - Random',c='blue',ls = 'solid')\n",
        "\n",
        "plt.title('Memorization')\n",
        "plt.ylabel('Accuracy (%)')\n",
        "plt.xlabel('Epoch')\n",
        "plt.legend()\n",
        "plt.show()"
      ],
      "execution_count": 43,
      "outputs": [
        {
          "output_type": "stream",
          "text": [
            "Random seed 2021 has been set.\n"
          ],
          "name": "stdout"
        },
        {
          "output_type": "display_data",
          "data": {
            "application/vnd.jupyter.widget-view+json": {
              "model_id": "b82303f9f8494a38955dd541f6e0bad5",
              "version_minor": 0,
              "version_major": 2
            },
            "text/plain": [
              "HBox(children=(FloatProgress(value=0.0, max=200.0), HTML(value='')))"
            ]
          },
          "metadata": {
            "tags": []
          }
        },
        {
          "output_type": "stream",
          "text": [
            "\n"
          ],
          "name": "stdout"
        },
        {
          "output_type": "display_data",
          "data": {
            "image/png": "[encoded data removed]",
            "text/plain": [
              "<Figure size 576x432 with 1 Axes>"
            ]
          },
          "metadata": {
            "tags": [],
            "image/png": {
              "width": 558,
              "height": 413
            },
            "needs_background": "light"
          }
        }
      ]
    },
    {
      "cell_type": "markdown",
      "metadata": {
        "execution": {},
        "id": "QRP2Kn70DqBD"
      },
      "source": [
        "Isn't it surprising to see that the NN was able to achieve 100% training accuracy on randomly shuffled labels? This is one of the reasons why training accuracy is not a good indicator of model performance."
      ]
    },
    {
      "cell_type": "markdown",
      "metadata": {
        "execution": {},
        "id": "9vr7aLcQDqBD"
      },
      "source": [
        "---\n",
        "# Section 4: Early Stopping\n",
        "\n",
        "*Time estimate: ~20 mins*"
      ]
    },
    {
      "cell_type": "code",
      "metadata": {
        "cellView": "form",
        "execution": {},
        "id": "Eacep6J-DqBE"
      },
      "source": [
        "# @title Video 4: Early Stopping\n",
        "from ipywidgets import widgets\n",
        "\n",
        "out2 = widgets.Output()\n",
        "with out2:\n",
        "  from IPython.display import IFrame\n",
        "  class BiliVideo(IFrame):\n",
        "      def __init__(self, id, page=1, width=400, height=300, **kwargs):\n",
        "          self.id=id\n",
        "          src = \"https://player.bilibili.com/player.html?bvid={0}&page={1}\".format(id, page)\n",
        "          super(BiliVideo, self).__init__(src, width, height, **kwargs)\n",
        "\n",
        "  video = BiliVideo(id=f\"BV1cB4y1K777\", width=854, height=480, fs=1)\n",
        "  print(\"Video available at https://www.bilibili.com/video/{0}\".format(video.id))\n",
        "  display(video)\n",
        "\n",
        "out1 = widgets.Output()\n",
        "with out1:\n",
        "  from IPython.display import YouTubeVideo\n",
        "  video = YouTubeVideo(id=f\"72IG2bX5l30\", width=854, height=480, fs=1, rel=0)\n",
        "  print(\"Video available at https://youtube.com/watch?v=\" + video.id)\n",
        "  display(video)\n",
        "\n",
        "out = widgets.Tab([out1, out2])\n",
        "out.set_title(0, 'Youtube')\n",
        "out.set_title(1, 'Bilibili')\n",
        "\n",
        "# add event to airtable\n",
        "atform.add_event('Video 4: Early Stopping')\n",
        "\n",
        "display(out)"
      ],
      "execution_count": null,
      "outputs": []
    },
    {
      "cell_type": "markdown",
      "metadata": {
        "execution": {},
        "id": "To3xShEvDqBE"
      },
      "source": [
        "\n",
        "Now that we have established that the validation accuracy reaches the peak well before the model overfits, we want to somehow stop the training early. You should have also observed from the above plots that the train/test loss on real data is not very smooth and hence you might guess that the choice of epoch can play a very large role on the val/test accuracy of your model. \n",
        "\n",
        "Early stopping stops training when the validation accuracies stop increasing. \n",
        "\n",
        "<center><img src=\"https://raw.githubusercontent.com/NeuromatchAcademy/course-content-dl/main/tutorials/static/early-stopping-machine-learning-5422207.jpg\" alt=\"Overfitting\" width=\"600\"/></center>"
      ]
    },
    {
      "cell_type": "markdown",
      "metadata": {
        "execution": {},
        "id": "gzWoIXayDqBE"
      },
      "source": [
        "## Coding Exercise 4: Early Stopping\n",
        "Reimplement the main function to include early stopping as described above. Then run the code below to validate your implementation."
      ]
    },
    {
      "cell_type": "code",
      "metadata": {
        "execution": {},
        "id": "kipfZw6ODqBE"
      },
      "source": [
        "def early_stopping_main(args, model, train_loader, val_loader):\n",
        "\n",
        "  ####################################################################\n",
        "  # Fill in all missing code below (...),\n",
        "  # then remove or comment the line below to test your function\n",
        "  # raise NotImplementedError(\"Complete the early_stopping_main function\")\n",
        "  ####################################################################\n",
        "  device = args['device']\n",
        "  model = model.to(device)\n",
        "  optimizer = optim.SGD(model.parameters(),\n",
        "                        lr=args['lr'],\n",
        "                        momentum=args['momentum'])\n",
        "\n",
        "  best_acc = 0.0\n",
        "  best_epoch = 0\n",
        "\n",
        "  # Number of successive epochs that you want to wait before stopping training process\n",
        "  patience = 20\n",
        "\n",
        "  # Keps track of number of epochs during which the val_acc was less than best_acc\n",
        "  wait = 0\n",
        "\n",
        "  val_acc_list, train_acc_list = [], []\n",
        "  for epoch in tqdm(range(args['epochs'])):\n",
        "\n",
        "    # train the model\n",
        "    trained_model = ...\n",
        "\n",
        "    # calculate training accuracy\n",
        "    train_acc = ...\n",
        "\n",
        "    # calculate validation accuracy\n",
        "    val_acc = ...\n",
        "\n",
        "    if (val_acc > best_acc):\n",
        "      best_acc = val_acc\n",
        "      best_epoch = epoch\n",
        "      best_model = copy.deepcopy(trained_model)\n",
        "      wait = 0\n",
        "    else:\n",
        "      wait += 1\n",
        "\n",
        "    if (wait > patience):\n",
        "      print(f'early stopped on epoch: {epoch}')\n",
        "      break\n",
        "\n",
        "    train_acc_list.append(train_acc)\n",
        "    val_acc_list.append(val_acc)\n",
        "\n",
        "  return val_acc_list, train_acc_list, best_model, best_epoch\n",
        "\n",
        "\n",
        "# add event to airtable\n",
        "atform.add_event('Coding Exercise 4: Early Stopping')\n",
        "\n",
        "# Set the arguments\n",
        "args = {\n",
        "    'epochs': 200,\n",
        "    'lr': 5e-4,\n",
        "    'momentum': 0.99,\n",
        "    'device': DEVICE\n",
        "}\n",
        "\n",
        "# Initialize the model\n",
        "set_seed(seed=SEED)\n",
        "model = AnimalNet()\n",
        "\n",
        "## Uncomment to test\n",
        "# val_acc_earlystop, train_acc_earlystop, best_model, best_epoch = early_stopping_main(args, model, train_loader, val_loader)\n",
        "# print(f'Maximum Validation Accuracy is reached at epoch: {best_epoch:2d}')\n",
        "# early_stop_plot(train_acc_earlystop, val_acc_earlystop, best_epoch)"
      ],
      "execution_count": null,
      "outputs": []
    },
    {
      "cell_type": "markdown",
      "metadata": {
        "execution": {},
        "id": "I-cN7-kzDqBE"
      },
      "source": [
        "[*Click for solution*](https://github.com/NeuromatchAcademy/course-content-dl/tree/main//tutorials/W1D5_Regularization/solutions/W1D5_Tutorial1_Solution_62d845ba.py)\n",
        "\n",
        "*Example output:*\n",
        "\n",
        "<img alt='Solution hint' align='left' width=1120.0 height=832.0 src=https://raw.githubusercontent.com/NeuromatchAcademy/course-content-dl/main/tutorials/W1D5_Regularization/static/W1D5_Tutorial1_Solution_62d845ba_3.png>\n",
        "\n"
      ]
    },
    {
      "cell_type": "markdown",
      "metadata": {
        "execution": {},
        "id": "xK_FjgxVDqBE"
      },
      "source": [
        "## Think! 4: Early Stopping\n",
        "\n",
        "Discuss among your pod why or why not:\n",
        "\n",
        "*   Do you think early stopping can be harmful for training your network?"
      ]
    },
    {
      "cell_type": "code",
      "metadata": {
        "cellView": "form",
        "execution": {},
        "id": "Bxr8ZFMmDqBF"
      },
      "source": [
        "# @title Student Response\n",
        "from ipywidgets import widgets\n",
        "\n",
        "\n",
        "text=widgets.Textarea(\n",
        "   value='Type your answer here and click on `Submit!`',\n",
        "   placeholder='Type something',\n",
        "   description='',\n",
        "   disabled=False\n",
        ")\n",
        "\n",
        "button = widgets.Button(description=\"Submit!\")\n",
        "\n",
        "display(text,button)\n",
        "\n",
        "def on_button_clicked(b):\n",
        "   atform.add_answer('q3', text.value)\n",
        "   print(\"Submission successful!\")\n",
        "\n",
        "\n",
        "button.on_click(on_button_clicked)"
      ],
      "execution_count": null,
      "outputs": []
    },
    {
      "cell_type": "markdown",
      "metadata": {
        "execution": {},
        "id": "CJAHon8WDqBF"
      },
      "source": [
        "[*Click for solution*](https://github.com/NeuromatchAcademy/course-content-dl/tree/main//tutorials/W1D5_Regularization/solutions/W1D5_Tutorial1_Solution_683d27d3.py)\n",
        "\n"
      ]
    },
    {
      "cell_type": "markdown",
      "metadata": {
        "execution": {},
        "id": "Gl4tYwbtDqBF"
      },
      "source": [
        "---\n",
        "# Summary\n",
        "\n",
        "In this tutorial, you have been introduced to the regularization technique, where we have described it as shrinkage. We have learned about overfitting, one of the worst caveats in deep learning, and finally we learned a method of reducing overfitting in our models called early-stopping.\n",
        "\n",
        "If you have time left, you can learn how a model behaves when is trained with randomized labels."
      ]
    },
    {
      "cell_type": "code",
      "metadata": {
        "cellView": "form",
        "execution": {},
        "id": "FUc5McUjDqBF"
      },
      "source": [
        "# @title Airtable Submission Link\n",
        "from IPython import display as IPydisplay\n",
        "IPydisplay.HTML(\n",
        "   f\"\"\"\n",
        " <div>\n",
        "   <a href= \"{atform.url()}\" target=\"_blank\">\n",
        "   <img src=\"https://github.com/NeuromatchAcademy/course-content-dl/blob/main/tutorials/static/AirtableSubmissionButton.png?raw=1\"\n",
        " alt=\"button link to Airtable\" style=\"width:410px\"></a>\n",
        "   </div>\"\"\" )"
      ],
      "execution_count": null,
      "outputs": []
    },
    {
      "cell_type": "markdown",
      "metadata": {
        "execution": {},
        "id": "Ny7dHCsyDqBF"
      },
      "source": [
        "---\n",
        "# Bonus: Train with randomized labels"
      ]
    },
    {
      "cell_type": "markdown",
      "metadata": {
        "execution": {},
        "id": "pO13EA11DqBF"
      },
      "source": [
        "In this part, let's train on a partially shuffled dataset where 15% of the labels are noisy."
      ]
    },
    {
      "cell_type": "code",
      "metadata": {
        "execution": {},
        "id": "70kZwjW9DqBF"
      },
      "source": [
        "# Here we have 15% partially shuffled train data.\n",
        "\n",
        "# Set the arguments\n",
        "args = {\n",
        "    'epochs': 200,\n",
        "    'lr': 5e-3,\n",
        "    'momentum': 0.9,\n",
        "    'device': DEVICE\n",
        "}\n",
        "\n",
        "# Intialize the model\n",
        "set_seed(seed=SEED)\n",
        "model = BigAnimalNet()\n",
        "\n",
        "# Train the model\n",
        "val_acc_shuffle, train_acc_shuffle, _, _, = main(args,\n",
        "                                                 model,\n",
        "                                                 partial_rand_train_loader,\n",
        "                                                 val_loader)\n",
        "\n",
        "# train and test acc plot\n",
        "plt.figure(figsize=(8, 6))\n",
        "plt.plot(val_acc_shuffle, label='Val Accuracy shuffle', c='red', ls='dashed')\n",
        "plt.plot(train_acc_shuffle, label='Train Accuracy shuffle', c='red', ls='solid')\n",
        "plt.axhline(y=max(val_acc_shuffle), c='green', ls='dashed',\n",
        "            label='Max Val Accuracy shuffle')\n",
        "plt.title('Memorization')\n",
        "plt.ylabel('Accuracy (%)')\n",
        "plt.xlabel('Epoch')\n",
        "plt.legend()\n",
        "plt.show()"
      ],
      "execution_count": null,
      "outputs": []
    },
    {
      "cell_type": "code",
      "metadata": {
        "cellView": "form",
        "execution": {},
        "id": "qN_AGIuvDqBG"
      },
      "source": [
        "#@markdown #### Plotting them all together (Run Me!)\n",
        "plt.figure(figsize=(8, 6))\n",
        "plt.plot(val_acc_pure,label='Val - Pure',c='red',ls = 'dashed')\n",
        "plt.plot(train_acc_pure,label='Train - Pure',c='red',ls = 'solid')\n",
        "plt.plot(val_acc_random,label='Val - Random',c='blue',ls = 'dashed')\n",
        "plt.plot(train_acc_random,label='Train - Random',c='blue',ls = 'solid')\n",
        "plt.plot(val_acc_shuffle, label='Val - shuffle', c='y', ls='dashed')\n",
        "plt.plot(train_acc_shuffle, label='Train - shuffle', c='y', ls='solid')\n",
        "\n",
        "plt.title('Memorization')\n",
        "plt.ylabel('Accuracy (%)')\n",
        "plt.xlabel('Epoch')\n",
        "plt.legend()\n",
        "plt.show()"
      ],
      "execution_count": null,
      "outputs": []
    },
    {
      "cell_type": "markdown",
      "metadata": {
        "execution": {},
        "id": "KXP_YQA1DqBG"
      },
      "source": [
        "## Think! Bonus: Does it Generalize?\n",
        "Given that the Neural Network fit/memorize the training data perfectly:\n",
        "\n",
        "*   Do you think it generalizes well?\n",
        "*   What makes you think it does or doesn't?\n"
      ]
    },
    {
      "cell_type": "markdown",
      "metadata": {
        "execution": {},
        "id": "Ktp-y7YGDqBG"
      },
      "source": [
        "[*Click for solution*](https://github.com/NeuromatchAcademy/course-content-dl/tree/main//tutorials/W1D5_Regularization/solutions/W1D5_Tutorial1_Solution_8f1d49a8.py)\n",
        "\n"
      ]
    },
    {
      "cell_type": "markdown",
      "metadata": {
        "execution": {},
        "id": "Xm2egMB2DqBG"
      },
      "source": [
        "\n",
        "Also it is interesting to note that sometimes the model trained on slightly shuffled data does slightly better than the one trained on pure data.  Shuffling some of the data is a form of regularization--one of many ways of adding noise to the training data."
      ]
    }
  ]
}